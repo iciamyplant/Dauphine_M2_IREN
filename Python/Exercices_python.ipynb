{
 "cells": [
  {
   "cell_type": "markdown",
   "metadata": {},
   "source": [
    "# Mode d'emploi\n",
    "Répondez aux questions directement dans le notebook.<br>\n",
    "Les exercices sont repris de la série proposée par Gabrel, Murat, Lazard et Manouvrier dans le cadre du Master IASD  (2018/2019)"
   ]
  },
  {
   "cell_type": "markdown",
   "metadata": {},
   "source": [
    "# Exercice 1\n",
    "Etant donnés la taille (en cm) et l'âge d'un individu, on donne la formule suivante du poids idéal : <br> *0.9(taille - 100 + âge/10).* Ecrire et tester un programme python qui lit la taille et l'âge d'un utilisateur et affiche son poids idéal.<br>\n",
    "Ce programme doit ensuite lire le poids actuel de l'utilisateur et afficher le nombre de kilos à prendre ou à perdre pour atteindre de poids idéal.<br>\n",
    "On distiguera trois cas :<br>\n",
    "- Vous devez perre $\\ x $ kilos\n",
    "- Votre poids est parfait\n",
    "- Vous devez prendre $\\ x $ kilos"
   ]
  },
  {
   "cell_type": "code",
   "execution_count": 1,
   "metadata": {},
   "outputs": [],
   "source": [
    "# Votre code ici pour l'exercice 1"
   ]
  },
  {
   "cell_type": "markdown",
   "metadata": {},
   "source": [
    "# Exercice 2\n",
    "Ecrire un programme quit lit un réel $\\ x \\ge 0$ et un entier $\\ n \\ge 0$ et affiche la valeur de $\\ x^n $ (sans utiliser l'opérateur puissance).<br>\n",
    "Testez votre programme pour les valeurs suivante de $\\ x $ et de $\\ n $ :<br>\n",
    "- $\\ x = 4$ et $\\ n = 3 $ <br>\n",
    "- $\\ x = 5$ et $\\ n = 0 $ <br>\n",
    "- $\\ x = 0$ et $\\ n = 2 $ <br>\n",
    "- $\\ x = 0$ et $\\ n = 0 $ <br>"
   ]
  },
  {
   "cell_type": "code",
   "execution_count": 2,
   "metadata": {},
   "outputs": [],
   "source": [
    "# Votre code ici pour l'exercice 2"
   ]
  },
  {
   "cell_type": "markdown",
   "metadata": {},
   "source": [
    "# Exercice 3\n",
    "Ecrire un programme qui lit un entier strictement positif, affiche la somme de tous ses diviseurs stricts (c'est à dire différents du nombre lui-même) et précise si le nombre est prmier."
   ]
  },
  {
   "cell_type": "code",
   "execution_count": 3,
   "metadata": {},
   "outputs": [],
   "source": [
    "# Votre code ici pour l'exercice 3"
   ]
  },
  {
   "cell_type": "markdown",
   "metadata": {},
   "source": [
    "# Exercice 4\n",
    "Ecrire une fonction Cube()qui calcule le cube d'un réel $\\ x $ passé en argument.<br>\n",
    "Ecrire une fonction Volume() qui calcule le volume d'une sphère de rayon $\\ r $ passé en argument en appelant la fonction Cube() précédente. Pour rappel, le volume d'une sphère se calcule par la formule :$\\ V = (4/3). \\pi. r^3  $ <br>\n",
    "Testez votre fonction Volume() en affichant le volume d'une sphère dont le rayon est saisi par l'utilisateur."
   ]
  },
  {
   "cell_type": "code",
   "execution_count": 4,
   "metadata": {},
   "outputs": [],
   "source": [
    "# Votre code ici pour l'exercice 4"
   ]
  },
  {
   "cell_type": "markdown",
   "metadata": {},
   "source": [
    "# Exercice 5\n",
    "Soit un cercle de, de centre $\\ (0,0) $ et de rayon $\\ r=1 $, inscrit dans un carré de coté $\\ l=2 $. l'air du carré vaut 4 et l'air du cercle vaut $\\ \\pi $. En choisissant $\\ N $ points aléatoires (à l'aide d'une distribution uniforme) à l'intérieur du carré, chaque point a une probabilité $\\ p= \\frac{\\text{aire du cercle}}{\\text{aire du carré}}= \\frac{\\pi}{4} $ de se retrouver dans le cercle.<br>\n",
    "Pour estimer la valeur de $\\ \\pi $, il suffit de trouver parmi les $\\ N $ points aléatoirement le nombre $\\ n $ de points se trouvant effectivement dans le cercle car :$\\ p=\\frac{n}{N}\\approx\\frac{\\pi}{4} $ d'où : $\\\n",
    "\\pi \\approx 4.\\frac{n}{N} $ <br>\n",
    "Déterminez une approximation de $\\ \\pi $ par cette méthode. Pour cela procèdez en $\\ N $ itérations. A chaque itération, tirez aléatoirement les coordonnées $\\ (x,y) $ d'un point entre -1 et 1 (fonction uniform() du module random), calculez la distance entre ce point de coordonnées $\\ (x,y) $ et le centre du cercle (cette distance est égale à $\\ \\sqrt[]{x^2+y^2} $), déterminez si cette distance est inférieure au rayon du cercle qui est égale à 1. Si c'est le cas, incrémentez le compteur $\\ n $ de 1.<br>\n",
    "Quelle est la qualité de l'approximation de $\\ \\pi $ pour:<br>\n",
    "- $\\ N=50 $\n",
    "- $\\ N=500 $\n",
    "- $\\ N=5000 $\n",
    "                               "
   ]
  },
  {
   "cell_type": "code",
   "execution_count": 5,
   "metadata": {},
   "outputs": [],
   "source": [
    "# Votre code ici pour l'exercice 5"
   ]
  },
  {
   "cell_type": "markdown",
   "metadata": {},
   "source": [
    "# Exercice 6\n",
    "Ecrivez la fonction récursive (fonction qui fait appel à elle-même) qui permet d'obtenir la valeur de la suite $\\ U_{n} $, pour un $\\ n $ donné en argument et définie par:<br>\n",
    "$\\ \\begin{cases}U_{0}= 10\\\\U_{n}=0.2.U_{n-1}+3\\end{cases} $"
   ]
  },
  {
   "cell_type": "code",
   "execution_count": 6,
   "metadata": {},
   "outputs": [],
   "source": [
    "# Votre code ici pour l'exercice 6"
   ]
  },
  {
   "cell_type": "markdown",
   "metadata": {},
   "source": [
    "# Exercice 7\n",
    "Soit deux listes d'entiers $\\ L1$ et $\\ L2$. Ecrire une fonction qui prend $\\ L1$ et $\\ L2$ en arguments et renvoie la liste $\\ LRes$ qui contient la somme des éléments de même rang de la liste $\\ L1$ et $\\ L2$ auquelles on ajoute les éléments restant de la liste la plus longue.<br>\n",
    "Testez votre fonction pour $\\ L1=[1,2,3,4,5] \\text{ et } L2=[2,15,18]  $ qui devrait donner  $\\ LRes=[3,17,21,4,5]$"
   ]
  },
  {
   "cell_type": "code",
   "execution_count": 7,
   "metadata": {},
   "outputs": [],
   "source": [
    "# Votre code ici pour l'exercice 7"
   ]
  },
  {
   "cell_type": "markdown",
   "metadata": {},
   "source": [
    "# Exercice 8\n",
    "Etant donné une liste $\\ L$ et un élément $\\ x$, ecrire un programme qui permet de supprimer toutes les occurences de l'élément $\\ x$ dans la liste $\\ L$.<br>\n",
    "Testez votre programme sur la liste $\\ L=[0,1,2,0,3,0,0]$ avec $\\ x=0$"
   ]
  },
  {
   "cell_type": "code",
   "execution_count": 8,
   "metadata": {},
   "outputs": [],
   "source": [
    "# Votre code ici pour l'exercice 8"
   ]
  },
  {
   "cell_type": "markdown",
   "metadata": {},
   "source": [
    "# Exercice 9\n",
    "Après un examen, les notes des étudiants sont les suivantes:<br>\n",
    "Florian:abs, Antoine:12, Clara:15, Robert:0, Agathe:0, Erwan: 7, Zoe:20, Xavier:11, Didier: 20,Alain:2, Laila:12.<br>\n",
    "- Créer un dictionnaire notes2020 pour stocker les noms des étudiants (les clés) et les notes associées (les valeurs)\n",
    "- Ecrire une fonction qui permet de supprimer du dictionnaire les informations relatives aux élèves absents\n",
    "- Ecrire une fonction qui permet de calculer puis afficher la note moyenne, la note minimale et la note maximale\n",
    "- Ecrire une fonction qui renvoie \"admis\" ou \"recalé\" si la note est respectivement supérieure ou égale à 10 et inférieure à 10.\n",
    "- Ecrire une fonction qui renvoie deux listes : L_admis qui contient les noms de personnes admises et L_recalesqui contient la liste des personnes recalées\n",
    "- Ecrire une fonction permettant d'ajouter dans le dictionnaire des couples (nom,note)\n",
    "    "
   ]
  },
  {
   "cell_type": "code",
   "execution_count": 9,
   "metadata": {},
   "outputs": [],
   "source": [
    "# Votre code ici pour l'exercice 9"
   ]
  },
  {
   "cell_type": "markdown",
   "metadata": {},
   "source": [
    "# Exercice 10\n",
    "Ecrire une fonction qui prend en paramètre une chaîne de caractères et renvoie un dictionnaire mettant en correspondance chaque caratctère apparaisssant dans la chaîne avec le nombre de ses occurences dans la chaîne.<br>\n",
    "Par exemple, si la fonction prend en paramètre la chaîne \"toto\", le dictionnaire renvoyé par la fonction aura pour valeur: {'t' : 2, 'o' : 2}."
   ]
  },
  {
   "cell_type": "code",
   "execution_count": null,
   "metadata": {},
   "outputs": [],
   "source": [
    "# Votre code ici pour l'exercice 10"
   ]
  }
 ],
 "metadata": {
  "kernelspec": {
   "display_name": "Python 3",
   "language": "python",
   "name": "python3"
  },
  "language_info": {
   "codemirror_mode": {
    "name": "ipython",
    "version": 3
   },
   "file_extension": ".py",
   "mimetype": "text/x-python",
   "name": "python",
   "nbconvert_exporter": "python",
   "pygments_lexer": "ipython3",
   "version": "3.7.5"
  }
 },
 "nbformat": 4,
 "nbformat_minor": 4
}
