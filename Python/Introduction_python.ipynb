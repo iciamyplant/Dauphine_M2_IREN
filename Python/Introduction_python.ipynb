{
 "cells": [
  {
   "cell_type": "markdown",
   "metadata": {},
   "source": [
    "# Plan du notebook\n",
    "I.   Introduction <br>\n",
    "II.  Valeurs, Types, Variables <br>\n",
    "III. Instructions conditionnelles <br>\n",
    "IV.  Boucle <br>\n",
    "V.   Types de données séquentielles <br>\n",
    "VI.  Fonctions"
   ]
  },
  {
   "cell_type": "markdown",
   "metadata": {},
   "source": [
    "# I. Introduction\n",
    "- Né en 1989\n",
    "- Actuellement version 3.8 (Distribution anaconda, https://www.anaconda.com/products/individual)\n",
    "- Langage interprété orienté objet\n",
    "- Typage dynamique\n",
    "- Adapté au ML grâce au bibliothèques: ScikitLearn, Pandas, Numpy, Matplotlib"
   ]
  },
  {
   "cell_type": "markdown",
   "metadata": {},
   "source": [
    "# II. Valeurs, Types, Variables\n",
    "Un programme manipule des valeurs typées (int, float, str, bool)<br>\n",
    "Il n'y a pas de déclaration explicite des variables et de leur type (typage dynamique)<br>\n",
    "L'affectation d'une valeur à une variable se fait à l'aide de l'opérateur \"=\"\n",
    "\n",
    "**L'identificateur d'une variable dans Python :**<br>\n",
    "- Doit être constitué de caractères alphanumériques réguliers (pas de caractères spéciaux) non accentuées et sans espaces\n",
    "- Ne doit pas débuter par un nombre ni par \"_\"\n",
    "- Ne doit pas correspondre à un mot réservé du langage (for, if, while, and, return,False, True, with,...)\n",
    "- Est sensible à la casse\n"
   ]
  },
  {
   "cell_type": "markdown",
   "metadata": {},
   "source": [
    "## II.1. Affectation et affichage"
   ]
  },
  {
   "cell_type": "code",
   "execution_count": 1,
   "metadata": {},
   "outputs": [
    {
     "name": "stdout",
     "output_type": "stream",
     "text": [
      "Var_1 = 10\n"
     ]
    }
   ],
   "source": [
    "# Exemple d'affectation d'une valeur entière à une variable \"Var_1\"\n",
    "Var_1=10\n",
    "# Affichage du contenu de la variable \"Var_1\"\n",
    "print(\"Var_1 =\", Var_1)"
   ]
  },
  {
   "cell_type": "code",
   "execution_count": 3,
   "metadata": {},
   "outputs": [
    {
     "name": "stdout",
     "output_type": "stream",
     "text": [
      "Var_2 = 20\n"
     ]
    }
   ],
   "source": [
    "# Exemple d'affectation d'une valeur entière calculée à partir de la valeur Var_1 à une variable \"Var_2\"\n",
    "Var_2=2*Var_1\n",
    "# Affichage du contenu de la variable \"Var_2\"\n",
    "print(\"Var_2 =\", Var_2)"
   ]
  },
  {
   "cell_type": "code",
   "execution_count": 4,
   "metadata": {},
   "outputs": [
    {
     "name": "stdout",
     "output_type": "stream",
     "text": [
      "Var_1 = 15\n"
     ]
    }
   ],
   "source": [
    "# Exemple de réaffctation d'une nouvelle valeur à une variable existante\n",
    "Var_1=15\n",
    "# Affichage du contenu de la variable \"Var_1\"\n",
    "print(\"Var_1 =\", Var_1)"
   ]
  },
  {
   "cell_type": "markdown",
   "metadata": {},
   "source": [
    "**Question**<br>\n",
    "La valeur de Var_2 a-t-elle changé ? Pourquoi ?"
   ]
  },
  {
   "cell_type": "code",
   "execution_count": 5,
   "metadata": {},
   "outputs": [
    {
     "name": "stdout",
     "output_type": "stream",
     "text": [
      "20\n"
     ]
    }
   ],
   "source": [
    "# Affichez ici la valeur de Var_2 pour répondre à la question\n"
   ]
  },
  {
   "cell_type": "code",
   "execution_count": 6,
   "metadata": {},
   "outputs": [
    {
     "data": {
      "text/plain": [
       "int"
      ]
     },
     "execution_count": 6,
     "metadata": {},
     "output_type": "execute_result"
    }
   ],
   "source": [
    "# Pour connaitre le type d'une variable, il suffit d'y appliquer la fonction type(identificateur)\n",
    "type(Var_1)"
   ]
  },
  {
   "cell_type": "code",
   "execution_count": 7,
   "metadata": {},
   "outputs": [
    {
     "name": "stdout",
     "output_type": "stream",
     "text": [
      "Var_1 = 15.0\n",
      "Var_2 = 10\n"
     ]
    }
   ],
   "source": [
    "# Il est possible avec Python de faire des affectations multiples comme suit\n",
    "Var_1,Var_2=15.0,10\n",
    "\n",
    "print(\"Var_1 =\", Var_1)\n",
    "print(\"Var_2 =\", Var_2)"
   ]
  },
  {
   "cell_type": "markdown",
   "metadata": {},
   "source": [
    "**Question**<br>\n",
    "Quel est le nouveau type de Var_1 ? Pourquoi ?"
   ]
  },
  {
   "cell_type": "code",
   "execution_count": 7,
   "metadata": {},
   "outputs": [
    {
     "data": {
      "text/plain": [
       "float"
      ]
     },
     "execution_count": 7,
     "metadata": {},
     "output_type": "execute_result"
    }
   ],
   "source": [
    "# Affichez ici le type de Var_1 pour répondre à la question\n"
   ]
  },
  {
   "cell_type": "markdown",
   "metadata": {},
   "source": [
    "## II.2. Saisie extérieure\n",
    "Il est possible d'affcter une valeur à une variable à partir d'une saisie extérieure grâce à l'instruction input()"
   ]
  },
  {
   "cell_type": "code",
   "execution_count": 8,
   "metadata": {},
   "outputs": [
    {
     "name": "stdin",
     "output_type": "stream",
     "text": [
      "Entrez une valeur :  12\n"
     ]
    }
   ],
   "source": [
    "# Affecter une nouvelle valeur à Var_1 à partir d'une saisie extérieur\n",
    "Var_1=input(\"Entrez une valeur : \")"
   ]
  },
  {
   "cell_type": "code",
   "execution_count": 9,
   "metadata": {},
   "outputs": [
    {
     "name": "stdout",
     "output_type": "stream",
     "text": [
      "12\n"
     ]
    }
   ],
   "source": [
    "# Affichez ici la nouvelle valeur de Var_1\n",
    "print(Var_1)"
   ]
  },
  {
   "cell_type": "markdown",
   "metadata": {},
   "source": [
    "**Remarque:** La conversion de type  dans Python se fait à l'aide des instruction int(), float(),str() ou bool()"
   ]
  },
  {
   "cell_type": "code",
   "execution_count": 10,
   "metadata": {},
   "outputs": [
    {
     "data": {
      "text/plain": [
       "12.0"
      ]
     },
     "execution_count": 10,
     "metadata": {},
     "output_type": "execute_result"
    }
   ],
   "source": [
    "float(Var_1)"
   ]
  },
  {
   "cell_type": "markdown",
   "metadata": {},
   "source": [
    "# III Instructions conditionnelles"
   ]
  },
  {
   "cell_type": "markdown",
   "metadata": {},
   "source": [
    "Les instructions conditionnelles if, else, elif permettent d'executer un bloc d'instructions selon le statut (vrai ou faux) d'une condition (expression booléenne)\n",
    "**Exemple : Nombre de solutions réelles d'une équation du second degré**<br>\n",
    "**Rappel :** <br>\n",
    "Une équation du second degré s'écrit comme comme suit : $\\ a x^2+b x+c = 0 $ <br>\n",
    "et son determinent se calcule comme suit :$\\ det=b^2-4ac $ <br>\n",
    "\n",
    "- Elle admet deux solutions réelles si le determinent est strictement positif\n",
    "- Elle admet une solution réelle si son determinent est nul\n",
    "- Elle n'admet aucune solution réelle si le determinent est strictement négatif"
   ]
  },
  {
   "cell_type": "code",
   "execution_count": 1,
   "metadata": {},
   "outputs": [
    {
     "name": "stdin",
     "output_type": "stream",
     "text": [
      "Entrez le paramètre a :  2\n",
      "Entrez le paramètre b :  6\n",
      "Entrez le paramètre c :  -4\n"
     ]
    },
    {
     "name": "stdout",
     "output_type": "stream",
     "text": [
      "L'équation admet deux solutions réelles\n"
     ]
    }
   ],
   "source": [
    "# Affectation des valeurs à a, b et c\n",
    "a=float(input(\"Entrez le paramètre a : \"))\n",
    "b=float(input(\"Entrez le paramètre b : \"))\n",
    "c=float(input(\"Entrez le paramètre c : \"))\n",
    "\n",
    "# Calcul du determinent\n",
    "det=b**2-4*a*c\n",
    "\n",
    "#Instruction conditionnelle\n",
    "if (det<0):\n",
    "    print(\"L'équation n'admet aucune solution réelle\")\n",
    "    \n",
    "elif (det==0):\n",
    "    print(\"L'équation admet une seule solution réelle\")\n",
    "\n",
    "else :\n",
    "    print(\"L'équation admet deux solutions réelles\")"
   ]
  },
  {
   "cell_type": "markdown",
   "metadata": {},
   "source": [
    "**Remarque importante**<br>\n",
    "Les blocs d'instruction dans Python sont repérés grâce à une logique d'indentation (retrait du code vers la droite) qui remplace, pour des raisons de lisibilité, les habituelles accolades qu'on retrouve dans d'autres langages de programmation (java, C,...)"
   ]
  },
  {
   "cell_type": "markdown",
   "metadata": {},
   "source": [
    "**Comparateurs et opérateurs logiques**<br>\n",
    "Les comparateurs :<br>\n",
    "- Egalité : ==\n",
    "- Inégalité (différence) : !=\n",
    "- Supériorité : >\n",
    "- Infériorité : <\n",
    "- Supériorité ou égalité : >=\n",
    "- Infériorité ou égalité : <= <br>\n",
    "\n",
    "Les opérateurs logiques :<br>\n",
    "- Et : and \n",
    "- Ou : or\n",
    "- Non : not"
   ]
  },
  {
   "cell_type": "markdown",
   "metadata": {},
   "source": [
    "**Exercice :**<br>\n",
    "Ecrivez un programme qui demande à l'utiliateur de saisir une année (ex:1998) et qui affiche si celle-ci est bissextile ou pas <br>\n",
    "*Rappel : une année est bissextile si* <br>\n",
    "   - elle est divisible par 4 et non divisible par 100<br>\n",
    "   - ou elle est divisible par 400"
   ]
  },
  {
   "cell_type": "code",
   "execution_count": 16,
   "metadata": {},
   "outputs": [
    {
     "name": "stdout",
     "output_type": "stream",
     "text": [
      "vueillez renseigner votre année de naissance :2020\n",
      "Votre année est bissextile\n"
     ]
    }
   ],
   "source": [
    "# Ecrivez votre code ici\n"
   ]
  },
  {
   "cell_type": "markdown",
   "metadata": {},
   "source": [
    "# IV. Boucles"
   ]
  },
  {
   "cell_type": "markdown",
   "metadata": {},
   "source": [
    "## IV.1. Boucle While\n",
    "La boucle While permet d'executer un bloc d'instruction tant qu'une condition est vraie.<br>\n",
    "**Exemple :** Afficher les les multiples de 3 inférieurs à 20 "
   ]
  },
  {
   "cell_type": "code",
   "execution_count": 17,
   "metadata": {},
   "outputs": [
    {
     "name": "stdout",
     "output_type": "stream",
     "text": [
      "3\n",
      "6\n",
      "9\n",
      "12\n",
      "15\n",
      "18\n"
     ]
    }
   ],
   "source": [
    "n=3 # initialisation\n",
    "while (n<20):\n",
    "    print(n)\n",
    "    n+=3 # incrémentation équivalente à n=n+3"
   ]
  },
  {
   "cell_type": "markdown",
   "metadata": {},
   "source": [
    "**Exercice :** utilisez la boucle while pour identifier le plus grand entier n tel que $\\ 2^n \\le 100 $"
   ]
  },
  {
   "cell_type": "code",
   "execution_count": 26,
   "metadata": {},
   "outputs": [
    {
     "name": "stdout",
     "output_type": "stream",
     "text": [
      "6\n"
     ]
    }
   ],
   "source": [
    "# Répondez à l'exercice ici\n",
    "\n"
   ]
  },
  {
   "cell_type": "markdown",
   "metadata": {},
   "source": [
    "## IV.2. Boucle For\n",
    "La boucle For permet de parcourir une séquence (liste, chaîne de caractère,...).<br>\n",
    "**Exemple :** Calculer ne nombre de lettres dans le mot \"anticonstitutionnellement\" "
   ]
  },
  {
   "cell_type": "code",
   "execution_count": 7,
   "metadata": {},
   "outputs": [
    {
     "name": "stdout",
     "output_type": "stream",
     "text": [
      "Le mot \"anticonstitutionnellement\" comporte : 25 lettres\n"
     ]
    }
   ],
   "source": [
    "n=\"anticonstitutionnellement\"\n",
    "count=0\n",
    "for i in n:\n",
    "    count+=1\n",
    "print(f'Le mot \"{n}\" comporte : {count} lettres')"
   ]
  },
  {
   "cell_type": "markdown",
   "metadata": {},
   "source": [
    "**Exemple :** Afficher les les multiples de 3 inférieurs à 20 "
   ]
  },
  {
   "cell_type": "code",
   "execution_count": 28,
   "metadata": {},
   "outputs": [
    {
     "name": "stdout",
     "output_type": "stream",
     "text": [
      "3\n",
      "6\n",
      "9\n",
      "12\n",
      "15\n",
      "18\n"
     ]
    }
   ],
   "source": [
    "for i in range(1,20,1): \n",
    "    # range(a,b,c) permet de créer une liste de valeurs comprises entre a (inclus (par défaut à 0 si pas renseigné))\n",
    "    # et b(exclu) avec un pas de c (par défaut à 1 si pas renseigné)\n",
    "    if i%3==0:\n",
    "        print(i)"
   ]
  },
  {
   "cell_type": "markdown",
   "metadata": {},
   "source": [
    "**Exercice :** utilisez la boucle for pour identifier les nombres premiers compris entre 1 et 100"
   ]
  },
  {
   "cell_type": "code",
   "execution_count": 13,
   "metadata": {},
   "outputs": [
    {
     "name": "stdout",
     "output_type": "stream",
     "text": [
      "1  est un nombre premier\n",
      "2  est un nombre premier\n",
      "3  est un nombre premier\n",
      "5  est un nombre premier\n",
      "7  est un nombre premier\n",
      "11  est un nombre premier\n",
      "13  est un nombre premier\n",
      "17  est un nombre premier\n",
      "19  est un nombre premier\n",
      "23  est un nombre premier\n",
      "29  est un nombre premier\n",
      "31  est un nombre premier\n",
      "37  est un nombre premier\n",
      "41  est un nombre premier\n",
      "43  est un nombre premier\n",
      "47  est un nombre premier\n",
      "53  est un nombre premier\n",
      "59  est un nombre premier\n",
      "61  est un nombre premier\n",
      "67  est un nombre premier\n",
      "71  est un nombre premier\n",
      "73  est un nombre premier\n",
      "79  est un nombre premier\n",
      "83  est un nombre premier\n",
      "89  est un nombre premier\n",
      "97  est un nombre premier\n"
     ]
    }
   ],
   "source": [
    "# Répondez à l'exercice ici\n"
   ]
  },
  {
   "cell_type": "markdown",
   "metadata": {},
   "source": [
    "# V. Types de données séquentielles"
   ]
  },
  {
   "cell_type": "markdown",
   "metadata": {},
   "source": [
    "## V.1. Listes\n",
    "Une liste S de longueur n est une séquence ordonnée d'éléments $\\ {a}_i $ avec $\\ i=0...n-1 $ <br>\n",
    "Une liste S peut contenir des éléments de types différents (int, float, str,liste,...) <br>\n",
    "L'accès à un élément de la liste S (pour affichage, utilisation ou modification) se fait en indiquant son indice i entre crochets S[i] "
   ]
  },
  {
   "cell_type": "code",
   "execution_count": 8,
   "metadata": {},
   "outputs": [],
   "source": [
    "# Liste vide\n",
    "S=[]"
   ]
  },
  {
   "cell_type": "code",
   "execution_count": 9,
   "metadata": {},
   "outputs": [
    {
     "name": "stdout",
     "output_type": "stream",
     "text": [
      "['orange', 'banane', 'pomme']\n"
     ]
    }
   ],
   "source": [
    "# Liste de chaînes de caractères\n",
    "S=[\"orange\",\"banane\",\"pomme\"]\n",
    "print(S)"
   ]
  },
  {
   "cell_type": "code",
   "execution_count": 10,
   "metadata": {},
   "outputs": [
    {
     "data": {
      "text/plain": [
       "'orange'"
      ]
     },
     "execution_count": 10,
     "metadata": {},
     "output_type": "execute_result"
    }
   ],
   "source": [
    "# Afficher les premier élément d'une liste (position 0)\n",
    "S[0]"
   ]
  },
  {
   "cell_type": "code",
   "execution_count": 11,
   "metadata": {},
   "outputs": [
    {
     "data": {
      "text/plain": [
       "'pomme'"
      ]
     },
     "execution_count": 11,
     "metadata": {},
     "output_type": "execute_result"
    }
   ],
   "source": [
    "# Afficher le dernie élément d'une liste (position -1)\n",
    "S[-1] # équivalent à S[2] dans notre exemple"
   ]
  },
  {
   "cell_type": "code",
   "execution_count": 12,
   "metadata": {},
   "outputs": [
    {
     "data": {
      "text/plain": [
       "3"
      ]
     },
     "execution_count": 12,
     "metadata": {},
     "output_type": "execute_result"
    }
   ],
   "source": [
    "# Afficher la longueur d'une liste\n",
    "len(S)"
   ]
  },
  {
   "cell_type": "code",
   "execution_count": 13,
   "metadata": {},
   "outputs": [
    {
     "name": "stdout",
     "output_type": "stream",
     "text": [
      "['orange', 'poire', 'pomme']\n"
     ]
    }
   ],
   "source": [
    "# Modifier la valeur d'un élément \n",
    "S[1]=\"poire\"\n",
    "print(S)"
   ]
  },
  {
   "cell_type": "code",
   "execution_count": 14,
   "metadata": {},
   "outputs": [
    {
     "name": "stdout",
     "output_type": "stream",
     "text": [
      "[['orange', 'poire', 'pomme'], ['ananas', 'banane']]\n"
     ]
    }
   ],
   "source": [
    "# Les éléments d'une liste peuvent eux-même être des listes\n",
    "S=[['orange', 'poire', 'pomme'],['ananas','banane']]\n",
    "print(S)"
   ]
  },
  {
   "cell_type": "code",
   "execution_count": 15,
   "metadata": {},
   "outputs": [
    {
     "data": {
      "text/plain": [
       "'ananas'"
      ]
     },
     "execution_count": 15,
     "metadata": {},
     "output_type": "execute_result"
    }
   ],
   "source": [
    "# Accèder à un élément d'une liste qui est elle-même un élément d'une autre liste\n",
    "S[1][0]"
   ]
  },
  {
   "cell_type": "markdown",
   "metadata": {},
   "source": [
    "### V.1.a Méthodes de list\n",
    "En python, une liste est un objet (instance de classe list) qui dispose d'une partie données et d'une partie méthodes <br>\n",
    "Pour connaîtres toutes les méthodes applicables à une liste, il suffit de faire appel à l'instruction dir(list) ou help(list.nom_methode) pour connaître le détail d'une méthode spécifique."
   ]
  },
  {
   "cell_type": "code",
   "execution_count": 23,
   "metadata": {},
   "outputs": [],
   "source": [
    "S=[\"orange\",\"poire\",\"pomme\"]"
   ]
  },
  {
   "cell_type": "code",
   "execution_count": 24,
   "metadata": {},
   "outputs": [
    {
     "data": {
      "text/plain": [
       "['__add__',\n",
       " '__class__',\n",
       " '__contains__',\n",
       " '__delattr__',\n",
       " '__delitem__',\n",
       " '__dir__',\n",
       " '__doc__',\n",
       " '__eq__',\n",
       " '__format__',\n",
       " '__ge__',\n",
       " '__getattribute__',\n",
       " '__getitem__',\n",
       " '__gt__',\n",
       " '__hash__',\n",
       " '__iadd__',\n",
       " '__imul__',\n",
       " '__init__',\n",
       " '__init_subclass__',\n",
       " '__iter__',\n",
       " '__le__',\n",
       " '__len__',\n",
       " '__lt__',\n",
       " '__mul__',\n",
       " '__ne__',\n",
       " '__new__',\n",
       " '__reduce__',\n",
       " '__reduce_ex__',\n",
       " '__repr__',\n",
       " '__reversed__',\n",
       " '__rmul__',\n",
       " '__setattr__',\n",
       " '__setitem__',\n",
       " '__sizeof__',\n",
       " '__str__',\n",
       " '__subclasshook__',\n",
       " 'append',\n",
       " 'clear',\n",
       " 'copy',\n",
       " 'count',\n",
       " 'extend',\n",
       " 'index',\n",
       " 'insert',\n",
       " 'pop',\n",
       " 'remove',\n",
       " 'reverse',\n",
       " 'sort']"
      ]
     },
     "execution_count": 24,
     "metadata": {},
     "output_type": "execute_result"
    }
   ],
   "source": [
    "# Afficher les méthodes de liste\n",
    "dir(S)"
   ]
  },
  {
   "cell_type": "code",
   "execution_count": 25,
   "metadata": {},
   "outputs": [
    {
     "name": "stdout",
     "output_type": "stream",
     "text": [
      "Help on built-in function append:\n",
      "\n",
      "append(object, /) method of builtins.list instance\n",
      "    Append object to the end of the list.\n",
      "\n"
     ]
    }
   ],
   "source": [
    "# Afficher le détail de la méthode 'append'\n",
    "help(S.append)"
   ]
  },
  {
   "cell_type": "code",
   "execution_count": 26,
   "metadata": {},
   "outputs": [
    {
     "name": "stdout",
     "output_type": "stream",
     "text": [
      "['orange', 'poire', 'pomme', 'kiwi']\n"
     ]
    }
   ],
   "source": [
    "# Ajouter un élément en fin de liste\n",
    "S.append(\"kiwi\")\n",
    "print(S)"
   ]
  },
  {
   "cell_type": "code",
   "execution_count": 27,
   "metadata": {},
   "outputs": [
    {
     "name": "stdout",
     "output_type": "stream",
     "text": [
      "['orange', 'poire', 'pomme', 'kiwi', 'ananas', 'banane']\n"
     ]
    }
   ],
   "source": [
    "# Extension de liste\n",
    "S.extend(['ananas','banane'])\n",
    "print(S)"
   ]
  },
  {
   "cell_type": "code",
   "execution_count": 28,
   "metadata": {},
   "outputs": [
    {
     "name": "stdout",
     "output_type": "stream",
     "text": [
      "['ananas', 'banane', 'kiwi', 'orange', 'poire', 'pomme']\n"
     ]
    }
   ],
   "source": [
    "# Trier une liste\n",
    "S.sort()\n",
    "print(S)"
   ]
  },
  {
   "cell_type": "code",
   "execution_count": 29,
   "metadata": {},
   "outputs": [
    {
     "data": {
      "text/plain": [
       "'pomme'"
      ]
     },
     "execution_count": 29,
     "metadata": {},
     "output_type": "execute_result"
    }
   ],
   "source": [
    "# Supprimer le dernier élément d'une liste et renvoyer cet élément\n",
    "S.pop()"
   ]
  },
  {
   "cell_type": "code",
   "execution_count": 30,
   "metadata": {},
   "outputs": [
    {
     "data": {
      "text/plain": [
       "['ananas', 'banane', 'kiwi', 'orange', 'poire']"
      ]
     },
     "execution_count": 30,
     "metadata": {},
     "output_type": "execute_result"
    }
   ],
   "source": [
    "S"
   ]
  },
  {
   "cell_type": "code",
   "execution_count": 31,
   "metadata": {},
   "outputs": [
    {
     "name": "stdout",
     "output_type": "stream",
     "text": [
      "['ananas', 'pomme', 'banane', 'kiwi', 'orange', 'pomme', 'poire']\n"
     ]
    }
   ],
   "source": [
    "# Inserer une nouvelle valeur à la position i dans une liste\n",
    "S.insert(1,\"pomme\")\n",
    "S.insert(-1,\"pomme\")\n",
    "print(S)"
   ]
  },
  {
   "cell_type": "code",
   "execution_count": 32,
   "metadata": {},
   "outputs": [
    {
     "data": {
      "text/plain": [
       "2"
      ]
     },
     "execution_count": 32,
     "metadata": {},
     "output_type": "execute_result"
    }
   ],
   "source": [
    "# Compter le nombre d'occurrences d'un élément dans une liste\n",
    "S.count(\"pomme\")"
   ]
  },
  {
   "cell_type": "code",
   "execution_count": 33,
   "metadata": {},
   "outputs": [
    {
     "name": "stdout",
     "output_type": "stream",
     "text": [
      "['ananas', 'banane', 'kiwi', 'orange', 'pomme', 'poire']\n"
     ]
    }
   ],
   "source": [
    "# Supprimer la première occurrence d'un élément dans une liste\n",
    "S.remove(\"pomme\")\n",
    "print(S)"
   ]
  },
  {
   "cell_type": "markdown",
   "metadata": {},
   "source": [
    "### V.1.b Opérateurs d'extraction\n",
    "Les opérateurs d'extraction permettent d'extraire un ou plusieurs éléments d'une liste"
   ]
  },
  {
   "cell_type": "code",
   "execution_count": 59,
   "metadata": {},
   "outputs": [
    {
     "name": "stdout",
     "output_type": "stream",
     "text": [
      "[0, 1, 2, 3, 4, 5, 6, 7, 8, 9, 10, 11, 12, 13, 14, 15, 16, 17, 18, 19]\n"
     ]
    }
   ],
   "source": [
    "# la fonction range(n), permet de créer une séquence de n valeurs allant de 0 à n-1\n",
    "L=list(range(20))#range(b)\n",
    "print(L)"
   ]
  },
  {
   "cell_type": "code",
   "execution_count": 60,
   "metadata": {},
   "outputs": [
    {
     "data": {
      "text/plain": [
       "[1, 2, 3, 4, 5, 6, 7, 8, 9, 10]"
      ]
     },
     "execution_count": 60,
     "metadata": {},
     "output_type": "execute_result"
    }
   ],
   "source": [
    "# L[i:j] renvoie la sous-liste de L commençant à l'indice i (inclus) jusqu'à l'indice j (exclu)\n",
    "L[1:11]"
   ]
  },
  {
   "cell_type": "code",
   "execution_count": 61,
   "metadata": {},
   "outputs": [
    {
     "data": {
      "text/plain": [
       "[0, 1, 2, 3, 4, 5, 6, 7, 8, 9, 10]"
      ]
     },
     "execution_count": 61,
     "metadata": {},
     "output_type": "execute_result"
    }
   ],
   "source": [
    "# L[:j] renvoie la sous-liste de L commençant à l'indice 0 (inclus) jusqu'à l'indice j (exclu)\n",
    "L[0:11]"
   ]
  },
  {
   "cell_type": "code",
   "execution_count": 62,
   "metadata": {},
   "outputs": [
    {
     "data": {
      "text/plain": [
       "[11, 12, 13, 14, 15, 16, 17, 18, 19]"
      ]
     },
     "execution_count": 62,
     "metadata": {},
     "output_type": "execute_result"
    }
   ],
   "source": [
    "# L[i:] renvoie la sous-liste de L commençant à l'indice i (inclus) jusqu'au dernier élément (inclus)\n",
    "L[11:]"
   ]
  },
  {
   "cell_type": "code",
   "execution_count": 63,
   "metadata": {},
   "outputs": [
    {
     "data": {
      "text/plain": [
       "[10, 12, 14]"
      ]
     },
     "execution_count": 63,
     "metadata": {},
     "output_type": "execute_result"
    }
   ],
   "source": [
    "# L[i:j:p] renvoie la sous-liste de L commençant à l'indice i (inclus) jusqu'à l'indice j (exclu) par pas de p\n",
    "L[10:15:2]"
   ]
  },
  {
   "cell_type": "markdown",
   "metadata": {},
   "source": [
    "**Question:** Qu'est ce que va renvoyer l'extraction *L[::-1]* ?"
   ]
  },
  {
   "cell_type": "code",
   "execution_count": 64,
   "metadata": {},
   "outputs": [
    {
     "data": {
      "text/plain": [
       "[19, 18, 17, 16, 15, 14, 13, 12, 11, 10, 9, 8, 7, 6, 5, 4, 3, 2, 1, 0]"
      ]
     },
     "execution_count": 64,
     "metadata": {},
     "output_type": "execute_result"
    }
   ],
   "source": [
    "# Vérifiez ici ce que renvoie l'extraction L[::-1]\n"
   ]
  },
  {
   "cell_type": "markdown",
   "metadata": {},
   "source": [
    "### V.1.b Autres opérateurs"
   ]
  },
  {
   "cell_type": "code",
   "execution_count": 16,
   "metadata": {},
   "outputs": [
    {
     "name": "stdout",
     "output_type": "stream",
     "text": [
      "[0, 0, 0, 0, 0]\n"
     ]
    }
   ],
   "source": [
    "# l'opérateur * permet de créer une liste en dupliquant n fois un même élément\n",
    "L=[0]*5\n",
    "print(L)"
   ]
  },
  {
   "cell_type": "code",
   "execution_count": 17,
   "metadata": {},
   "outputs": [
    {
     "name": "stdout",
     "output_type": "stream",
     "text": [
      "[1, 2, 2, 3, 4, 5]\n"
     ]
    }
   ],
   "source": [
    "# l'opérateur + permet de concatener deux listes existantes dans une nouvelle liste\n",
    "L_1=[1,2]\n",
    "L_2=[2,3,4,5]\n",
    "L=L_1+L_2\n",
    "print(L)"
   ]
  },
  {
   "cell_type": "markdown",
   "metadata": {},
   "source": [
    "**Remarques importantes:**<br>\n",
    "1) L'opérateur + créer une nouvelle liste tandis que la méthode extend() étend une liste existante <br>\n",
    "2) Le type liste est modifiable<br>\n",
    "3) L'égalisation de deux liste avec l'oparateur = permet de les faire pointer vers la même valeur stockée en mémoire<br>\n",
    "4) Pour créer une copie indépendante à partir d'une liste, il faut utiliser la méthode copy()"
   ]
  },
  {
   "cell_type": "code",
   "execution_count": 18,
   "metadata": {},
   "outputs": [
    {
     "name": "stdout",
     "output_type": "stream",
     "text": [
      "L_1 =  [1, 2]\n",
      "L_2 =  [1, 2]\n",
      "L_2 =  [0, 2]\n"
     ]
    }
   ],
   "source": [
    "# Egalisation de deux liste avec l'opérateur =\n",
    "L_1=[1,2]\n",
    "L_2=L_1\n",
    "print(\"L_1 = \",L_1)\n",
    "print(\"L_2 = \",L_2)\n",
    "L_1[0]=0\n",
    "#Que se passe-t-il pour L_2 après modification de L_1 ?\n",
    "print(\"L_2 = \",L_2)"
   ]
  },
  {
   "cell_type": "code",
   "execution_count": 19,
   "metadata": {},
   "outputs": [
    {
     "name": "stdout",
     "output_type": "stream",
     "text": [
      "L_1 =  [1, 2]\n",
      "L_2 =  [1, 2]\n",
      "L_2 =  [1, 2]\n",
      "L_1 =  [0, 2]\n"
     ]
    }
   ],
   "source": [
    "# Egalisation de deux liste avec la méthode copy()\n",
    "L_1=[1,2]\n",
    "L_2=L_1.copy()\n",
    "print(\"L_1 = \",L_1)\n",
    "print(\"L_2 = \",L_2)\n",
    "L_1[0]=0\n",
    "#Que se passe-t-il pour L_2 après modification de L_1 ?\n",
    "print(\"L_2 = \",L_2)\n",
    "print(\"L_1 = \",L_1)"
   ]
  },
  {
   "cell_type": "code",
   "execution_count": 20,
   "metadata": {},
   "outputs": [
    {
     "name": "stdout",
     "output_type": "stream",
     "text": [
      "1\n",
      "2\n",
      "2\n",
      "3\n",
      "4\n",
      "5\n"
     ]
    }
   ],
   "source": [
    "# Une liste peut être utilisée comme ittérateur dans une boucle for (usage le plus fréquen de la boucle for)\n",
    "for i in L:\n",
    "    print(i)"
   ]
  },
  {
   "cell_type": "markdown",
   "metadata": {},
   "source": [
    "**Exercice**:<br>\n",
    "Créez une nouvelle liste qui contient les éléments de la liste L portés au carré"
   ]
  },
  {
   "cell_type": "code",
   "execution_count": 22,
   "metadata": {},
   "outputs": [
    {
     "name": "stdout",
     "output_type": "stream",
     "text": [
      "[1, 4, 4, 9, 16, 25]\n"
     ]
    }
   ],
   "source": [
    "# Répondez à l'exercice en utilisant une boucle for \n"
   ]
  },
  {
   "cell_type": "markdown",
   "metadata": {},
   "source": [
    "## V.2. Tuples\n",
    "Un tuple est une séquence ordonnées d'éléments non modifiables. Il est donc impossible de changer, ajouter ou supprimer un élément dans un tuple.<br>\n",
    "Un tuple peut contenir des éléments de types différents"
   ]
  },
  {
   "cell_type": "code",
   "execution_count": 71,
   "metadata": {},
   "outputs": [],
   "source": [
    "# Création d'un tuples T\n",
    "T=(1,2,'a',4)"
   ]
  },
  {
   "cell_type": "code",
   "execution_count": 72,
   "metadata": {},
   "outputs": [
    {
     "data": {
      "text/plain": [
       "4"
      ]
     },
     "execution_count": 72,
     "metadata": {},
     "output_type": "execute_result"
    }
   ],
   "source": [
    "# Nombre d'éléments dans un tuple\n",
    "len(T)"
   ]
  },
  {
   "cell_type": "code",
   "execution_count": 73,
   "metadata": {},
   "outputs": [
    {
     "data": {
      "text/plain": [
       "'a'"
      ]
     },
     "execution_count": 73,
     "metadata": {},
     "output_type": "execute_result"
    }
   ],
   "source": [
    "# Extraction d'un élément à partir de son indexe\n",
    "T[2]"
   ]
  },
  {
   "cell_type": "code",
   "execution_count": 74,
   "metadata": {},
   "outputs": [
    {
     "name": "stdout",
     "output_type": "stream",
     "text": [
      "a=  1\n",
      "b=  2\n",
      "c=  a\n",
      "d=  4\n"
     ]
    }
   ],
   "source": [
    "# Un tuple peut être utilisé pour faire de l'affectation multiple\n",
    "a,b,c,d=T\n",
    "print(\"a= \",a)\n",
    "print(\"b= \",b)\n",
    "print(\"c= \",c)\n",
    "print(\"d= \",d)"
   ]
  },
  {
   "cell_type": "code",
   "execution_count": 75,
   "metadata": {},
   "outputs": [
    {
     "name": "stdout",
     "output_type": "stream",
     "text": [
      "a=  2\n",
      "b=  1\n"
     ]
    }
   ],
   "source": [
    "# Un tuple peut être utilisé pour l'échange de valeur de deux variables\n",
    "a=1\n",
    "b=2\n",
    "(a,b)=(b,a)\n",
    "print(\"a= \",a)\n",
    "print(\"b= \",b)"
   ]
  },
  {
   "cell_type": "code",
   "execution_count": null,
   "metadata": {},
   "outputs": [],
   "source": [
    "# Il est possible de convertir un tuple en liste\n",
    "L=list(T)\n",
    "print(L)\n",
    "type(L)"
   ]
  },
  {
   "cell_type": "markdown",
   "metadata": {},
   "source": [
    "## V.3. Dictionnaires\n",
    "Un dictionnaire est un ensemble enumérable de couples (clé,valeur) non ordonnés<br>\n",
    "Les clés d'un dictionnaire sont nécessairement toutes différentes<br>\n",
    "Les clés ont nécessairement un type non modifiable<br>"
   ]
  },
  {
   "cell_type": "code",
   "execution_count": 76,
   "metadata": {},
   "outputs": [],
   "source": [
    "# Création d'un dictionnaire vide\n",
    "Dict={}"
   ]
  },
  {
   "cell_type": "code",
   "execution_count": 78,
   "metadata": {},
   "outputs": [],
   "source": [
    "# Création d'un dictionnaire avec des prénom comme clé et des années de naissance comme valeur\n",
    "Dict={\"Tom\":1999,\"Albert\":1968,\"Sonia\":1975,\"Béatrice\":1981,\"Mustapha\":1985,\"Zoe\":2016}"
   ]
  },
  {
   "cell_type": "code",
   "execution_count": 79,
   "metadata": {},
   "outputs": [
    {
     "data": {
      "text/plain": [
       "1975"
      ]
     },
     "execution_count": 79,
     "metadata": {},
     "output_type": "execute_result"
    }
   ],
   "source": [
    "# L'accès à une valeur à partir d'une clé\n",
    "Dict[\"Sonia\"]"
   ]
  },
  {
   "cell_type": "code",
   "execution_count": 80,
   "metadata": {},
   "outputs": [],
   "source": [
    "# Ajout d'un couple clé-valeur\n",
    "Dict[\"Alix\"]=2014"
   ]
  },
  {
   "cell_type": "markdown",
   "metadata": {},
   "source": [
    "**Remarque:** Lors de l'ajout d'un couple (clé,valeur), si la clé existe déjà dans le dictionnaire, seule sa valeur est mise-à-jour "
   ]
  },
  {
   "cell_type": "code",
   "execution_count": 81,
   "metadata": {},
   "outputs": [
    {
     "name": "stdout",
     "output_type": "stream",
     "text": [
      "{'Tom': 1999, 'Albert': 1968, 'Béatrice': 1981, 'Mustapha': 1985, 'Zoe': 2016, 'Alix': 2014}\n"
     ]
    }
   ],
   "source": [
    "# Suppression d'une clé (et de sa valeur associée)\n",
    "del Dict[\"Sonia\"]\n",
    "print(Dict)"
   ]
  },
  {
   "cell_type": "code",
   "execution_count": 82,
   "metadata": {},
   "outputs": [
    {
     "data": {
      "text/plain": [
       "6"
      ]
     },
     "execution_count": 82,
     "metadata": {},
     "output_type": "execute_result"
    }
   ],
   "source": [
    "# taille d'un dictionnaire\n",
    "len(Dict)"
   ]
  },
  {
   "cell_type": "code",
   "execution_count": 91,
   "metadata": {},
   "outputs": [
    {
     "data": {
      "text/plain": [
       "dict_keys(['Tom', 'Albert', 'Béatrice', 'Mustapha', 'Zoe', 'Alix'])"
      ]
     },
     "execution_count": 91,
     "metadata": {},
     "output_type": "execute_result"
    }
   ],
   "source": [
    "# Méthode keys() renvoie une vue sur toutes les clés d'un dictionnaire\n",
    "Dict.keys()"
   ]
  },
  {
   "cell_type": "code",
   "execution_count": 84,
   "metadata": {},
   "outputs": [
    {
     "data": {
      "text/plain": [
       "dict_values([1999, 1968, 1981, 1985, 2016, 2014])"
      ]
     },
     "execution_count": 84,
     "metadata": {},
     "output_type": "execute_result"
    }
   ],
   "source": [
    "# Méthode values() renvoie une vue sur toutes les valeurs d'un dictionnaire\n",
    "Dict.values()"
   ]
  },
  {
   "cell_type": "code",
   "execution_count": 85,
   "metadata": {},
   "outputs": [
    {
     "data": {
      "text/plain": [
       "dict_items([('Tom', 1999), ('Albert', 1968), ('Béatrice', 1981), ('Mustapha', 1985), ('Zoe', 2016), ('Alix', 2014)])"
      ]
     },
     "execution_count": 85,
     "metadata": {},
     "output_type": "execute_result"
    }
   ],
   "source": [
    "# Méthode items() renvoie une vue sur tous les couples (clé,valeur) d'un dictionnaire\n",
    "Dict.items()"
   ]
  },
  {
   "cell_type": "code",
   "execution_count": 86,
   "metadata": {},
   "outputs": [
    {
     "name": "stdout",
     "output_type": "stream",
     "text": [
      "{'a': 1, 'b': 2, 'd': 4, 'f': 6}\n"
     ]
    }
   ],
   "source": [
    "# Construction d'un dictionnaire à parti d'une liste de listes\n",
    "L=[[\"a\",1],[\"b\",2],[\"d\",4],[\"f\",6]]\n",
    "Dict_L=dict(L)\n",
    "print (Dict_L)"
   ]
  },
  {
   "cell_type": "code",
   "execution_count": 92,
   "metadata": {},
   "outputs": [
    {
     "name": "stdout",
     "output_type": "stream",
     "text": [
      "Zoe\n",
      "Alix\n"
     ]
    }
   ],
   "source": [
    "# Boucle for pour parcourir un dictionnaire\n",
    "# Exemple : afficher le nom des personnes nées après 2000\n",
    "for i in Dict:\n",
    "    if Dict[i]>=2000:\n",
    "        print (i)"
   ]
  },
  {
   "cell_type": "markdown",
   "metadata": {},
   "source": [
    "# VI. Fonctions\n",
    "Une fonction est un bloc d'instructions réalisant une tâche particulière. Elle prend des données (arguments) en entrée et renvoie (ou pas) une ou plusieurs valeurs en sortie.<br>\n",
    "Appeler une fonction revient à executer le bloc d'instruction pour des valeurs particulière d'arguments.<br>\n",
    "Exemple de fonctions déjà vues :\n",
    "- input()\n",
    "- print(arg1,arg2,...)"
   ]
  },
  {
   "cell_type": "markdown",
   "metadata": {},
   "source": [
    "## VI.1 Fonctions appartenant à des modules\n",
    "Les fonctions de base de Python peuvent être enrichies par d'autres fonctions disponibles dans des modules (bibliothèques) complémentaires dédiées à certains type de tâches (manipaltion de tableaux, calcul matriciel, machine learning, statistiques,...)<br>\n",
    "Les fonctions disponibles dans ces modules doivent être importées avant d'être utilisées.<br>\n",
    "L'importation peut se faire directement en pointant sur la fonction qui nous intéresse ou indirectement en important tout le module puis en faisant appel aux fonctions en précisant le nom du module à chaque fois."
   ]
  },
  {
   "cell_type": "code",
   "execution_count": 94,
   "metadata": {},
   "outputs": [
    {
     "name": "stdout",
     "output_type": "stream",
     "text": [
      "1.4142135623730951\n"
     ]
    }
   ],
   "source": [
    "# Exemple avec la bibliothèque math\n",
    "import math\n",
    "a=math.sqrt(2)  # fonction racine carrée\n",
    "                # Astuce : pour accèder aux fonctions d'un module, tapez le nom du module suivi de . \n",
    "                #puis appuyez sur la touche tab de votre clavier\n",
    "print(a)"
   ]
  },
  {
   "cell_type": "code",
   "execution_count": 96,
   "metadata": {},
   "outputs": [
    {
     "name": "stdout",
     "output_type": "stream",
     "text": [
      "3.664631469810274\n"
     ]
    }
   ],
   "source": [
    "# Exemple avec la bibliothèque statistics\n",
    "import statistics\n",
    "a=statistics.stdev([1,2.3,0,10,5.5,7.1,1.8]) # fonction écart type\n",
    "print(a)"
   ]
  },
  {
   "cell_type": "code",
   "execution_count": 97,
   "metadata": {},
   "outputs": [
    {
     "name": "stdout",
     "output_type": "stream",
     "text": [
      "3.664631469810274\n"
     ]
    }
   ],
   "source": [
    "# Importation directe de la fonction stdev à partir de la bibliothèque statistics\n",
    "from  statistics import stdev\n",
    "a=stdev([1,2.3,0,10,5.5,7.1,1.8]) # il n'est plus nécessaire de mentionner le nom du module avant d'utiliser stdev\n",
    "print(a)"
   ]
  },
  {
   "cell_type": "code",
   "execution_count": 98,
   "metadata": {},
   "outputs": [
    {
     "name": "stdout",
     "output_type": "stream",
     "text": [
      "3.664631469810274\n"
     ]
    }
   ],
   "source": [
    "# Importation directe de la fonction stdev à partir de la bibliothèque statisticsn et la renomer\n",
    "from  statistics import stdev as ecart_type # il est possible de renommer une fonction pour plus de lisibilité\n",
    "a=ecart_type([1,2.3,0,10,5.5,7.1,1.8]) \n",
    "print(a)"
   ]
  },
  {
   "cell_type": "markdown",
   "metadata": {},
   "source": [
    "**Remarques:** <br>\n",
    "1) Pour obtenir de l'aide sur un module, il suffit de taper *help(nomModule)*<br>\n",
    "2) Pour importer toutes les fonction d'un même module il suffit de taper *from nomModule import **"
   ]
  },
  {
   "cell_type": "markdown",
   "metadata": {},
   "source": [
    "## VI.2 Fonctions personnalisée\n",
    "Il est possible de construire ses propres fonction grâce à l'instruction *def*<br>\n",
    "L'intérêt de construire des fonctionsplutôt que du code \"en vrac\" est de rendre le code plus flexible, plus lisible  et faciliter ainsi son débogage et sa maintenance<br>\n",
    "\n",
    "***Exemple:***  Fonction qui liste tous les nombre parfaits allant de 1 à n (n étant donné par l'utilisateur)<br>\n",
    "***Rappel:*** En arithmétique, un nombre parfait est un entier naturel égal à la moitié de la somme de ses diviseurs ou encore à la somme de ses diviseurs stricts. Plus formellement, un nombre parfait n est un entier tel que σ(n) = 2n où σ(n) est la somme des diviseurs positifs de n. Ainsi 6 est un nombre parfait car ses diviseurs entiers sont 1, 2, 3 et 6, et il vérifie bien 2 × 6 = 12 = 1 + 2 + 3 + 6, ou encore 6 = 1 + 2 + 3. "
   ]
  },
  {
   "cell_type": "code",
   "execution_count": 2,
   "metadata": {},
   "outputs": [],
   "source": [
    "# Le problème est découpé en 3 fonctions chacune faisant appel à l'autre\n",
    "\n",
    "# Fonction qui calcule la somme des diviseurs d'un nombre e\n",
    "def Sum_div(e):\n",
    "    d=1\n",
    "    somme=0\n",
    "    while (d<=e):\n",
    "        if (e%d == 0):\n",
    "            somme+=d\n",
    "        d+=1\n",
    "    return(somme)\n",
    "\n",
    "# Fonction qui renvoie vrai si le nombre e est parfait, faux sinon\n",
    "def Is_perfect(e):\n",
    "    if Sum_div(e) == 2*e:\n",
    "        return True\n",
    "    else:\n",
    "        return False\n",
    "    \n",
    "# Fonction qui liste les nombre parfaits entre 1 et n\n",
    "def List_perf_num(n):\n",
    "    L=[]                   #initialisation d'une liste vide\n",
    "    for i in range (1,n+1):\n",
    "                             #range(n) commence à 0 et se termine à n-1, il faut donc ajouter 1 à i pour\n",
    "                           #parcourir les nombre compris entre 1 et n \n",
    "        if Is_perfect(i):\n",
    "            L.append(i)\n",
    "    return(L)"
   ]
  },
  {
   "cell_type": "code",
   "execution_count": null,
   "metadata": {},
   "outputs": [],
   "source": [
    "# Programme principal et appel à la fonction List_perf_num\n",
    "n=input(\"Entrez un nombre entier :\")\n",
    "n=int(n)\n",
    "M=List_perf_num(n)\n",
    "print(f\"La liste des nombres parfaits compris entre 1 et {n} :{M}\")"
   ]
  },
  {
   "cell_type": "markdown",
   "metadata": {},
   "source": [
    "**Remarques importantes:**<br>\n",
    "1) Les varibles utilisées dans les fonctions ont une portée locale <br>\n",
    "2) Il est possible d'utiliser une variable globale dans une fonction, mais cela réduit la lisibilité du code (à éviter)"
   ]
  },
  {
   "cell_type": "markdown",
   "metadata": {},
   "source": [
    "**Exercice:** Ecrivez une fonction qui liste les nombres premiers entre 1 et n (n est un argument de la fonction)"
   ]
  },
  {
   "cell_type": "code",
   "execution_count": null,
   "metadata": {},
   "outputs": [],
   "source": [
    "# Répondez à l'exercice en écrivant votre/vos fonction(s) ici\n"
   ]
  },
  {
   "cell_type": "code",
   "execution_count": null,
   "metadata": {},
   "outputs": [],
   "source": []
  }
 ],
 "metadata": {
  "kernelspec": {
   "display_name": "Python 3",
   "language": "python",
   "name": "python3"
  },
  "language_info": {
   "codemirror_mode": {
    "name": "ipython",
    "version": 3
   },
   "file_extension": ".py",
   "mimetype": "text/x-python",
   "name": "python",
   "nbconvert_exporter": "python",
   "pygments_lexer": "ipython3",
   "version": "3.7.5"
  }
 },
 "nbformat": 4,
 "nbformat_minor": 4
}
