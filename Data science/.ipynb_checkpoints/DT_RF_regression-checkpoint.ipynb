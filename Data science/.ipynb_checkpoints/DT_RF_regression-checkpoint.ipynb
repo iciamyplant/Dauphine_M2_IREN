{
 "cells": [
  {
   "cell_type": "markdown",
   "metadata": {},
   "source": [
    "# Exemple d'arbre de décision pour la régression\n",
    "Dans cet exemple, nous entrainerons un arbre de décision sur un jeu de donnée avec une seule variable.<br>\n",
    "Les résultats analysés sont affichés pour différentes valeurs d'hperparamètres."
   ]
  },
  {
   "cell_type": "code",
   "execution_count": 1,
   "metadata": {},
   "outputs": [],
   "source": [
    "# scikit-learn, matplotlib et numpy\n",
    "from sklearn import tree,ensemble,datasets\n",
    "import numpy as np \n",
    "import matplotlib.pyplot as plt"
   ]
  },
  {
   "cell_type": "code",
   "execution_count": 2,
   "metadata": {},
   "outputs": [],
   "source": [
    "# Génération du jeu d'entrainement\n",
    "N = 100\n",
    "X = np.arange(1,N+1)\n",
    "Y = np.log(X)\n",
    "Y += 0.5*np.random.normal(size=N)"
   ]
  },
  {
   "cell_type": "code",
   "execution_count": 3,
   "metadata": {},
   "outputs": [
    {
     "data": {
      "text/plain": [
       "[<matplotlib.lines.Line2D at 0x17edaa99e08>]"
      ]
     },
     "execution_count": 3,
     "metadata": {},
     "output_type": "execute_result"
    },
    {
     "data": {
      "image/png": "[encoded data removed]",
      "text/plain": [
       "<Figure size 432x288 with 1 Axes>"
      ]
     },
     "metadata": {
      "needs_background": "light"
     },
     "output_type": "display_data"
    }
   ],
   "source": [
    "# Affichage des données\n",
    "plt.plot(X,Y)"
   ]
  },
  {
   "cell_type": "code",
   "execution_count": 4,
   "metadata": {},
   "outputs": [],
   "source": [
    "# modification de la forme de X\n",
    "X=np.reshape(X,(-1,1))"
   ]
  },
  {
   "cell_type": "code",
   "execution_count": 9,
   "metadata": {},
   "outputs": [],
   "source": [
    "# Instanciation d'un arbre de décision avec un nombre d'exemple par feuille supérieur ou égal à 3\n",
    "from sklearn.tree import DecisionTreeRegressor\n",
    "DTR=DecisionTreeRegressor(min_samples_leaf=3)"
   ]
  },
  {
   "cell_type": "code",
   "execution_count": 10,
   "metadata": {},
   "outputs": [
    {
     "data": {
      "text/plain": [
       "DecisionTreeRegressor(min_samples_leaf=3)"
      ]
     },
     "execution_count": 10,
     "metadata": {},
     "output_type": "execute_result"
    }
   ],
   "source": [
    "#Entrainement du modèle\n",
    "DTR.fit(X,Y)"
   ]
  },
  {
   "cell_type": "markdown",
   "metadata": {},
   "source": [
    "**Installation Graphiz pour affichage:** graphviz est une librairie qui propose une classe permetant d'afficher un arbre de décision. Cette librairie nécessite une installation particulière :<br>\n",
    "0. Fermer Jupyter et le navigateur Anaconda\n",
    "1. Ouvrir une fenêtre de commande Anaconda Promtp sous windows ou une fenêtre de commande simple sous linux\n",
    "2. Executer la commande : conda install graphviz (sous windows) ou : pip install graphviz (sous linux)\n",
    "3. Relancer Jupyter\n",
    "\n",
    "Si cette première procèdure ne fonctionne pas, essayez celle-ci (procédure windows):\n",
    "0. Fermer Jupyter et le navigateur Anaconda\n",
    "1. Ouvrir une fenêtre de commande Anaconda Promtp\n",
    "2. Executer la commande : conda install graphviz\n",
    "3. Télécharger Graphviz (https://www2.graphviz.org/Packages/stable/windows/10/cmake/Release/)\n",
    "4. Ajouter la variable d'environnement  GRAPHIZ (variables utilisateur) avec le chemin:C:\\Program Files (x86)\\Graphviz2.38\\bin\n",
    "5. Relancer Jupyter\n",
    "\n",
    "Si cela ne fonctionne toutjours pas, ingnorez les deux prochaines cellules."
   ]
  },
  {
   "cell_type": "code",
   "execution_count": 11,
   "metadata": {},
   "outputs": [],
   "source": [
    "import graphviz \n",
    "def graph_viz(DTR):\n",
    "    Tree_graph = tree.export_graphviz(DTR, out_file=None, \n",
    "    feature_names=\"X\",  \n",
    "    class_names=\"Y\",  \n",
    "    filled=True, rounded=True,  \n",
    "    special_characters=True) \n",
    "    graph = graphviz.Source(Tree_graph)\n",
    "    return(graph)"
   ]
  },
  {
   "cell_type": "code",
   "execution_count": 12,
   "metadata": {},
   "outputs": [
    {
     "data": {
      "image/svg+xml": [
       "<?xml version=\"1.0\" encoding=\"UTF-8\" standalone=\"no\"?>\r\n",
       "<!DOCTYPE svg PUBLIC \"-//W3C//DTD SVG 1.1//EN\"\r\n",
       " \"http://www.w3.org/Graphics/SVG/1.1/DTD/svg11.dtd\">\r\n",
       "<!-- Generated by graphviz version 2.38.0 (20140413.2041)\r\n",
       " -->\r\n",
       "<!-- Title: Tree Pages: 1 -->\r\n",
       "<svg width=\"1700pt\" height=\"997pt\"\r\n",
       " viewBox=\"0.00 0.00 1700.00 997.00\" xmlns=\"http://www.w3.org/2000/svg\" xmlns:xlink=\"http://www.w3.org/1999/xlink\">\r\n",
       "<g id=\"graph0\" class=\"graph\" transform=\"scale(1 1) rotate(0) translate(4 993)\">\r\n",
       "<title>Tree</title>\r\n",
       "<polygon fill=\"white\" stroke=\"none\" points=\"-4,4 -4,-993 1696,-993 1696,4 -4,4\"/>\r\n",
       "<!-- 0 -->\r\n",
       "<g id=\"node1\" class=\"node\"><title>0</title>\r\n",
       "<path fill=\"#eda774\" stroke=\"black\" d=\"M512.5,-989C512.5,-989 425.5,-989 425.5,-989 419.5,-989 413.5,-983 413.5,-977 413.5,-977 413.5,-933 413.5,-933 413.5,-927 419.5,-921 425.5,-921 425.5,-921 512.5,-921 512.5,-921 518.5,-921 524.5,-927 524.5,-933 524.5,-933 524.5,-977 524.5,-977 524.5,-983 518.5,-989 512.5,-989\"/>\r\n",
       "<text text-anchor=\"start\" x=\"442\" y=\"-973.8\" font-family=\"Helvetica,sans-Serif\" font-size=\"14.00\">X ≤ 24.5</text>\r\n",
       "<text text-anchor=\"start\" x=\"428.5\" y=\"-958.8\" font-family=\"Helvetica,sans-Serif\" font-size=\"14.00\">mse = 0.912</text>\r\n",
       "<text text-anchor=\"start\" x=\"421.5\" y=\"-943.8\" font-family=\"Helvetica,sans-Serif\" font-size=\"14.00\">samples = 100</text>\r\n",
       "<text text-anchor=\"start\" x=\"426\" y=\"-928.8\" font-family=\"Helvetica,sans-Serif\" font-size=\"14.00\">value = 3.556</text>\r\n",
       "</g>\r\n",
       "<!-- 1 -->\r\n",
       "<g id=\"node2\" class=\"node\"><title>1</title>\r\n",
       "<path fill=\"#f7d8c2\" stroke=\"black\" d=\"M358.5,-885C358.5,-885 279.5,-885 279.5,-885 273.5,-885 267.5,-879 267.5,-873 267.5,-873 267.5,-829 267.5,-829 267.5,-823 273.5,-817 279.5,-817 279.5,-817 358.5,-817 358.5,-817 364.5,-817 370.5,-823 370.5,-829 370.5,-829 370.5,-873 370.5,-873 370.5,-879 364.5,-885 358.5,-885\"/>\r\n",
       "<text text-anchor=\"start\" x=\"296\" y=\"-869.8\" font-family=\"Helvetica,sans-Serif\" font-size=\"14.00\">X ≤ 5.5</text>\r\n",
       "<text text-anchor=\"start\" x=\"278.5\" y=\"-854.8\" font-family=\"Helvetica,sans-Serif\" font-size=\"14.00\">mse = 0.573</text>\r\n",
       "<text text-anchor=\"start\" x=\"275.5\" y=\"-839.8\" font-family=\"Helvetica,sans-Serif\" font-size=\"14.00\">samples = 24</text>\r\n",
       "<text text-anchor=\"start\" x=\"284\" y=\"-824.8\" font-family=\"Helvetica,sans-Serif\" font-size=\"14.00\">value = 2.2</text>\r\n",
       "</g>\r\n",
       "<!-- 0&#45;&gt;1 -->\r\n",
       "<g id=\"edge1\" class=\"edge\"><title>0&#45;&gt;1</title>\r\n",
       "<path fill=\"none\" stroke=\"black\" d=\"M420.299,-920.884C406.212,-911.304 390.707,-900.761 376.154,-890.864\"/>\r\n",
       "<polygon fill=\"black\" stroke=\"black\" points=\"377.95,-887.854 367.713,-885.125 374.014,-893.642 377.95,-887.854\"/>\r\n",
       "<text text-anchor=\"middle\" x=\"372.391\" y=\"-905.983\" font-family=\"Helvetica,sans-Serif\" font-size=\"14.00\">True</text>\r\n",
       "</g>\r\n",
       "<!-- 12 -->\r\n",
       "<g id=\"node13\" class=\"node\"><title>12</title>\r\n",
       "<path fill=\"#ea975c\" stroke=\"black\" d=\"M583.5,-885C583.5,-885 504.5,-885 504.5,-885 498.5,-885 492.5,-879 492.5,-873 492.5,-873 492.5,-829 492.5,-829 492.5,-823 498.5,-817 504.5,-817 504.5,-817 583.5,-817 583.5,-817 589.5,-817 595.5,-823 595.5,-829 595.5,-829 595.5,-873 595.5,-873 595.5,-879 589.5,-885 583.5,-885\"/>\r\n",
       "<text text-anchor=\"start\" x=\"517\" y=\"-869.8\" font-family=\"Helvetica,sans-Serif\" font-size=\"14.00\">X ≤ 49.5</text>\r\n",
       "<text text-anchor=\"start\" x=\"503.5\" y=\"-854.8\" font-family=\"Helvetica,sans-Serif\" font-size=\"14.00\">mse = 0.256</text>\r\n",
       "<text text-anchor=\"start\" x=\"500.5\" y=\"-839.8\" font-family=\"Helvetica,sans-Serif\" font-size=\"14.00\">samples = 76</text>\r\n",
       "<text text-anchor=\"start\" x=\"501\" y=\"-824.8\" font-family=\"Helvetica,sans-Serif\" font-size=\"14.00\">value = 3.984</text>\r\n",
       "</g>\r\n",
       "<!-- 0&#45;&gt;12 -->\r\n",
       "<g id=\"edge12\" class=\"edge\"><title>0&#45;&gt;12</title>\r\n",
       "<path fill=\"none\" stroke=\"black\" d=\"M493.35,-920.884C499.769,-912.154 506.776,-902.625 513.475,-893.514\"/>\r\n",
       "<polygon fill=\"black\" stroke=\"black\" points=\"516.411,-895.429 519.515,-885.299 510.771,-891.283 516.411,-895.429\"/>\r\n",
       "<text text-anchor=\"middle\" x=\"523.285\" y=\"-906.313\" font-family=\"Helvetica,sans-Serif\" font-size=\"14.00\">False</text>\r\n",
       "</g>\r\n",
       "<!-- 2 -->\r\n",
       "<g id=\"node3\" class=\"node\"><title>2</title>\r\n",
       "<path fill=\"#ffffff\" stroke=\"black\" d=\"M237,-773.5C237,-773.5 159,-773.5 159,-773.5 153,-773.5 147,-767.5 147,-761.5 147,-761.5 147,-732.5 147,-732.5 147,-726.5 153,-720.5 159,-720.5 159,-720.5 237,-720.5 237,-720.5 243,-720.5 249,-726.5 249,-732.5 249,-732.5 249,-761.5 249,-761.5 249,-767.5 243,-773.5 237,-773.5\"/>\r\n",
       "<text text-anchor=\"start\" x=\"157.5\" y=\"-758.3\" font-family=\"Helvetica,sans-Serif\" font-size=\"14.00\">mse = 0.241</text>\r\n",
       "<text text-anchor=\"start\" x=\"158.5\" y=\"-743.3\" font-family=\"Helvetica,sans-Serif\" font-size=\"14.00\">samples = 5</text>\r\n",
       "<text text-anchor=\"start\" x=\"155\" y=\"-728.3\" font-family=\"Helvetica,sans-Serif\" font-size=\"14.00\">value = 1.138</text>\r\n",
       "</g>\r\n",
       "<!-- 1&#45;&gt;2 -->\r\n",
       "<g id=\"edge2\" class=\"edge\"><title>1&#45;&gt;2</title>\r\n",
       "<path fill=\"none\" stroke=\"black\" d=\"M279.715,-816.884C265.755,-805.116 250.07,-791.894 236.202,-780.203\"/>\r\n",
       "<polygon fill=\"black\" stroke=\"black\" points=\"238.175,-777.289 228.274,-773.52 233.664,-782.641 238.175,-777.289\"/>\r\n",
       "</g>\r\n",
       "<!-- 3 -->\r\n",
       "<g id=\"node4\" class=\"node\"><title>3</title>\r\n",
       "<path fill=\"#f5ceb2\" stroke=\"black\" d=\"M358.5,-781C358.5,-781 279.5,-781 279.5,-781 273.5,-781 267.5,-775 267.5,-769 267.5,-769 267.5,-725 267.5,-725 267.5,-719 273.5,-713 279.5,-713 279.5,-713 358.5,-713 358.5,-713 364.5,-713 370.5,-719 370.5,-725 370.5,-725 370.5,-769 370.5,-769 370.5,-775 364.5,-781 358.5,-781\"/>\r\n",
       "<text text-anchor=\"start\" x=\"292\" y=\"-765.8\" font-family=\"Helvetica,sans-Serif\" font-size=\"14.00\">X ≤ 19.5</text>\r\n",
       "<text text-anchor=\"start\" x=\"278.5\" y=\"-750.8\" font-family=\"Helvetica,sans-Serif\" font-size=\"14.00\">mse = 0.286</text>\r\n",
       "<text text-anchor=\"start\" x=\"275.5\" y=\"-735.8\" font-family=\"Helvetica,sans-Serif\" font-size=\"14.00\">samples = 19</text>\r\n",
       "<text text-anchor=\"start\" x=\"280\" y=\"-720.8\" font-family=\"Helvetica,sans-Serif\" font-size=\"14.00\">value = 2.48</text>\r\n",
       "</g>\r\n",
       "<!-- 1&#45;&gt;3 -->\r\n",
       "<g id=\"edge3\" class=\"edge\"><title>1&#45;&gt;3</title>\r\n",
       "<path fill=\"none\" stroke=\"black\" d=\"M319,-816.884C319,-808.778 319,-799.982 319,-791.472\"/>\r\n",
       "<polygon fill=\"black\" stroke=\"black\" points=\"322.5,-791.299 319,-781.299 315.5,-791.299 322.5,-791.299\"/>\r\n",
       "</g>\r\n",
       "<!-- 4 -->\r\n",
       "<g id=\"node5\" class=\"node\"><title>4</title>\r\n",
       "<path fill=\"#f6d3ba\" stroke=\"black\" d=\"M237.5,-677C237.5,-677 158.5,-677 158.5,-677 152.5,-677 146.5,-671 146.5,-665 146.5,-665 146.5,-621 146.5,-621 146.5,-615 152.5,-609 158.5,-609 158.5,-609 237.5,-609 237.5,-609 243.5,-609 249.5,-615 249.5,-621 249.5,-621 249.5,-665 249.5,-665 249.5,-671 243.5,-677 237.5,-677\"/>\r\n",
       "<text text-anchor=\"start\" x=\"175\" y=\"-661.8\" font-family=\"Helvetica,sans-Serif\" font-size=\"14.00\">X ≤ 8.5</text>\r\n",
       "<text text-anchor=\"start\" x=\"157.5\" y=\"-646.8\" font-family=\"Helvetica,sans-Serif\" font-size=\"14.00\">mse = 0.235</text>\r\n",
       "<text text-anchor=\"start\" x=\"154.5\" y=\"-631.8\" font-family=\"Helvetica,sans-Serif\" font-size=\"14.00\">samples = 14</text>\r\n",
       "<text text-anchor=\"start\" x=\"155\" y=\"-616.8\" font-family=\"Helvetica,sans-Serif\" font-size=\"14.00\">value = 2.346</text>\r\n",
       "</g>\r\n",
       "<!-- 3&#45;&gt;4 -->\r\n",
       "<g id=\"edge4\" class=\"edge\"><title>3&#45;&gt;4</title>\r\n",
       "<path fill=\"none\" stroke=\"black\" d=\"M279.715,-712.884C268.726,-703.62 256.667,-693.455 245.268,-683.845\"/>\r\n",
       "<polygon fill=\"black\" stroke=\"black\" points=\"247.404,-681.069 237.502,-677.299 242.892,-686.421 247.404,-681.069\"/>\r\n",
       "</g>\r\n",
       "<!-- 11 -->\r\n",
       "<g id=\"node12\" class=\"node\"><title>11</title>\r\n",
       "<path fill=\"#f2c09d\" stroke=\"black\" d=\"M358,-669.5C358,-669.5 280,-669.5 280,-669.5 274,-669.5 268,-663.5 268,-657.5 268,-657.5 268,-628.5 268,-628.5 268,-622.5 274,-616.5 280,-616.5 280,-616.5 358,-616.5 358,-616.5 364,-616.5 370,-622.5 370,-628.5 370,-628.5 370,-657.5 370,-657.5 370,-663.5 364,-669.5 358,-669.5\"/>\r\n",
       "<text text-anchor=\"start\" x=\"278.5\" y=\"-654.3\" font-family=\"Helvetica,sans-Serif\" font-size=\"14.00\">mse = 0.236</text>\r\n",
       "<text text-anchor=\"start\" x=\"279.5\" y=\"-639.3\" font-family=\"Helvetica,sans-Serif\" font-size=\"14.00\">samples = 5</text>\r\n",
       "<text text-anchor=\"start\" x=\"276\" y=\"-624.3\" font-family=\"Helvetica,sans-Serif\" font-size=\"14.00\">value = 2.856</text>\r\n",
       "</g>\r\n",
       "<!-- 3&#45;&gt;11 -->\r\n",
       "<g id=\"edge11\" class=\"edge\"><title>3&#45;&gt;11</title>\r\n",
       "<path fill=\"none\" stroke=\"black\" d=\"M319,-712.884C319,-702.326 319,-690.597 319,-679.854\"/>\r\n",
       "<polygon fill=\"black\" stroke=\"black\" points=\"322.5,-679.52 319,-669.52 315.5,-679.52 322.5,-679.52\"/>\r\n",
       "</g>\r\n",
       "<!-- 5 -->\r\n",
       "<g id=\"node6\" class=\"node\"><title>5</title>\r\n",
       "<path fill=\"#f9e0cf\" stroke=\"black\" d=\"M116,-565.5C116,-565.5 38,-565.5 38,-565.5 32,-565.5 26,-559.5 26,-553.5 26,-553.5 26,-524.5 26,-524.5 26,-518.5 32,-512.5 38,-512.5 38,-512.5 116,-512.5 116,-512.5 122,-512.5 128,-518.5 128,-524.5 128,-524.5 128,-553.5 128,-553.5 128,-559.5 122,-565.5 116,-565.5\"/>\r\n",
       "<text text-anchor=\"start\" x=\"36.5\" y=\"-550.3\" font-family=\"Helvetica,sans-Serif\" font-size=\"14.00\">mse = 0.072</text>\r\n",
       "<text text-anchor=\"start\" x=\"37.5\" y=\"-535.3\" font-family=\"Helvetica,sans-Serif\" font-size=\"14.00\">samples = 3</text>\r\n",
       "<text text-anchor=\"start\" x=\"34\" y=\"-520.3\" font-family=\"Helvetica,sans-Serif\" font-size=\"14.00\">value = 1.978</text>\r\n",
       "</g>\r\n",
       "<!-- 4&#45;&gt;5 -->\r\n",
       "<g id=\"edge5\" class=\"edge\"><title>4&#45;&gt;5</title>\r\n",
       "<path fill=\"none\" stroke=\"black\" d=\"M158.715,-608.884C144.755,-597.116 129.07,-583.894 115.202,-572.203\"/>\r\n",
       "<polygon fill=\"black\" stroke=\"black\" points=\"117.175,-569.289 107.274,-565.52 112.664,-574.641 117.175,-569.289\"/>\r\n",
       "</g>\r\n",
       "<!-- 6 -->\r\n",
       "<g id=\"node7\" class=\"node\"><title>6</title>\r\n",
       "<path fill=\"#f5cfb4\" stroke=\"black\" d=\"M237.5,-573C237.5,-573 158.5,-573 158.5,-573 152.5,-573 146.5,-567 146.5,-561 146.5,-561 146.5,-517 146.5,-517 146.5,-511 152.5,-505 158.5,-505 158.5,-505 237.5,-505 237.5,-505 243.5,-505 249.5,-511 249.5,-517 249.5,-517 249.5,-561 249.5,-561 249.5,-567 243.5,-573 237.5,-573\"/>\r\n",
       "<text text-anchor=\"start\" x=\"171\" y=\"-557.8\" font-family=\"Helvetica,sans-Serif\" font-size=\"14.00\">X ≤ 16.5</text>\r\n",
       "<text text-anchor=\"start\" x=\"157.5\" y=\"-542.8\" font-family=\"Helvetica,sans-Serif\" font-size=\"14.00\">mse = 0.232</text>\r\n",
       "<text text-anchor=\"start\" x=\"154.5\" y=\"-527.8\" font-family=\"Helvetica,sans-Serif\" font-size=\"14.00\">samples = 11</text>\r\n",
       "<text text-anchor=\"start\" x=\"155\" y=\"-512.8\" font-family=\"Helvetica,sans-Serif\" font-size=\"14.00\">value = 2.446</text>\r\n",
       "</g>\r\n",
       "<!-- 4&#45;&gt;6 -->\r\n",
       "<g id=\"edge6\" class=\"edge\"><title>4&#45;&gt;6</title>\r\n",
       "<path fill=\"none\" stroke=\"black\" d=\"M198,-608.884C198,-600.778 198,-591.982 198,-583.472\"/>\r\n",
       "<polygon fill=\"black\" stroke=\"black\" points=\"201.5,-583.299 198,-573.299 194.5,-583.299 201.5,-583.299\"/>\r\n",
       "</g>\r\n",
       "<!-- 7 -->\r\n",
       "<g id=\"node8\" class=\"node\"><title>7</title>\r\n",
       "<path fill=\"#f5cdb0\" stroke=\"black\" d=\"M121,-469C121,-469 43,-469 43,-469 37,-469 31,-463 31,-457 31,-457 31,-413 31,-413 31,-407 37,-401 43,-401 43,-401 121,-401 121,-401 127,-401 133,-407 133,-413 133,-413 133,-457 133,-457 133,-463 127,-469 121,-469\"/>\r\n",
       "<text text-anchor=\"start\" x=\"55\" y=\"-453.8\" font-family=\"Helvetica,sans-Serif\" font-size=\"14.00\">X ≤ 13.5</text>\r\n",
       "<text text-anchor=\"start\" x=\"41.5\" y=\"-438.8\" font-family=\"Helvetica,sans-Serif\" font-size=\"14.00\">mse = 0.213</text>\r\n",
       "<text text-anchor=\"start\" x=\"42.5\" y=\"-423.8\" font-family=\"Helvetica,sans-Serif\" font-size=\"14.00\">samples = 8</text>\r\n",
       "<text text-anchor=\"start\" x=\"39\" y=\"-408.8\" font-family=\"Helvetica,sans-Serif\" font-size=\"14.00\">value = 2.519</text>\r\n",
       "</g>\r\n",
       "<!-- 6&#45;&gt;7 -->\r\n",
       "<g id=\"edge7\" class=\"edge\"><title>6&#45;&gt;7</title>\r\n",
       "<path fill=\"none\" stroke=\"black\" d=\"M160.338,-504.884C149.904,-495.709 138.465,-485.65 127.63,-476.123\"/>\r\n",
       "<polygon fill=\"black\" stroke=\"black\" points=\"129.691,-473.274 119.87,-469.299 125.068,-478.531 129.691,-473.274\"/>\r\n",
       "</g>\r\n",
       "<!-- 10 -->\r\n",
       "<g id=\"node11\" class=\"node\"><title>10</title>\r\n",
       "<path fill=\"#f7d6bf\" stroke=\"black\" d=\"M234.5,-461.5C234.5,-461.5 163.5,-461.5 163.5,-461.5 157.5,-461.5 151.5,-455.5 151.5,-449.5 151.5,-449.5 151.5,-420.5 151.5,-420.5 151.5,-414.5 157.5,-408.5 163.5,-408.5 163.5,-408.5 234.5,-408.5 234.5,-408.5 240.5,-408.5 246.5,-414.5 246.5,-420.5 246.5,-420.5 246.5,-449.5 246.5,-449.5 246.5,-455.5 240.5,-461.5 234.5,-461.5\"/>\r\n",
       "<text text-anchor=\"start\" x=\"162.5\" y=\"-446.3\" font-family=\"Helvetica,sans-Serif\" font-size=\"14.00\">mse = 0.23</text>\r\n",
       "<text text-anchor=\"start\" x=\"159.5\" y=\"-431.3\" font-family=\"Helvetica,sans-Serif\" font-size=\"14.00\">samples = 3</text>\r\n",
       "<text text-anchor=\"start\" x=\"160\" y=\"-416.3\" font-family=\"Helvetica,sans-Serif\" font-size=\"14.00\">value = 2.25</text>\r\n",
       "</g>\r\n",
       "<!-- 6&#45;&gt;10 -->\r\n",
       "<g id=\"edge10\" class=\"edge\"><title>6&#45;&gt;10</title>\r\n",
       "<path fill=\"none\" stroke=\"black\" d=\"M198.325,-504.884C198.428,-494.326 198.543,-482.597 198.648,-471.854\"/>\r\n",
       "<polygon fill=\"black\" stroke=\"black\" points=\"202.152,-471.554 198.75,-461.52 195.152,-471.485 202.152,-471.554\"/>\r\n",
       "</g>\r\n",
       "<!-- 8 -->\r\n",
       "<g id=\"node9\" class=\"node\"><title>8</title>\r\n",
       "<path fill=\"#f6d1b7\" stroke=\"black\" d=\"M90,-357.5C90,-357.5 12,-357.5 12,-357.5 6,-357.5 0,-351.5 0,-345.5 0,-345.5 0,-316.5 0,-316.5 0,-310.5 6,-304.5 12,-304.5 12,-304.5 90,-304.5 90,-304.5 96,-304.5 102,-310.5 102,-316.5 102,-316.5 102,-345.5 102,-345.5 102,-351.5 96,-357.5 90,-357.5\"/>\r\n",
       "<text text-anchor=\"start\" x=\"10.5\" y=\"-342.3\" font-family=\"Helvetica,sans-Serif\" font-size=\"14.00\">mse = 0.272</text>\r\n",
       "<text text-anchor=\"start\" x=\"11.5\" y=\"-327.3\" font-family=\"Helvetica,sans-Serif\" font-size=\"14.00\">samples = 5</text>\r\n",
       "<text text-anchor=\"start\" x=\"8\" y=\"-312.3\" font-family=\"Helvetica,sans-Serif\" font-size=\"14.00\">value = 2.394</text>\r\n",
       "</g>\r\n",
       "<!-- 7&#45;&gt;8 -->\r\n",
       "<g id=\"edge8\" class=\"edge\"><title>7&#45;&gt;8</title>\r\n",
       "<path fill=\"none\" stroke=\"black\" d=\"M71.9352,-400.884C68.6595,-390.106 65.0131,-378.108 61.6932,-367.184\"/>\r\n",
       "<polygon fill=\"black\" stroke=\"black\" points=\"65.0128,-366.07 58.7561,-357.52 58.3153,-368.106 65.0128,-366.07\"/>\r\n",
       "</g>\r\n",
       "<!-- 9 -->\r\n",
       "<g id=\"node10\" class=\"node\"><title>9</title>\r\n",
       "<path fill=\"#f3c5a4\" stroke=\"black\" d=\"M210,-357.5C210,-357.5 132,-357.5 132,-357.5 126,-357.5 120,-351.5 120,-345.5 120,-345.5 120,-316.5 120,-316.5 120,-310.5 126,-304.5 132,-304.5 132,-304.5 210,-304.5 210,-304.5 216,-304.5 222,-310.5 222,-316.5 222,-316.5 222,-345.5 222,-345.5 222,-351.5 216,-357.5 210,-357.5\"/>\r\n",
       "<text text-anchor=\"start\" x=\"130.5\" y=\"-342.3\" font-family=\"Helvetica,sans-Serif\" font-size=\"14.00\">mse = 0.045</text>\r\n",
       "<text text-anchor=\"start\" x=\"131.5\" y=\"-327.3\" font-family=\"Helvetica,sans-Serif\" font-size=\"14.00\">samples = 3</text>\r\n",
       "<text text-anchor=\"start\" x=\"128\" y=\"-312.3\" font-family=\"Helvetica,sans-Serif\" font-size=\"14.00\">value = 2.728</text>\r\n",
       "</g>\r\n",
       "<!-- 7&#45;&gt;9 -->\r\n",
       "<g id=\"edge9\" class=\"edge\"><title>7&#45;&gt;9</title>\r\n",
       "<path fill=\"none\" stroke=\"black\" d=\"M110.896,-400.884C120.876,-389.446 132.055,-376.634 142.04,-365.19\"/>\r\n",
       "<polygon fill=\"black\" stroke=\"black\" points=\"144.795,-367.356 148.733,-357.52 139.521,-362.754 144.795,-367.356\"/>\r\n",
       "</g>\r\n",
       "<!-- 13 -->\r\n",
       "<g id=\"node14\" class=\"node\"><title>13</title>\r\n",
       "<path fill=\"#eca571\" stroke=\"black\" d=\"M583.5,-781C583.5,-781 504.5,-781 504.5,-781 498.5,-781 492.5,-775 492.5,-769 492.5,-769 492.5,-725 492.5,-725 492.5,-719 498.5,-713 504.5,-713 504.5,-713 583.5,-713 583.5,-713 589.5,-713 595.5,-719 595.5,-725 595.5,-725 595.5,-769 595.5,-769 595.5,-775 589.5,-781 583.5,-781\"/>\r\n",
       "<text text-anchor=\"start\" x=\"517\" y=\"-765.8\" font-family=\"Helvetica,sans-Serif\" font-size=\"14.00\">X ≤ 37.5</text>\r\n",
       "<text text-anchor=\"start\" x=\"503.5\" y=\"-750.8\" font-family=\"Helvetica,sans-Serif\" font-size=\"14.00\">mse = 0.178</text>\r\n",
       "<text text-anchor=\"start\" x=\"500.5\" y=\"-735.8\" font-family=\"Helvetica,sans-Serif\" font-size=\"14.00\">samples = 25</text>\r\n",
       "<text text-anchor=\"start\" x=\"501\" y=\"-720.8\" font-family=\"Helvetica,sans-Serif\" font-size=\"14.00\">value = 3.612</text>\r\n",
       "</g>\r\n",
       "<!-- 12&#45;&gt;13 -->\r\n",
       "<g id=\"edge13\" class=\"edge\"><title>12&#45;&gt;13</title>\r\n",
       "<path fill=\"none\" stroke=\"black\" d=\"M544,-816.884C544,-808.778 544,-799.982 544,-791.472\"/>\r\n",
       "<polygon fill=\"black\" stroke=\"black\" points=\"547.5,-791.299 544,-781.299 540.5,-791.299 547.5,-791.299\"/>\r\n",
       "</g>\r\n",
       "<!-- 28 -->\r\n",
       "<g id=\"node29\" class=\"node\"><title>28</title>\r\n",
       "<path fill=\"#e89151\" stroke=\"black\" d=\"M1138.5,-781C1138.5,-781 1059.5,-781 1059.5,-781 1053.5,-781 1047.5,-775 1047.5,-769 1047.5,-769 1047.5,-725 1047.5,-725 1047.5,-719 1053.5,-713 1059.5,-713 1059.5,-713 1138.5,-713 1138.5,-713 1144.5,-713 1150.5,-719 1150.5,-725 1150.5,-725 1150.5,-769 1150.5,-769 1150.5,-775 1144.5,-781 1138.5,-781\"/>\r\n",
       "<text text-anchor=\"start\" x=\"1072\" y=\"-765.8\" font-family=\"Helvetica,sans-Serif\" font-size=\"14.00\">X ≤ 97.5</text>\r\n",
       "<text text-anchor=\"start\" x=\"1058.5\" y=\"-750.8\" font-family=\"Helvetica,sans-Serif\" font-size=\"14.00\">mse = 0.192</text>\r\n",
       "<text text-anchor=\"start\" x=\"1055.5\" y=\"-735.8\" font-family=\"Helvetica,sans-Serif\" font-size=\"14.00\">samples = 51</text>\r\n",
       "<text text-anchor=\"start\" x=\"1056\" y=\"-720.8\" font-family=\"Helvetica,sans-Serif\" font-size=\"14.00\">value = 4.167</text>\r\n",
       "</g>\r\n",
       "<!-- 12&#45;&gt;28 -->\r\n",
       "<g id=\"edge28\" class=\"edge\"><title>12&#45;&gt;28</title>\r\n",
       "<path fill=\"none\" stroke=\"black\" d=\"M595.715,-840.496C698.269,-821.648 926.995,-779.612 1037.24,-759.35\"/>\r\n",
       "<polygon fill=\"black\" stroke=\"black\" points=\"1038.01,-762.767 1047.21,-757.517 1036.75,-755.883 1038.01,-762.767\"/>\r\n",
       "</g>\r\n",
       "<!-- 14 -->\r\n",
       "<g id=\"node15\" class=\"node\"><title>14</title>\r\n",
       "<path fill=\"#eba069\" stroke=\"black\" d=\"M479.5,-677C479.5,-677 400.5,-677 400.5,-677 394.5,-677 388.5,-671 388.5,-665 388.5,-665 388.5,-621 388.5,-621 388.5,-615 394.5,-609 400.5,-609 400.5,-609 479.5,-609 479.5,-609 485.5,-609 491.5,-615 491.5,-621 491.5,-621 491.5,-665 491.5,-665 491.5,-671 485.5,-677 479.5,-677\"/>\r\n",
       "<text text-anchor=\"start\" x=\"413\" y=\"-661.8\" font-family=\"Helvetica,sans-Serif\" font-size=\"14.00\">X ≤ 27.5</text>\r\n",
       "<text text-anchor=\"start\" x=\"403.5\" y=\"-646.8\" font-family=\"Helvetica,sans-Serif\" font-size=\"14.00\">mse = 0.15</text>\r\n",
       "<text text-anchor=\"start\" x=\"396.5\" y=\"-631.8\" font-family=\"Helvetica,sans-Serif\" font-size=\"14.00\">samples = 13</text>\r\n",
       "<text text-anchor=\"start\" x=\"397\" y=\"-616.8\" font-family=\"Helvetica,sans-Serif\" font-size=\"14.00\">value = 3.753</text>\r\n",
       "</g>\r\n",
       "<!-- 13&#45;&gt;14 -->\r\n",
       "<g id=\"edge14\" class=\"edge\"><title>13&#45;&gt;14</title>\r\n",
       "<path fill=\"none\" stroke=\"black\" d=\"M510.234,-712.884C500.971,-703.798 490.823,-693.845 481.193,-684.4\"/>\r\n",
       "<polygon fill=\"black\" stroke=\"black\" points=\"483.542,-681.803 473.952,-677.299 478.641,-686.8 483.542,-681.803\"/>\r\n",
       "</g>\r\n",
       "<!-- 21 -->\r\n",
       "<g id=\"node22\" class=\"node\"><title>21</title>\r\n",
       "<path fill=\"#eeaa7a\" stroke=\"black\" d=\"M658.5,-677C658.5,-677 579.5,-677 579.5,-677 573.5,-677 567.5,-671 567.5,-665 567.5,-665 567.5,-621 567.5,-621 567.5,-615 573.5,-609 579.5,-609 579.5,-609 658.5,-609 658.5,-609 664.5,-609 670.5,-615 670.5,-621 670.5,-621 670.5,-665 670.5,-665 670.5,-671 664.5,-677 658.5,-677\"/>\r\n",
       "<text text-anchor=\"start\" x=\"592\" y=\"-661.8\" font-family=\"Helvetica,sans-Serif\" font-size=\"14.00\">X ≤ 43.5</text>\r\n",
       "<text text-anchor=\"start\" x=\"578.5\" y=\"-646.8\" font-family=\"Helvetica,sans-Serif\" font-size=\"14.00\">mse = 0.164</text>\r\n",
       "<text text-anchor=\"start\" x=\"575.5\" y=\"-631.8\" font-family=\"Helvetica,sans-Serif\" font-size=\"14.00\">samples = 12</text>\r\n",
       "<text text-anchor=\"start\" x=\"580\" y=\"-616.8\" font-family=\"Helvetica,sans-Serif\" font-size=\"14.00\">value = 3.46</text>\r\n",
       "</g>\r\n",
       "<!-- 13&#45;&gt;21 -->\r\n",
       "<g id=\"edge21\" class=\"edge\"><title>13&#45;&gt;21</title>\r\n",
       "<path fill=\"none\" stroke=\"black\" d=\"M568.35,-712.884C574.769,-704.154 581.776,-694.625 588.475,-685.514\"/>\r\n",
       "<polygon fill=\"black\" stroke=\"black\" points=\"591.411,-687.429 594.515,-677.299 585.771,-683.283 591.411,-687.429\"/>\r\n",
       "</g>\r\n",
       "<!-- 15 -->\r\n",
       "<g id=\"node16\" class=\"node\"><title>15</title>\r\n",
       "<path fill=\"#eda673\" stroke=\"black\" d=\"M358,-565.5C358,-565.5 280,-565.5 280,-565.5 274,-565.5 268,-559.5 268,-553.5 268,-553.5 268,-524.5 268,-524.5 268,-518.5 274,-512.5 280,-512.5 280,-512.5 358,-512.5 358,-512.5 364,-512.5 370,-518.5 370,-524.5 370,-524.5 370,-553.5 370,-553.5 370,-559.5 364,-565.5 358,-565.5\"/>\r\n",
       "<text text-anchor=\"start\" x=\"278.5\" y=\"-550.3\" font-family=\"Helvetica,sans-Serif\" font-size=\"14.00\">mse = 0.183</text>\r\n",
       "<text text-anchor=\"start\" x=\"279.5\" y=\"-535.3\" font-family=\"Helvetica,sans-Serif\" font-size=\"14.00\">samples = 3</text>\r\n",
       "<text text-anchor=\"start\" x=\"276\" y=\"-520.3\" font-family=\"Helvetica,sans-Serif\" font-size=\"14.00\">value = 3.579</text>\r\n",
       "</g>\r\n",
       "<!-- 14&#45;&gt;15 -->\r\n",
       "<g id=\"edge15\" class=\"edge\"><title>14&#45;&gt;15</title>\r\n",
       "<path fill=\"none\" stroke=\"black\" d=\"M400.715,-608.884C386.755,-597.116 371.07,-583.894 357.202,-572.203\"/>\r\n",
       "<polygon fill=\"black\" stroke=\"black\" points=\"359.175,-569.289 349.274,-565.52 354.664,-574.641 359.175,-569.289\"/>\r\n",
       "</g>\r\n",
       "<!-- 16 -->\r\n",
       "<g id=\"node17\" class=\"node\"><title>16</title>\r\n",
       "<path fill=\"#eb9e66\" stroke=\"black\" d=\"M479.5,-573C479.5,-573 400.5,-573 400.5,-573 394.5,-573 388.5,-567 388.5,-561 388.5,-561 388.5,-517 388.5,-517 388.5,-511 394.5,-505 400.5,-505 400.5,-505 479.5,-505 479.5,-505 485.5,-505 491.5,-511 491.5,-517 491.5,-517 491.5,-561 491.5,-561 491.5,-567 485.5,-573 479.5,-573\"/>\r\n",
       "<text text-anchor=\"start\" x=\"413\" y=\"-557.8\" font-family=\"Helvetica,sans-Serif\" font-size=\"14.00\">X ≤ 31.5</text>\r\n",
       "<text text-anchor=\"start\" x=\"399.5\" y=\"-542.8\" font-family=\"Helvetica,sans-Serif\" font-size=\"14.00\">mse = 0.129</text>\r\n",
       "<text text-anchor=\"start\" x=\"396.5\" y=\"-527.8\" font-family=\"Helvetica,sans-Serif\" font-size=\"14.00\">samples = 10</text>\r\n",
       "<text text-anchor=\"start\" x=\"397\" y=\"-512.8\" font-family=\"Helvetica,sans-Serif\" font-size=\"14.00\">value = 3.805</text>\r\n",
       "</g>\r\n",
       "<!-- 14&#45;&gt;16 -->\r\n",
       "<g id=\"edge16\" class=\"edge\"><title>14&#45;&gt;16</title>\r\n",
       "<path fill=\"none\" stroke=\"black\" d=\"M440,-608.884C440,-600.778 440,-591.982 440,-583.472\"/>\r\n",
       "<polygon fill=\"black\" stroke=\"black\" points=\"443.5,-583.299 440,-573.299 436.5,-583.299 443.5,-583.299\"/>\r\n",
       "</g>\r\n",
       "<!-- 17 -->\r\n",
       "<g id=\"node18\" class=\"node\"><title>17</title>\r\n",
       "<path fill=\"#ea9a61\" stroke=\"black\" d=\"M357,-461.5C357,-461.5 279,-461.5 279,-461.5 273,-461.5 267,-455.5 267,-449.5 267,-449.5 267,-420.5 267,-420.5 267,-414.5 273,-408.5 279,-408.5 279,-408.5 357,-408.5 357,-408.5 363,-408.5 369,-414.5 369,-420.5 369,-420.5 369,-449.5 369,-449.5 369,-455.5 363,-461.5 357,-461.5\"/>\r\n",
       "<text text-anchor=\"start\" x=\"277.5\" y=\"-446.3\" font-family=\"Helvetica,sans-Serif\" font-size=\"14.00\">mse = 0.083</text>\r\n",
       "<text text-anchor=\"start\" x=\"278.5\" y=\"-431.3\" font-family=\"Helvetica,sans-Serif\" font-size=\"14.00\">samples = 4</text>\r\n",
       "<text text-anchor=\"start\" x=\"275\" y=\"-416.3\" font-family=\"Helvetica,sans-Serif\" font-size=\"14.00\">value = 3.901</text>\r\n",
       "</g>\r\n",
       "<!-- 16&#45;&gt;17 -->\r\n",
       "<g id=\"edge17\" class=\"edge\"><title>16&#45;&gt;17</title>\r\n",
       "<path fill=\"none\" stroke=\"black\" d=\"M400.39,-504.884C386.315,-493.116 370.5,-479.894 356.518,-468.203\"/>\r\n",
       "<polygon fill=\"black\" stroke=\"black\" points=\"358.441,-465.249 348.524,-461.52 353.951,-470.619 358.441,-465.249\"/>\r\n",
       "</g>\r\n",
       "<!-- 18 -->\r\n",
       "<g id=\"node19\" class=\"node\"><title>18</title>\r\n",
       "<path fill=\"#eba06a\" stroke=\"black\" d=\"M477,-469C477,-469 399,-469 399,-469 393,-469 387,-463 387,-457 387,-457 387,-413 387,-413 387,-407 393,-401 399,-401 399,-401 477,-401 477,-401 483,-401 489,-407 489,-413 489,-413 489,-457 489,-457 489,-463 483,-469 477,-469\"/>\r\n",
       "<text text-anchor=\"start\" x=\"411\" y=\"-453.8\" font-family=\"Helvetica,sans-Serif\" font-size=\"14.00\">X ≤ 34.5</text>\r\n",
       "<text text-anchor=\"start\" x=\"397.5\" y=\"-438.8\" font-family=\"Helvetica,sans-Serif\" font-size=\"14.00\">mse = 0.149</text>\r\n",
       "<text text-anchor=\"start\" x=\"398.5\" y=\"-423.8\" font-family=\"Helvetica,sans-Serif\" font-size=\"14.00\">samples = 6</text>\r\n",
       "<text text-anchor=\"start\" x=\"395\" y=\"-408.8\" font-family=\"Helvetica,sans-Serif\" font-size=\"14.00\">value = 3.741</text>\r\n",
       "</g>\r\n",
       "<!-- 16&#45;&gt;18 -->\r\n",
       "<g id=\"edge18\" class=\"edge\"><title>16&#45;&gt;18</title>\r\n",
       "<path fill=\"none\" stroke=\"black\" d=\"M439.351,-504.884C439.192,-496.778 439.019,-487.982 438.852,-479.472\"/>\r\n",
       "<polygon fill=\"black\" stroke=\"black\" points=\"442.348,-479.229 438.653,-469.299 435.35,-479.366 442.348,-479.229\"/>\r\n",
       "</g>\r\n",
       "<!-- 19 -->\r\n",
       "<g id=\"node20\" class=\"node\"><title>19</title>\r\n",
       "<path fill=\"#eca36e\" stroke=\"black\" d=\"M387,-357.5C387,-357.5 309,-357.5 309,-357.5 303,-357.5 297,-351.5 297,-345.5 297,-345.5 297,-316.5 297,-316.5 297,-310.5 303,-304.5 309,-304.5 309,-304.5 387,-304.5 387,-304.5 393,-304.5 399,-310.5 399,-316.5 399,-316.5 399,-345.5 399,-345.5 399,-351.5 393,-357.5 387,-357.5\"/>\r\n",
       "<text text-anchor=\"start\" x=\"307.5\" y=\"-342.3\" font-family=\"Helvetica,sans-Serif\" font-size=\"14.00\">mse = 0.019</text>\r\n",
       "<text text-anchor=\"start\" x=\"308.5\" y=\"-327.3\" font-family=\"Helvetica,sans-Serif\" font-size=\"14.00\">samples = 3</text>\r\n",
       "<text text-anchor=\"start\" x=\"305\" y=\"-312.3\" font-family=\"Helvetica,sans-Serif\" font-size=\"14.00\">value = 3.669</text>\r\n",
       "</g>\r\n",
       "<!-- 18&#45;&gt;19 -->\r\n",
       "<g id=\"edge19\" class=\"edge\"><title>18&#45;&gt;19</title>\r\n",
       "<path fill=\"none\" stroke=\"black\" d=\"M408.78,-400.884C398.687,-389.446 387.383,-376.634 377.285,-365.19\"/>\r\n",
       "<polygon fill=\"black\" stroke=\"black\" points=\"379.758,-362.703 370.518,-357.52 374.509,-367.334 379.758,-362.703\"/>\r\n",
       "</g>\r\n",
       "<!-- 20 -->\r\n",
       "<g id=\"node21\" class=\"node\"><title>20</title>\r\n",
       "<path fill=\"#eb9d66\" stroke=\"black\" d=\"M507,-357.5C507,-357.5 429,-357.5 429,-357.5 423,-357.5 417,-351.5 417,-345.5 417,-345.5 417,-316.5 417,-316.5 417,-310.5 423,-304.5 429,-304.5 429,-304.5 507,-304.5 507,-304.5 513,-304.5 519,-310.5 519,-316.5 519,-316.5 519,-345.5 519,-345.5 519,-351.5 513,-357.5 507,-357.5\"/>\r\n",
       "<text text-anchor=\"start\" x=\"427.5\" y=\"-342.3\" font-family=\"Helvetica,sans-Serif\" font-size=\"14.00\">mse = 0.269</text>\r\n",
       "<text text-anchor=\"start\" x=\"428.5\" y=\"-327.3\" font-family=\"Helvetica,sans-Serif\" font-size=\"14.00\">samples = 3</text>\r\n",
       "<text text-anchor=\"start\" x=\"425\" y=\"-312.3\" font-family=\"Helvetica,sans-Serif\" font-size=\"14.00\">value = 3.812</text>\r\n",
       "</g>\r\n",
       "<!-- 18&#45;&gt;20 -->\r\n",
       "<g id=\"edge20\" class=\"edge\"><title>18&#45;&gt;20</title>\r\n",
       "<path fill=\"none\" stroke=\"black\" d=\"M447.74,-400.884C450.91,-390.106 454.439,-378.108 457.652,-367.184\"/>\r\n",
       "<polygon fill=\"black\" stroke=\"black\" points=\"461.03,-368.101 460.494,-357.52 454.315,-366.126 461.03,-368.101\"/>\r\n",
       "</g>\r\n",
       "<!-- 22 -->\r\n",
       "<g id=\"node23\" class=\"node\"><title>22</title>\r\n",
       "<path fill=\"#efb387\" stroke=\"black\" d=\"M658,-573C658,-573 580,-573 580,-573 574,-573 568,-567 568,-561 568,-561 568,-517 568,-517 568,-511 574,-505 580,-505 580,-505 658,-505 658,-505 664,-505 670,-511 670,-517 670,-517 670,-561 670,-561 670,-567 664,-573 658,-573\"/>\r\n",
       "<text text-anchor=\"start\" x=\"592\" y=\"-557.8\" font-family=\"Helvetica,sans-Serif\" font-size=\"14.00\">X ≤ 40.5</text>\r\n",
       "<text text-anchor=\"start\" x=\"578.5\" y=\"-542.8\" font-family=\"Helvetica,sans-Serif\" font-size=\"14.00\">mse = 0.195</text>\r\n",
       "<text text-anchor=\"start\" x=\"579.5\" y=\"-527.8\" font-family=\"Helvetica,sans-Serif\" font-size=\"14.00\">samples = 6</text>\r\n",
       "<text text-anchor=\"start\" x=\"576\" y=\"-512.8\" font-family=\"Helvetica,sans-Serif\" font-size=\"14.00\">value = 3.235</text>\r\n",
       "</g>\r\n",
       "<!-- 21&#45;&gt;22 -->\r\n",
       "<g id=\"edge22\" class=\"edge\"><title>21&#45;&gt;22</title>\r\n",
       "<path fill=\"none\" stroke=\"black\" d=\"M619,-608.884C619,-600.778 619,-591.982 619,-583.472\"/>\r\n",
       "<polygon fill=\"black\" stroke=\"black\" points=\"622.5,-583.299 619,-573.299 615.5,-583.299 622.5,-583.299\"/>\r\n",
       "</g>\r\n",
       "<!-- 25 -->\r\n",
       "<g id=\"node26\" class=\"node\"><title>25</title>\r\n",
       "<path fill=\"#eca26d\" stroke=\"black\" d=\"M837,-573C837,-573 759,-573 759,-573 753,-573 747,-567 747,-561 747,-561 747,-517 747,-517 747,-511 753,-505 759,-505 759,-505 837,-505 837,-505 843,-505 849,-511 849,-517 849,-517 849,-561 849,-561 849,-567 843,-573 837,-573\"/>\r\n",
       "<text text-anchor=\"start\" x=\"771\" y=\"-557.8\" font-family=\"Helvetica,sans-Serif\" font-size=\"14.00\">X ≤ 46.5</text>\r\n",
       "<text text-anchor=\"start\" x=\"757.5\" y=\"-542.8\" font-family=\"Helvetica,sans-Serif\" font-size=\"14.00\">mse = 0.032</text>\r\n",
       "<text text-anchor=\"start\" x=\"758.5\" y=\"-527.8\" font-family=\"Helvetica,sans-Serif\" font-size=\"14.00\">samples = 6</text>\r\n",
       "<text text-anchor=\"start\" x=\"755\" y=\"-512.8\" font-family=\"Helvetica,sans-Serif\" font-size=\"14.00\">value = 3.686</text>\r\n",
       "</g>\r\n",
       "<!-- 21&#45;&gt;25 -->\r\n",
       "<g id=\"edge25\" class=\"edge\"><title>21&#45;&gt;25</title>\r\n",
       "<path fill=\"none\" stroke=\"black\" d=\"M670.774,-612.497C691.828,-600.5 716.291,-586.56 738.109,-574.128\"/>\r\n",
       "<polygon fill=\"black\" stroke=\"black\" points=\"740.005,-577.076 746.96,-569.084 736.539,-570.994 740.005,-577.076\"/>\r\n",
       "</g>\r\n",
       "<!-- 23 -->\r\n",
       "<g id=\"node24\" class=\"node\"><title>23</title>\r\n",
       "<path fill=\"#f0b489\" stroke=\"black\" d=\"M597,-461.5C597,-461.5 519,-461.5 519,-461.5 513,-461.5 507,-455.5 507,-449.5 507,-449.5 507,-420.5 507,-420.5 507,-414.5 513,-408.5 519,-408.5 519,-408.5 597,-408.5 597,-408.5 603,-408.5 609,-414.5 609,-420.5 609,-420.5 609,-449.5 609,-449.5 609,-455.5 603,-461.5 597,-461.5\"/>\r\n",
       "<text text-anchor=\"start\" x=\"517.5\" y=\"-446.3\" font-family=\"Helvetica,sans-Serif\" font-size=\"14.00\">mse = 0.352</text>\r\n",
       "<text text-anchor=\"start\" x=\"518.5\" y=\"-431.3\" font-family=\"Helvetica,sans-Serif\" font-size=\"14.00\">samples = 3</text>\r\n",
       "<text text-anchor=\"start\" x=\"515\" y=\"-416.3\" font-family=\"Helvetica,sans-Serif\" font-size=\"14.00\">value = 3.197</text>\r\n",
       "</g>\r\n",
       "<!-- 22&#45;&gt;23 -->\r\n",
       "<g id=\"edge23\" class=\"edge\"><title>22&#45;&gt;23</title>\r\n",
       "<path fill=\"none\" stroke=\"black\" d=\"M599.195,-504.884C592.552,-493.776 585.134,-481.372 578.443,-470.184\"/>\r\n",
       "<polygon fill=\"black\" stroke=\"black\" points=\"581.398,-468.306 573.262,-461.52 575.391,-471.899 581.398,-468.306\"/>\r\n",
       "</g>\r\n",
       "<!-- 24 -->\r\n",
       "<g id=\"node25\" class=\"node\"><title>24</title>\r\n",
       "<path fill=\"#efb185\" stroke=\"black\" d=\"M717,-461.5C717,-461.5 639,-461.5 639,-461.5 633,-461.5 627,-455.5 627,-449.5 627,-449.5 627,-420.5 627,-420.5 627,-414.5 633,-408.5 639,-408.5 639,-408.5 717,-408.5 717,-408.5 723,-408.5 729,-414.5 729,-420.5 729,-420.5 729,-449.5 729,-449.5 729,-455.5 723,-461.5 717,-461.5\"/>\r\n",
       "<text text-anchor=\"start\" x=\"637.5\" y=\"-446.3\" font-family=\"Helvetica,sans-Serif\" font-size=\"14.00\">mse = 0.035</text>\r\n",
       "<text text-anchor=\"start\" x=\"638.5\" y=\"-431.3\" font-family=\"Helvetica,sans-Serif\" font-size=\"14.00\">samples = 3</text>\r\n",
       "<text text-anchor=\"start\" x=\"635\" y=\"-416.3\" font-family=\"Helvetica,sans-Serif\" font-size=\"14.00\">value = 3.273</text>\r\n",
       "</g>\r\n",
       "<!-- 22&#45;&gt;24 -->\r\n",
       "<g id=\"edge24\" class=\"edge\"><title>22&#45;&gt;24</title>\r\n",
       "<path fill=\"none\" stroke=\"black\" d=\"M638.156,-504.884C644.581,-493.776 651.755,-481.372 658.227,-470.184\"/>\r\n",
       "<polygon fill=\"black\" stroke=\"black\" points=\"661.261,-471.929 663.238,-461.52 655.202,-468.424 661.261,-471.929\"/>\r\n",
       "</g>\r\n",
       "<!-- 26 -->\r\n",
       "<g id=\"node27\" class=\"node\"><title>26</title>\r\n",
       "<path fill=\"#eca26d\" stroke=\"black\" d=\"M837,-461.5C837,-461.5 759,-461.5 759,-461.5 753,-461.5 747,-455.5 747,-449.5 747,-449.5 747,-420.5 747,-420.5 747,-414.5 753,-408.5 759,-408.5 759,-408.5 837,-408.5 837,-408.5 843,-408.5 849,-414.5 849,-420.5 849,-420.5 849,-449.5 849,-449.5 849,-455.5 843,-461.5 837,-461.5\"/>\r\n",
       "<text text-anchor=\"start\" x=\"757.5\" y=\"-446.3\" font-family=\"Helvetica,sans-Serif\" font-size=\"14.00\">mse = 0.037</text>\r\n",
       "<text text-anchor=\"start\" x=\"758.5\" y=\"-431.3\" font-family=\"Helvetica,sans-Serif\" font-size=\"14.00\">samples = 3</text>\r\n",
       "<text text-anchor=\"start\" x=\"755\" y=\"-416.3\" font-family=\"Helvetica,sans-Serif\" font-size=\"14.00\">value = 3.678</text>\r\n",
       "</g>\r\n",
       "<!-- 25&#45;&gt;26 -->\r\n",
       "<g id=\"edge26\" class=\"edge\"><title>25&#45;&gt;26</title>\r\n",
       "<path fill=\"none\" stroke=\"black\" d=\"M798,-504.884C798,-494.326 798,-482.597 798,-471.854\"/>\r\n",
       "<polygon fill=\"black\" stroke=\"black\" points=\"801.5,-471.52 798,-461.52 794.5,-471.52 801.5,-471.52\"/>\r\n",
       "</g>\r\n",
       "<!-- 27 -->\r\n",
       "<g id=\"node28\" class=\"node\"><title>27</title>\r\n",
       "<path fill=\"#eca26d\" stroke=\"black\" d=\"M957,-461.5C957,-461.5 879,-461.5 879,-461.5 873,-461.5 867,-455.5 867,-449.5 867,-449.5 867,-420.5 867,-420.5 867,-414.5 873,-408.5 879,-408.5 879,-408.5 957,-408.5 957,-408.5 963,-408.5 969,-414.5 969,-420.5 969,-420.5 969,-449.5 969,-449.5 969,-455.5 963,-461.5 957,-461.5\"/>\r\n",
       "<text text-anchor=\"start\" x=\"877.5\" y=\"-446.3\" font-family=\"Helvetica,sans-Serif\" font-size=\"14.00\">mse = 0.026</text>\r\n",
       "<text text-anchor=\"start\" x=\"878.5\" y=\"-431.3\" font-family=\"Helvetica,sans-Serif\" font-size=\"14.00\">samples = 3</text>\r\n",
       "<text text-anchor=\"start\" x=\"875\" y=\"-416.3\" font-family=\"Helvetica,sans-Serif\" font-size=\"14.00\">value = 3.693</text>\r\n",
       "</g>\r\n",
       "<!-- 25&#45;&gt;27 -->\r\n",
       "<g id=\"edge27\" class=\"edge\"><title>25&#45;&gt;27</title>\r\n",
       "<path fill=\"none\" stroke=\"black\" d=\"M836.961,-504.884C850.805,-493.116 866.36,-479.894 880.114,-468.203\"/>\r\n",
       "<polygon fill=\"black\" stroke=\"black\" points=\"882.624,-470.663 887.977,-461.52 878.09,-465.33 882.624,-470.663\"/>\r\n",
       "</g>\r\n",
       "<!-- 29 -->\r\n",
       "<g id=\"node30\" class=\"node\"><title>29</title>\r\n",
       "<path fill=\"#e89153\" stroke=\"black\" d=\"M1138.5,-677C1138.5,-677 1059.5,-677 1059.5,-677 1053.5,-677 1047.5,-671 1047.5,-665 1047.5,-665 1047.5,-621 1047.5,-621 1047.5,-615 1053.5,-609 1059.5,-609 1059.5,-609 1138.5,-609 1138.5,-609 1144.5,-609 1150.5,-615 1150.5,-621 1150.5,-621 1150.5,-665 1150.5,-665 1150.5,-671 1144.5,-677 1138.5,-677\"/>\r\n",
       "<text text-anchor=\"start\" x=\"1072\" y=\"-661.8\" font-family=\"Helvetica,sans-Serif\" font-size=\"14.00\">X ≤ 70.5</text>\r\n",
       "<text text-anchor=\"start\" x=\"1058.5\" y=\"-646.8\" font-family=\"Helvetica,sans-Serif\" font-size=\"14.00\">mse = 0.192</text>\r\n",
       "<text text-anchor=\"start\" x=\"1055.5\" y=\"-631.8\" font-family=\"Helvetica,sans-Serif\" font-size=\"14.00\">samples = 48</text>\r\n",
       "<text text-anchor=\"start\" x=\"1060\" y=\"-616.8\" font-family=\"Helvetica,sans-Serif\" font-size=\"14.00\">value = 4.14</text>\r\n",
       "</g>\r\n",
       "<!-- 28&#45;&gt;29 -->\r\n",
       "<g id=\"edge29\" class=\"edge\"><title>28&#45;&gt;29</title>\r\n",
       "<path fill=\"none\" stroke=\"black\" d=\"M1099,-712.884C1099,-704.778 1099,-695.982 1099,-687.472\"/>\r\n",
       "<polygon fill=\"black\" stroke=\"black\" points=\"1102.5,-687.299 1099,-677.299 1095.5,-687.299 1102.5,-687.299\"/>\r\n",
       "</g>\r\n",
       "<!-- 54 -->\r\n",
       "<g id=\"node55\" class=\"node\"><title>54</title>\r\n",
       "<path fill=\"#e58139\" stroke=\"black\" d=\"M1259,-669.5C1259,-669.5 1181,-669.5 1181,-669.5 1175,-669.5 1169,-663.5 1169,-657.5 1169,-657.5 1169,-628.5 1169,-628.5 1169,-622.5 1175,-616.5 1181,-616.5 1181,-616.5 1259,-616.5 1259,-616.5 1265,-616.5 1271,-622.5 1271,-628.5 1271,-628.5 1271,-657.5 1271,-657.5 1271,-663.5 1265,-669.5 1259,-669.5\"/>\r\n",
       "<text text-anchor=\"start\" x=\"1179.5\" y=\"-654.3\" font-family=\"Helvetica,sans-Serif\" font-size=\"14.00\">mse = 0.004</text>\r\n",
       "<text text-anchor=\"start\" x=\"1180.5\" y=\"-639.3\" font-family=\"Helvetica,sans-Serif\" font-size=\"14.00\">samples = 3</text>\r\n",
       "<text text-anchor=\"start\" x=\"1177\" y=\"-624.3\" font-family=\"Helvetica,sans-Serif\" font-size=\"14.00\">value = 4.592</text>\r\n",
       "</g>\r\n",
       "<!-- 28&#45;&gt;54 -->\r\n",
       "<g id=\"edge54\" class=\"edge\"><title>28&#45;&gt;54</title>\r\n",
       "<path fill=\"none\" stroke=\"black\" d=\"M1138.29,-712.884C1152.24,-701.116 1167.93,-687.894 1181.8,-676.203\"/>\r\n",
       "<polygon fill=\"black\" stroke=\"black\" points=\"1184.34,-678.641 1189.73,-669.52 1179.82,-673.289 1184.34,-678.641\"/>\r\n",
       "</g>\r\n",
       "<!-- 30 -->\r\n",
       "<g id=\"node31\" class=\"node\"><title>30</title>\r\n",
       "<path fill=\"#e99558\" stroke=\"black\" d=\"M1138.5,-573C1138.5,-573 1059.5,-573 1059.5,-573 1053.5,-573 1047.5,-567 1047.5,-561 1047.5,-561 1047.5,-517 1047.5,-517 1047.5,-511 1053.5,-505 1059.5,-505 1059.5,-505 1138.5,-505 1138.5,-505 1144.5,-505 1150.5,-511 1150.5,-517 1150.5,-517 1150.5,-561 1150.5,-561 1150.5,-567 1144.5,-573 1138.5,-573\"/>\r\n",
       "<text text-anchor=\"start\" x=\"1072\" y=\"-557.8\" font-family=\"Helvetica,sans-Serif\" font-size=\"14.00\">X ≤ 67.5</text>\r\n",
       "<text text-anchor=\"start\" x=\"1058.5\" y=\"-542.8\" font-family=\"Helvetica,sans-Serif\" font-size=\"14.00\">mse = 0.138</text>\r\n",
       "<text text-anchor=\"start\" x=\"1055.5\" y=\"-527.8\" font-family=\"Helvetica,sans-Serif\" font-size=\"14.00\">samples = 21</text>\r\n",
       "<text text-anchor=\"start\" x=\"1056\" y=\"-512.8\" font-family=\"Helvetica,sans-Serif\" font-size=\"14.00\">value = 4.056</text>\r\n",
       "</g>\r\n",
       "<!-- 29&#45;&gt;30 -->\r\n",
       "<g id=\"edge30\" class=\"edge\"><title>29&#45;&gt;30</title>\r\n",
       "<path fill=\"none\" stroke=\"black\" d=\"M1099,-608.884C1099,-600.778 1099,-591.982 1099,-583.472\"/>\r\n",
       "<polygon fill=\"black\" stroke=\"black\" points=\"1102.5,-583.299 1099,-573.299 1095.5,-583.299 1102.5,-583.299\"/>\r\n",
       "</g>\r\n",
       "<!-- 41 -->\r\n",
       "<g id=\"node42\" class=\"node\"><title>41</title>\r\n",
       "<path fill=\"#e88f4f\" stroke=\"black\" d=\"M1319.5,-573C1319.5,-573 1240.5,-573 1240.5,-573 1234.5,-573 1228.5,-567 1228.5,-561 1228.5,-561 1228.5,-517 1228.5,-517 1228.5,-511 1234.5,-505 1240.5,-505 1240.5,-505 1319.5,-505 1319.5,-505 1325.5,-505 1331.5,-511 1331.5,-517 1331.5,-517 1331.5,-561 1331.5,-561 1331.5,-567 1325.5,-573 1319.5,-573\"/>\r\n",
       "<text text-anchor=\"start\" x=\"1253\" y=\"-557.8\" font-family=\"Helvetica,sans-Serif\" font-size=\"14.00\">X ≤ 77.5</text>\r\n",
       "<text text-anchor=\"start\" x=\"1239.5\" y=\"-542.8\" font-family=\"Helvetica,sans-Serif\" font-size=\"14.00\">mse = 0.224</text>\r\n",
       "<text text-anchor=\"start\" x=\"1236.5\" y=\"-527.8\" font-family=\"Helvetica,sans-Serif\" font-size=\"14.00\">samples = 27</text>\r\n",
       "<text text-anchor=\"start\" x=\"1237\" y=\"-512.8\" font-family=\"Helvetica,sans-Serif\" font-size=\"14.00\">value = 4.206</text>\r\n",
       "</g>\r\n",
       "<!-- 29&#45;&gt;41 -->\r\n",
       "<g id=\"edge41\" class=\"edge\"><title>29&#45;&gt;41</title>\r\n",
       "<path fill=\"none\" stroke=\"black\" d=\"M1150.87,-612.771C1172.35,-600.662 1197.42,-586.537 1219.72,-573.971\"/>\r\n",
       "<polygon fill=\"black\" stroke=\"black\" points=\"1221.44,-577.016 1228.44,-569.057 1218.01,-570.917 1221.44,-577.016\"/>\r\n",
       "</g>\r\n",
       "<!-- 31 -->\r\n",
       "<g id=\"node32\" class=\"node\"><title>31</title>\r\n",
       "<path fill=\"#e99254\" stroke=\"black\" d=\"M1078.5,-469C1078.5,-469 999.5,-469 999.5,-469 993.5,-469 987.5,-463 987.5,-457 987.5,-457 987.5,-413 987.5,-413 987.5,-407 993.5,-401 999.5,-401 999.5,-401 1078.5,-401 1078.5,-401 1084.5,-401 1090.5,-407 1090.5,-413 1090.5,-413 1090.5,-457 1090.5,-457 1090.5,-463 1084.5,-469 1078.5,-469\"/>\r\n",
       "<text text-anchor=\"start\" x=\"1012\" y=\"-453.8\" font-family=\"Helvetica,sans-Serif\" font-size=\"14.00\">X ≤ 56.5</text>\r\n",
       "<text text-anchor=\"start\" x=\"998.5\" y=\"-438.8\" font-family=\"Helvetica,sans-Serif\" font-size=\"14.00\">mse = 0.107</text>\r\n",
       "<text text-anchor=\"start\" x=\"995.5\" y=\"-423.8\" font-family=\"Helvetica,sans-Serif\" font-size=\"14.00\">samples = 18</text>\r\n",
       "<text text-anchor=\"start\" x=\"996\" y=\"-408.8\" font-family=\"Helvetica,sans-Serif\" font-size=\"14.00\">value = 4.115</text>\r\n",
       "</g>\r\n",
       "<!-- 30&#45;&gt;31 -->\r\n",
       "<g id=\"edge31\" class=\"edge\"><title>30&#45;&gt;31</title>\r\n",
       "<path fill=\"none\" stroke=\"black\" d=\"M1079.52,-504.884C1074.49,-496.332 1069.01,-487.013 1063.75,-478.072\"/>\r\n",
       "<polygon fill=\"black\" stroke=\"black\" points=\"1066.67,-476.144 1058.59,-469.299 1060.64,-479.693 1066.67,-476.144\"/>\r\n",
       "</g>\r\n",
       "<!-- 40 -->\r\n",
       "<g id=\"node41\" class=\"node\"><title>40</title>\r\n",
       "<path fill=\"#eca26c\" stroke=\"black\" d=\"M1199,-461.5C1199,-461.5 1121,-461.5 1121,-461.5 1115,-461.5 1109,-455.5 1109,-449.5 1109,-449.5 1109,-420.5 1109,-420.5 1109,-414.5 1115,-408.5 1121,-408.5 1121,-408.5 1199,-408.5 1199,-408.5 1205,-408.5 1211,-414.5 1211,-420.5 1211,-420.5 1211,-449.5 1211,-449.5 1211,-455.5 1205,-461.5 1199,-461.5\"/>\r\n",
       "<text text-anchor=\"start\" x=\"1119.5\" y=\"-446.3\" font-family=\"Helvetica,sans-Serif\" font-size=\"14.00\">mse = 0.181</text>\r\n",
       "<text text-anchor=\"start\" x=\"1120.5\" y=\"-431.3\" font-family=\"Helvetica,sans-Serif\" font-size=\"14.00\">samples = 3</text>\r\n",
       "<text text-anchor=\"start\" x=\"1117\" y=\"-416.3\" font-family=\"Helvetica,sans-Serif\" font-size=\"14.00\">value = 3.701</text>\r\n",
       "</g>\r\n",
       "<!-- 30&#45;&gt;40 -->\r\n",
       "<g id=\"edge40\" class=\"edge\"><title>30&#45;&gt;40</title>\r\n",
       "<path fill=\"none\" stroke=\"black\" d=\"M1118.8,-504.884C1125.45,-493.776 1132.87,-481.372 1139.56,-470.184\"/>\r\n",
       "<polygon fill=\"black\" stroke=\"black\" points=\"1142.61,-471.899 1144.74,-461.52 1136.6,-468.306 1142.61,-471.899\"/>\r\n",
       "</g>\r\n",
       "<!-- 32 -->\r\n",
       "<g id=\"node33\" class=\"node\"><title>32</title>\r\n",
       "<path fill=\"#e9965a\" stroke=\"black\" d=\"M954.5,-365C954.5,-365 883.5,-365 883.5,-365 877.5,-365 871.5,-359 871.5,-353 871.5,-353 871.5,-309 871.5,-309 871.5,-303 877.5,-297 883.5,-297 883.5,-297 954.5,-297 954.5,-297 960.5,-297 966.5,-303 966.5,-309 966.5,-309 966.5,-353 966.5,-353 966.5,-359 960.5,-365 954.5,-365\"/>\r\n",
       "<text text-anchor=\"start\" x=\"892\" y=\"-349.8\" font-family=\"Helvetica,sans-Serif\" font-size=\"14.00\">X ≤ 53.5</text>\r\n",
       "<text text-anchor=\"start\" x=\"882.5\" y=\"-334.8\" font-family=\"Helvetica,sans-Serif\" font-size=\"14.00\">mse = 0.09</text>\r\n",
       "<text text-anchor=\"start\" x=\"879.5\" y=\"-319.8\" font-family=\"Helvetica,sans-Serif\" font-size=\"14.00\">samples = 7</text>\r\n",
       "<text text-anchor=\"start\" x=\"880\" y=\"-304.8\" font-family=\"Helvetica,sans-Serif\" font-size=\"14.00\">value = 4.02</text>\r\n",
       "</g>\r\n",
       "<!-- 31&#45;&gt;32 -->\r\n",
       "<g id=\"edge32\" class=\"edge\"><title>31&#45;&gt;32</title>\r\n",
       "<path fill=\"none\" stroke=\"black\" d=\"M1000.04,-400.884C989.141,-391.62 977.182,-381.455 965.877,-371.845\"/>\r\n",
       "<polygon fill=\"black\" stroke=\"black\" points=\"968.062,-369.109 958.176,-365.299 963.528,-374.443 968.062,-369.109\"/>\r\n",
       "</g>\r\n",
       "<!-- 35 -->\r\n",
       "<g id=\"node36\" class=\"node\"><title>35</title>\r\n",
       "<path fill=\"#e89051\" stroke=\"black\" d=\"M1078.5,-365C1078.5,-365 999.5,-365 999.5,-365 993.5,-365 987.5,-359 987.5,-353 987.5,-353 987.5,-309 987.5,-309 987.5,-303 993.5,-297 999.5,-297 999.5,-297 1078.5,-297 1078.5,-297 1084.5,-297 1090.5,-303 1090.5,-309 1090.5,-309 1090.5,-353 1090.5,-353 1090.5,-359 1084.5,-365 1078.5,-365\"/>\r\n",
       "<text text-anchor=\"start\" x=\"1012\" y=\"-349.8\" font-family=\"Helvetica,sans-Serif\" font-size=\"14.00\">X ≤ 62.5</text>\r\n",
       "<text text-anchor=\"start\" x=\"998.5\" y=\"-334.8\" font-family=\"Helvetica,sans-Serif\" font-size=\"14.00\">mse = 0.108</text>\r\n",
       "<text text-anchor=\"start\" x=\"995.5\" y=\"-319.8\" font-family=\"Helvetica,sans-Serif\" font-size=\"14.00\">samples = 11</text>\r\n",
       "<text text-anchor=\"start\" x=\"996\" y=\"-304.8\" font-family=\"Helvetica,sans-Serif\" font-size=\"14.00\">value = 4.175</text>\r\n",
       "</g>\r\n",
       "<!-- 31&#45;&gt;35 -->\r\n",
       "<g id=\"edge35\" class=\"edge\"><title>31&#45;&gt;35</title>\r\n",
       "<path fill=\"none\" stroke=\"black\" d=\"M1039,-400.884C1039,-392.778 1039,-383.982 1039,-375.472\"/>\r\n",
       "<polygon fill=\"black\" stroke=\"black\" points=\"1042.5,-375.299 1039,-365.299 1035.5,-375.299 1042.5,-375.299\"/>\r\n",
       "</g>\r\n",
       "<!-- 33 -->\r\n",
       "<g id=\"node34\" class=\"node\"><title>33</title>\r\n",
       "<path fill=\"#e89254\" stroke=\"black\" d=\"M838,-253.5C838,-253.5 760,-253.5 760,-253.5 754,-253.5 748,-247.5 748,-241.5 748,-241.5 748,-212.5 748,-212.5 748,-206.5 754,-200.5 760,-200.5 760,-200.5 838,-200.5 838,-200.5 844,-200.5 850,-206.5 850,-212.5 850,-212.5 850,-241.5 850,-241.5 850,-247.5 844,-253.5 838,-253.5\"/>\r\n",
       "<text text-anchor=\"start\" x=\"758.5\" y=\"-238.3\" font-family=\"Helvetica,sans-Serif\" font-size=\"14.00\">mse = 0.097</text>\r\n",
       "<text text-anchor=\"start\" x=\"759.5\" y=\"-223.3\" font-family=\"Helvetica,sans-Serif\" font-size=\"14.00\">samples = 4</text>\r\n",
       "<text text-anchor=\"start\" x=\"756\" y=\"-208.3\" font-family=\"Helvetica,sans-Serif\" font-size=\"14.00\">value = 4.129</text>\r\n",
       "</g>\r\n",
       "<!-- 32&#45;&gt;33 -->\r\n",
       "<g id=\"edge33\" class=\"edge\"><title>32&#45;&gt;33</title>\r\n",
       "<path fill=\"none\" stroke=\"black\" d=\"M880.039,-296.884C866.195,-285.116 850.64,-271.894 836.886,-260.203\"/>\r\n",
       "<polygon fill=\"black\" stroke=\"black\" points=\"838.91,-257.33 829.023,-253.52 834.376,-262.663 838.91,-257.33\"/>\r\n",
       "</g>\r\n",
       "<!-- 34 -->\r\n",
       "<g id=\"node35\" class=\"node\"><title>34</title>\r\n",
       "<path fill=\"#ea9b62\" stroke=\"black\" d=\"M958,-253.5C958,-253.5 880,-253.5 880,-253.5 874,-253.5 868,-247.5 868,-241.5 868,-241.5 868,-212.5 868,-212.5 868,-206.5 874,-200.5 880,-200.5 880,-200.5 958,-200.5 958,-200.5 964,-200.5 970,-206.5 970,-212.5 970,-212.5 970,-241.5 970,-241.5 970,-247.5 964,-253.5 958,-253.5\"/>\r\n",
       "<text text-anchor=\"start\" x=\"878.5\" y=\"-238.3\" font-family=\"Helvetica,sans-Serif\" font-size=\"14.00\">mse = 0.044</text>\r\n",
       "<text text-anchor=\"start\" x=\"879.5\" y=\"-223.3\" font-family=\"Helvetica,sans-Serif\" font-size=\"14.00\">samples = 3</text>\r\n",
       "<text text-anchor=\"start\" x=\"876\" y=\"-208.3\" font-family=\"Helvetica,sans-Serif\" font-size=\"14.00\">value = 3.875</text>\r\n",
       "</g>\r\n",
       "<!-- 32&#45;&gt;34 -->\r\n",
       "<g id=\"edge34\" class=\"edge\"><title>32&#45;&gt;34</title>\r\n",
       "<path fill=\"none\" stroke=\"black\" d=\"M919,-296.884C919,-286.326 919,-274.597 919,-263.854\"/>\r\n",
       "<polygon fill=\"black\" stroke=\"black\" points=\"922.5,-263.52 919,-253.52 915.5,-263.52 922.5,-263.52\"/>\r\n",
       "</g>\r\n",
       "<!-- 36 -->\r\n",
       "<g id=\"node37\" class=\"node\"><title>36</title>\r\n",
       "<path fill=\"#e78b49\" stroke=\"black\" d=\"M1078,-261C1078,-261 1000,-261 1000,-261 994,-261 988,-255 988,-249 988,-249 988,-205 988,-205 988,-199 994,-193 1000,-193 1000,-193 1078,-193 1078,-193 1084,-193 1090,-199 1090,-205 1090,-205 1090,-249 1090,-249 1090,-255 1084,-261 1078,-261\"/>\r\n",
       "<text text-anchor=\"start\" x=\"1012\" y=\"-245.8\" font-family=\"Helvetica,sans-Serif\" font-size=\"14.00\">X ≤ 59.5</text>\r\n",
       "<text text-anchor=\"start\" x=\"998.5\" y=\"-230.8\" font-family=\"Helvetica,sans-Serif\" font-size=\"14.00\">mse = 0.067</text>\r\n",
       "<text text-anchor=\"start\" x=\"999.5\" y=\"-215.8\" font-family=\"Helvetica,sans-Serif\" font-size=\"14.00\">samples = 6</text>\r\n",
       "<text text-anchor=\"start\" x=\"996\" y=\"-200.8\" font-family=\"Helvetica,sans-Serif\" font-size=\"14.00\">value = 4.305</text>\r\n",
       "</g>\r\n",
       "<!-- 35&#45;&gt;36 -->\r\n",
       "<g id=\"edge36\" class=\"edge\"><title>35&#45;&gt;36</title>\r\n",
       "<path fill=\"none\" stroke=\"black\" d=\"M1039,-296.884C1039,-288.778 1039,-279.982 1039,-271.472\"/>\r\n",
       "<polygon fill=\"black\" stroke=\"black\" points=\"1042.5,-271.299 1039,-261.299 1035.5,-271.299 1042.5,-271.299\"/>\r\n",
       "</g>\r\n",
       "<!-- 39 -->\r\n",
       "<g id=\"node40\" class=\"node\"><title>39</title>\r\n",
       "<path fill=\"#e9965a\" stroke=\"black\" d=\"M1198,-253.5C1198,-253.5 1120,-253.5 1120,-253.5 1114,-253.5 1108,-247.5 1108,-241.5 1108,-241.5 1108,-212.5 1108,-212.5 1108,-206.5 1114,-200.5 1120,-200.5 1120,-200.5 1198,-200.5 1198,-200.5 1204,-200.5 1210,-206.5 1210,-212.5 1210,-212.5 1210,-241.5 1210,-241.5 1210,-247.5 1204,-253.5 1198,-253.5\"/>\r\n",
       "<text text-anchor=\"start\" x=\"1118.5\" y=\"-238.3\" font-family=\"Helvetica,sans-Serif\" font-size=\"14.00\">mse = 0.112</text>\r\n",
       "<text text-anchor=\"start\" x=\"1119.5\" y=\"-223.3\" font-family=\"Helvetica,sans-Serif\" font-size=\"14.00\">samples = 5</text>\r\n",
       "<text text-anchor=\"start\" x=\"1116\" y=\"-208.3\" font-family=\"Helvetica,sans-Serif\" font-size=\"14.00\">value = 4.019</text>\r\n",
       "</g>\r\n",
       "<!-- 35&#45;&gt;39 -->\r\n",
       "<g id=\"edge39\" class=\"edge\"><title>35&#45;&gt;39</title>\r\n",
       "<path fill=\"none\" stroke=\"black\" d=\"M1077.96,-296.884C1091.8,-285.116 1107.36,-271.894 1121.11,-260.203\"/>\r\n",
       "<polygon fill=\"black\" stroke=\"black\" points=\"1123.62,-262.663 1128.98,-253.52 1119.09,-257.33 1123.62,-262.663\"/>\r\n",
       "</g>\r\n",
       "<!-- 37 -->\r\n",
       "<g id=\"node38\" class=\"node\"><title>37</title>\r\n",
       "<path fill=\"#e78946\" stroke=\"black\" d=\"M1018,-149.5C1018,-149.5 940,-149.5 940,-149.5 934,-149.5 928,-143.5 928,-137.5 928,-137.5 928,-108.5 928,-108.5 928,-102.5 934,-96.5 940,-96.5 940,-96.5 1018,-96.5 1018,-96.5 1024,-96.5 1030,-102.5 1030,-108.5 1030,-108.5 1030,-137.5 1030,-137.5 1030,-143.5 1024,-149.5 1018,-149.5\"/>\r\n",
       "<text text-anchor=\"start\" x=\"938.5\" y=\"-134.3\" font-family=\"Helvetica,sans-Serif\" font-size=\"14.00\">mse = 0.075</text>\r\n",
       "<text text-anchor=\"start\" x=\"939.5\" y=\"-119.3\" font-family=\"Helvetica,sans-Serif\" font-size=\"14.00\">samples = 3</text>\r\n",
       "<text text-anchor=\"start\" x=\"936\" y=\"-104.3\" font-family=\"Helvetica,sans-Serif\" font-size=\"14.00\">value = 4.363</text>\r\n",
       "</g>\r\n",
       "<!-- 36&#45;&gt;37 -->\r\n",
       "<g id=\"edge37\" class=\"edge\"><title>36&#45;&gt;37</title>\r\n",
       "<path fill=\"none\" stroke=\"black\" d=\"M1019.52,-192.884C1012.99,-181.776 1005.69,-169.372 999.108,-158.184\"/>\r\n",
       "<polygon fill=\"black\" stroke=\"black\" points=\"1002.1,-156.365 994.012,-149.52 996.065,-159.914 1002.1,-156.365\"/>\r\n",
       "</g>\r\n",
       "<!-- 38 -->\r\n",
       "<g id=\"node39\" class=\"node\"><title>38</title>\r\n",
       "<path fill=\"#e88e4d\" stroke=\"black\" d=\"M1138,-149.5C1138,-149.5 1060,-149.5 1060,-149.5 1054,-149.5 1048,-143.5 1048,-137.5 1048,-137.5 1048,-108.5 1048,-108.5 1048,-102.5 1054,-96.5 1060,-96.5 1060,-96.5 1138,-96.5 1138,-96.5 1144,-96.5 1150,-102.5 1150,-108.5 1150,-108.5 1150,-137.5 1150,-137.5 1150,-143.5 1144,-149.5 1138,-149.5\"/>\r\n",
       "<text text-anchor=\"start\" x=\"1058.5\" y=\"-134.3\" font-family=\"Helvetica,sans-Serif\" font-size=\"14.00\">mse = 0.053</text>\r\n",
       "<text text-anchor=\"start\" x=\"1059.5\" y=\"-119.3\" font-family=\"Helvetica,sans-Serif\" font-size=\"14.00\">samples = 3</text>\r\n",
       "<text text-anchor=\"start\" x=\"1056\" y=\"-104.3\" font-family=\"Helvetica,sans-Serif\" font-size=\"14.00\">value = 4.247</text>\r\n",
       "</g>\r\n",
       "<!-- 36&#45;&gt;38 -->\r\n",
       "<g id=\"edge38\" class=\"edge\"><title>36&#45;&gt;38</title>\r\n",
       "<path fill=\"none\" stroke=\"black\" d=\"M1058.48,-192.884C1065.01,-181.776 1072.31,-169.372 1078.89,-158.184\"/>\r\n",
       "<polygon fill=\"black\" stroke=\"black\" points=\"1081.93,-159.914 1083.99,-149.52 1075.9,-156.365 1081.93,-159.914\"/>\r\n",
       "</g>\r\n",
       "<!-- 42 -->\r\n",
       "<g id=\"node43\" class=\"node\"><title>42</title>\r\n",
       "<path fill=\"#e68844\" stroke=\"black\" d=\"M1319,-469C1319,-469 1241,-469 1241,-469 1235,-469 1229,-463 1229,-457 1229,-457 1229,-413 1229,-413 1229,-407 1235,-401 1241,-401 1241,-401 1319,-401 1319,-401 1325,-401 1331,-407 1331,-413 1331,-413 1331,-457 1331,-457 1331,-463 1325,-469 1319,-469\"/>\r\n",
       "<text text-anchor=\"start\" x=\"1253\" y=\"-453.8\" font-family=\"Helvetica,sans-Serif\" font-size=\"14.00\">X ≤ 73.5</text>\r\n",
       "<text text-anchor=\"start\" x=\"1239.5\" y=\"-438.8\" font-family=\"Helvetica,sans-Serif\" font-size=\"14.00\">mse = 0.042</text>\r\n",
       "<text text-anchor=\"start\" x=\"1240.5\" y=\"-423.8\" font-family=\"Helvetica,sans-Serif\" font-size=\"14.00\">samples = 7</text>\r\n",
       "<text text-anchor=\"start\" x=\"1237\" y=\"-408.8\" font-family=\"Helvetica,sans-Serif\" font-size=\"14.00\">value = 4.407</text>\r\n",
       "</g>\r\n",
       "<!-- 41&#45;&gt;42 -->\r\n",
       "<g id=\"edge42\" class=\"edge\"><title>41&#45;&gt;42</title>\r\n",
       "<path fill=\"none\" stroke=\"black\" d=\"M1280,-504.884C1280,-496.778 1280,-487.982 1280,-479.472\"/>\r\n",
       "<polygon fill=\"black\" stroke=\"black\" points=\"1283.5,-479.299 1280,-469.299 1276.5,-479.299 1283.5,-479.299\"/>\r\n",
       "</g>\r\n",
       "<!-- 45 -->\r\n",
       "<g id=\"node46\" class=\"node\"><title>45</title>\r\n",
       "<path fill=\"#e89253\" stroke=\"black\" d=\"M1440.5,-469C1440.5,-469 1361.5,-469 1361.5,-469 1355.5,-469 1349.5,-463 1349.5,-457 1349.5,-457 1349.5,-413 1349.5,-413 1349.5,-407 1355.5,-401 1361.5,-401 1361.5,-401 1440.5,-401 1440.5,-401 1446.5,-401 1452.5,-407 1452.5,-413 1452.5,-413 1452.5,-457 1452.5,-457 1452.5,-463 1446.5,-469 1440.5,-469\"/>\r\n",
       "<text text-anchor=\"start\" x=\"1374\" y=\"-453.8\" font-family=\"Helvetica,sans-Serif\" font-size=\"14.00\">X ≤ 82.5</text>\r\n",
       "<text text-anchor=\"start\" x=\"1360.5\" y=\"-438.8\" font-family=\"Helvetica,sans-Serif\" font-size=\"14.00\">mse = 0.269</text>\r\n",
       "<text text-anchor=\"start\" x=\"1357.5\" y=\"-423.8\" font-family=\"Helvetica,sans-Serif\" font-size=\"14.00\">samples = 20</text>\r\n",
       "<text text-anchor=\"start\" x=\"1358\" y=\"-408.8\" font-family=\"Helvetica,sans-Serif\" font-size=\"14.00\">value = 4.135</text>\r\n",
       "</g>\r\n",
       "<!-- 41&#45;&gt;45 -->\r\n",
       "<g id=\"edge45\" class=\"edge\"><title>41&#45;&gt;45</title>\r\n",
       "<path fill=\"none\" stroke=\"black\" d=\"M1319.29,-504.884C1330.27,-495.62 1342.33,-485.455 1353.73,-475.845\"/>\r\n",
       "<polygon fill=\"black\" stroke=\"black\" points=\"1356.11,-478.421 1361.5,-469.299 1351.6,-473.069 1356.11,-478.421\"/>\r\n",
       "</g>\r\n",
       "<!-- 43 -->\r\n",
       "<g id=\"node44\" class=\"node\"><title>43</title>\r\n",
       "<path fill=\"#e78b49\" stroke=\"black\" d=\"M1199,-357.5C1199,-357.5 1121,-357.5 1121,-357.5 1115,-357.5 1109,-351.5 1109,-345.5 1109,-345.5 1109,-316.5 1109,-316.5 1109,-310.5 1115,-304.5 1121,-304.5 1121,-304.5 1199,-304.5 1199,-304.5 1205,-304.5 1211,-310.5 1211,-316.5 1211,-316.5 1211,-345.5 1211,-345.5 1211,-351.5 1205,-357.5 1199,-357.5\"/>\r\n",
       "<text text-anchor=\"start\" x=\"1123.5\" y=\"-342.3\" font-family=\"Helvetica,sans-Serif\" font-size=\"14.00\">mse = 0.07</text>\r\n",
       "<text text-anchor=\"start\" x=\"1120.5\" y=\"-327.3\" font-family=\"Helvetica,sans-Serif\" font-size=\"14.00\">samples = 3</text>\r\n",
       "<text text-anchor=\"start\" x=\"1117\" y=\"-312.3\" font-family=\"Helvetica,sans-Serif\" font-size=\"14.00\">value = 4.321</text>\r\n",
       "</g>\r\n",
       "<!-- 42&#45;&gt;43 -->\r\n",
       "<g id=\"edge43\" class=\"edge\"><title>42&#45;&gt;43</title>\r\n",
       "<path fill=\"none\" stroke=\"black\" d=\"M1241.04,-400.884C1227.2,-389.116 1211.64,-375.894 1197.89,-364.203\"/>\r\n",
       "<polygon fill=\"black\" stroke=\"black\" points=\"1199.91,-361.33 1190.02,-357.52 1195.38,-366.663 1199.91,-361.33\"/>\r\n",
       "</g>\r\n",
       "<!-- 44 -->\r\n",
       "<g id=\"node45\" class=\"node\"><title>44</title>\r\n",
       "<path fill=\"#e68540\" stroke=\"black\" d=\"M1319,-357.5C1319,-357.5 1241,-357.5 1241,-357.5 1235,-357.5 1229,-351.5 1229,-345.5 1229,-345.5 1229,-316.5 1229,-316.5 1229,-310.5 1235,-304.5 1241,-304.5 1241,-304.5 1319,-304.5 1319,-304.5 1325,-304.5 1331,-310.5 1331,-316.5 1331,-316.5 1331,-345.5 1331,-345.5 1331,-351.5 1325,-357.5 1319,-357.5\"/>\r\n",
       "<text text-anchor=\"start\" x=\"1239.5\" y=\"-342.3\" font-family=\"Helvetica,sans-Serif\" font-size=\"14.00\">mse = 0.012</text>\r\n",
       "<text text-anchor=\"start\" x=\"1240.5\" y=\"-327.3\" font-family=\"Helvetica,sans-Serif\" font-size=\"14.00\">samples = 4</text>\r\n",
       "<text text-anchor=\"start\" x=\"1237\" y=\"-312.3\" font-family=\"Helvetica,sans-Serif\" font-size=\"14.00\">value = 4.472</text>\r\n",
       "</g>\r\n",
       "<!-- 42&#45;&gt;44 -->\r\n",
       "<g id=\"edge44\" class=\"edge\"><title>42&#45;&gt;44</title>\r\n",
       "<path fill=\"none\" stroke=\"black\" d=\"M1280,-400.884C1280,-390.326 1280,-378.597 1280,-367.854\"/>\r\n",
       "<polygon fill=\"black\" stroke=\"black\" points=\"1283.5,-367.52 1280,-357.52 1276.5,-367.52 1283.5,-367.52\"/>\r\n",
       "</g>\r\n",
       "<!-- 46 -->\r\n",
       "<g id=\"node47\" class=\"node\"><title>46</title>\r\n",
       "<path fill=\"#eb9d65\" stroke=\"black\" d=\"M1439,-357.5C1439,-357.5 1361,-357.5 1361,-357.5 1355,-357.5 1349,-351.5 1349,-345.5 1349,-345.5 1349,-316.5 1349,-316.5 1349,-310.5 1355,-304.5 1361,-304.5 1361,-304.5 1439,-304.5 1439,-304.5 1445,-304.5 1451,-310.5 1451,-316.5 1451,-316.5 1451,-345.5 1451,-345.5 1451,-351.5 1445,-357.5 1439,-357.5\"/>\r\n",
       "<text text-anchor=\"start\" x=\"1363.5\" y=\"-342.3\" font-family=\"Helvetica,sans-Serif\" font-size=\"14.00\">mse = 0.23</text>\r\n",
       "<text text-anchor=\"start\" x=\"1360.5\" y=\"-327.3\" font-family=\"Helvetica,sans-Serif\" font-size=\"14.00\">samples = 5</text>\r\n",
       "<text text-anchor=\"start\" x=\"1357\" y=\"-312.3\" font-family=\"Helvetica,sans-Serif\" font-size=\"14.00\">value = 3.827</text>\r\n",
       "</g>\r\n",
       "<!-- 45&#45;&gt;46 -->\r\n",
       "<g id=\"edge46\" class=\"edge\"><title>45&#45;&gt;46</title>\r\n",
       "<path fill=\"none\" stroke=\"black\" d=\"M1400.68,-400.884C1400.57,-390.326 1400.46,-378.597 1400.35,-367.854\"/>\r\n",
       "<polygon fill=\"black\" stroke=\"black\" points=\"1403.85,-367.485 1400.25,-357.52 1396.85,-367.554 1403.85,-367.485\"/>\r\n",
       "</g>\r\n",
       "<!-- 47 -->\r\n",
       "<g id=\"node48\" class=\"node\"><title>47</title>\r\n",
       "<path fill=\"#e88e4d\" stroke=\"black\" d=\"M1560.5,-365C1560.5,-365 1481.5,-365 1481.5,-365 1475.5,-365 1469.5,-359 1469.5,-353 1469.5,-353 1469.5,-309 1469.5,-309 1469.5,-303 1475.5,-297 1481.5,-297 1481.5,-297 1560.5,-297 1560.5,-297 1566.5,-297 1572.5,-303 1572.5,-309 1572.5,-309 1572.5,-353 1572.5,-353 1572.5,-359 1566.5,-365 1560.5,-365\"/>\r\n",
       "<text text-anchor=\"start\" x=\"1494\" y=\"-349.8\" font-family=\"Helvetica,sans-Serif\" font-size=\"14.00\">X ≤ 87.5</text>\r\n",
       "<text text-anchor=\"start\" x=\"1480.5\" y=\"-334.8\" font-family=\"Helvetica,sans-Serif\" font-size=\"14.00\">mse = 0.239</text>\r\n",
       "<text text-anchor=\"start\" x=\"1477.5\" y=\"-319.8\" font-family=\"Helvetica,sans-Serif\" font-size=\"14.00\">samples = 15</text>\r\n",
       "<text text-anchor=\"start\" x=\"1478\" y=\"-304.8\" font-family=\"Helvetica,sans-Serif\" font-size=\"14.00\">value = 4.238</text>\r\n",
       "</g>\r\n",
       "<!-- 45&#45;&gt;47 -->\r\n",
       "<g id=\"edge47\" class=\"edge\"><title>45&#45;&gt;47</title>\r\n",
       "<path fill=\"none\" stroke=\"black\" d=\"M1439.96,-400.884C1450.86,-391.62 1462.82,-381.455 1474.12,-371.845\"/>\r\n",
       "<polygon fill=\"black\" stroke=\"black\" points=\"1476.47,-374.443 1481.82,-365.299 1471.94,-369.109 1476.47,-374.443\"/>\r\n",
       "</g>\r\n",
       "<!-- 48 -->\r\n",
       "<g id=\"node49\" class=\"node\"><title>48</title>\r\n",
       "<path fill=\"#e68743\" stroke=\"black\" d=\"M1499,-253.5C1499,-253.5 1421,-253.5 1421,-253.5 1415,-253.5 1409,-247.5 1409,-241.5 1409,-241.5 1409,-212.5 1409,-212.5 1409,-206.5 1415,-200.5 1421,-200.5 1421,-200.5 1499,-200.5 1499,-200.5 1505,-200.5 1511,-206.5 1511,-212.5 1511,-212.5 1511,-241.5 1511,-241.5 1511,-247.5 1505,-253.5 1499,-253.5\"/>\r\n",
       "<text text-anchor=\"start\" x=\"1419.5\" y=\"-238.3\" font-family=\"Helvetica,sans-Serif\" font-size=\"14.00\">mse = 0.454</text>\r\n",
       "<text text-anchor=\"start\" x=\"1420.5\" y=\"-223.3\" font-family=\"Helvetica,sans-Serif\" font-size=\"14.00\">samples = 5</text>\r\n",
       "<text text-anchor=\"start\" x=\"1417\" y=\"-208.3\" font-family=\"Helvetica,sans-Serif\" font-size=\"14.00\">value = 4.426</text>\r\n",
       "</g>\r\n",
       "<!-- 47&#45;&gt;48 -->\r\n",
       "<g id=\"edge48\" class=\"edge\"><title>47&#45;&gt;48</title>\r\n",
       "<path fill=\"none\" stroke=\"black\" d=\"M1501.2,-296.884C1494.55,-285.776 1487.13,-273.372 1480.44,-262.184\"/>\r\n",
       "<polygon fill=\"black\" stroke=\"black\" points=\"1483.4,-260.306 1475.26,-253.52 1477.39,-263.899 1483.4,-260.306\"/>\r\n",
       "</g>\r\n",
       "<!-- 49 -->\r\n",
       "<g id=\"node50\" class=\"node\"><title>49</title>\r\n",
       "<path fill=\"#e89153\" stroke=\"black\" d=\"M1620.5,-261C1620.5,-261 1541.5,-261 1541.5,-261 1535.5,-261 1529.5,-255 1529.5,-249 1529.5,-249 1529.5,-205 1529.5,-205 1529.5,-199 1535.5,-193 1541.5,-193 1541.5,-193 1620.5,-193 1620.5,-193 1626.5,-193 1632.5,-199 1632.5,-205 1632.5,-205 1632.5,-249 1632.5,-249 1632.5,-255 1626.5,-261 1620.5,-261\"/>\r\n",
       "<text text-anchor=\"start\" x=\"1554\" y=\"-245.8\" font-family=\"Helvetica,sans-Serif\" font-size=\"14.00\">X ≤ 94.5</text>\r\n",
       "<text text-anchor=\"start\" x=\"1540.5\" y=\"-230.8\" font-family=\"Helvetica,sans-Serif\" font-size=\"14.00\">mse = 0.106</text>\r\n",
       "<text text-anchor=\"start\" x=\"1537.5\" y=\"-215.8\" font-family=\"Helvetica,sans-Serif\" font-size=\"14.00\">samples = 10</text>\r\n",
       "<text text-anchor=\"start\" x=\"1538\" y=\"-200.8\" font-family=\"Helvetica,sans-Serif\" font-size=\"14.00\">value = 4.144</text>\r\n",
       "</g>\r\n",
       "<!-- 47&#45;&gt;49 -->\r\n",
       "<g id=\"edge49\" class=\"edge\"><title>47&#45;&gt;49</title>\r\n",
       "<path fill=\"none\" stroke=\"black\" d=\"M1540.48,-296.884C1545.51,-288.332 1550.99,-279.013 1556.25,-270.072\"/>\r\n",
       "<polygon fill=\"black\" stroke=\"black\" points=\"1559.36,-271.693 1561.41,-261.299 1553.33,-268.144 1559.36,-271.693\"/>\r\n",
       "</g>\r\n",
       "<!-- 50 -->\r\n",
       "<g id=\"node51\" class=\"node\"><title>50</title>\r\n",
       "<path fill=\"#e89050\" stroke=\"black\" d=\"M1560,-157C1560,-157 1482,-157 1482,-157 1476,-157 1470,-151 1470,-145 1470,-145 1470,-101 1470,-101 1470,-95 1476,-89 1482,-89 1482,-89 1560,-89 1560,-89 1566,-89 1572,-95 1572,-101 1572,-101 1572,-145 1572,-145 1572,-151 1566,-157 1560,-157\"/>\r\n",
       "<text text-anchor=\"start\" x=\"1494\" y=\"-141.8\" font-family=\"Helvetica,sans-Serif\" font-size=\"14.00\">X ≤ 91.5</text>\r\n",
       "<text text-anchor=\"start\" x=\"1480.5\" y=\"-126.8\" font-family=\"Helvetica,sans-Serif\" font-size=\"14.00\">mse = 0.073</text>\r\n",
       "<text text-anchor=\"start\" x=\"1481.5\" y=\"-111.8\" font-family=\"Helvetica,sans-Serif\" font-size=\"14.00\">samples = 7</text>\r\n",
       "<text text-anchor=\"start\" x=\"1478\" y=\"-96.8\" font-family=\"Helvetica,sans-Serif\" font-size=\"14.00\">value = 4.182</text>\r\n",
       "</g>\r\n",
       "<!-- 49&#45;&gt;50 -->\r\n",
       "<g id=\"edge50\" class=\"edge\"><title>49&#45;&gt;50</title>\r\n",
       "<path fill=\"none\" stroke=\"black\" d=\"M1561.52,-192.884C1556.49,-184.332 1551.01,-175.013 1545.75,-166.072\"/>\r\n",
       "<polygon fill=\"black\" stroke=\"black\" points=\"1548.67,-164.144 1540.59,-157.299 1542.64,-167.693 1548.67,-164.144\"/>\r\n",
       "</g>\r\n",
       "<!-- 53 -->\r\n",
       "<g id=\"node54\" class=\"node\"><title>53</title>\r\n",
       "<path fill=\"#e99558\" stroke=\"black\" d=\"M1680,-149.5C1680,-149.5 1602,-149.5 1602,-149.5 1596,-149.5 1590,-143.5 1590,-137.5 1590,-137.5 1590,-108.5 1590,-108.5 1590,-102.5 1596,-96.5 1602,-96.5 1602,-96.5 1680,-96.5 1680,-96.5 1686,-96.5 1692,-102.5 1692,-108.5 1692,-108.5 1692,-137.5 1692,-137.5 1692,-143.5 1686,-149.5 1680,-149.5\"/>\r\n",
       "<text text-anchor=\"start\" x=\"1604.5\" y=\"-134.3\" font-family=\"Helvetica,sans-Serif\" font-size=\"14.00\">mse = 0.17</text>\r\n",
       "<text text-anchor=\"start\" x=\"1601.5\" y=\"-119.3\" font-family=\"Helvetica,sans-Serif\" font-size=\"14.00\">samples = 3</text>\r\n",
       "<text text-anchor=\"start\" x=\"1598\" y=\"-104.3\" font-family=\"Helvetica,sans-Serif\" font-size=\"14.00\">value = 4.053</text>\r\n",
       "</g>\r\n",
       "<!-- 49&#45;&gt;53 -->\r\n",
       "<g id=\"edge53\" class=\"edge\"><title>49&#45;&gt;53</title>\r\n",
       "<path fill=\"none\" stroke=\"black\" d=\"M1600.48,-192.884C1607.01,-181.776 1614.31,-169.372 1620.89,-158.184\"/>\r\n",
       "<polygon fill=\"black\" stroke=\"black\" points=\"1623.93,-159.914 1625.99,-149.52 1617.9,-156.365 1623.93,-159.914\"/>\r\n",
       "</g>\r\n",
       "<!-- 51 -->\r\n",
       "<g id=\"node52\" class=\"node\"><title>51</title>\r\n",
       "<path fill=\"#e99356\" stroke=\"black\" d=\"M1500,-53C1500,-53 1422,-53 1422,-53 1416,-53 1410,-47 1410,-41 1410,-41 1410,-12 1410,-12 1410,-6 1416,-0 1422,-0 1422,-0 1500,-0 1500,-0 1506,-0 1512,-6 1512,-12 1512,-12 1512,-41 1512,-41 1512,-47 1506,-53 1500,-53\"/>\r\n",
       "<text text-anchor=\"start\" x=\"1420.5\" y=\"-37.8\" font-family=\"Helvetica,sans-Serif\" font-size=\"14.00\">mse = 0.106</text>\r\n",
       "<text text-anchor=\"start\" x=\"1421.5\" y=\"-22.8\" font-family=\"Helvetica,sans-Serif\" font-size=\"14.00\">samples = 4</text>\r\n",
       "<text text-anchor=\"start\" x=\"1418\" y=\"-7.8\" font-family=\"Helvetica,sans-Serif\" font-size=\"14.00\">value = 4.088</text>\r\n",
       "</g>\r\n",
       "<!-- 50&#45;&gt;51 -->\r\n",
       "<g id=\"edge51\" class=\"edge\"><title>50&#45;&gt;51</title>\r\n",
       "<path fill=\"none\" stroke=\"black\" d=\"M1500.01,-88.9485C1494.44,-80.1664 1488.41,-70.6629 1482.79,-61.815\"/>\r\n",
       "<polygon fill=\"black\" stroke=\"black\" points=\"1485.66,-59.8028 1477.34,-53.2367 1479.75,-63.5549 1485.66,-59.8028\"/>\r\n",
       "</g>\r\n",
       "<!-- 52 -->\r\n",
       "<g id=\"node53\" class=\"node\"><title>52</title>\r\n",
       "<path fill=\"#e78b49\" stroke=\"black\" d=\"M1620,-53C1620,-53 1542,-53 1542,-53 1536,-53 1530,-47 1530,-41 1530,-41 1530,-12 1530,-12 1530,-6 1536,-0 1542,-0 1542,-0 1620,-0 1620,-0 1626,-0 1632,-6 1632,-12 1632,-12 1632,-41 1632,-41 1632,-47 1626,-53 1620,-53\"/>\r\n",
       "<text text-anchor=\"start\" x=\"1540.5\" y=\"-37.8\" font-family=\"Helvetica,sans-Serif\" font-size=\"14.00\">mse = 0.002</text>\r\n",
       "<text text-anchor=\"start\" x=\"1541.5\" y=\"-22.8\" font-family=\"Helvetica,sans-Serif\" font-size=\"14.00\">samples = 3</text>\r\n",
       "<text text-anchor=\"start\" x=\"1538\" y=\"-7.8\" font-family=\"Helvetica,sans-Serif\" font-size=\"14.00\">value = 4.309</text>\r\n",
       "</g>\r\n",
       "<!-- 50&#45;&gt;52 -->\r\n",
       "<g id=\"edge52\" class=\"edge\"><title>50&#45;&gt;52</title>\r\n",
       "<path fill=\"none\" stroke=\"black\" d=\"M1541.99,-88.9485C1547.56,-80.1664 1553.59,-70.6629 1559.21,-61.815\"/>\r\n",
       "<polygon fill=\"black\" stroke=\"black\" points=\"1562.25,-63.5549 1564.66,-53.2367 1556.34,-59.8028 1562.25,-63.5549\"/>\r\n",
       "</g>\r\n",
       "</g>\r\n",
       "</svg>\r\n"
      ],
      "text/plain": [
       "<graphviz.files.Source at 0x17edabd0a48>"
      ]
     },
     "execution_count": 12,
     "metadata": {},
     "output_type": "execute_result"
    }
   ],
   "source": [
    "graph_viz(DTR)"
   ]
  },
  {
   "cell_type": "code",
   "execution_count": 13,
   "metadata": {},
   "outputs": [
    {
     "data": {
      "text/plain": [
       "28"
      ]
     },
     "execution_count": 13,
     "metadata": {},
     "output_type": "execute_result"
    }
   ],
   "source": [
    "# nombre de fueilles\n",
    "DTR.get_n_leaves()"
   ]
  },
  {
   "cell_type": "code",
   "execution_count": 14,
   "metadata": {},
   "outputs": [
    {
     "data": {
      "text/plain": [
       "9"
      ]
     },
     "execution_count": 14,
     "metadata": {},
     "output_type": "execute_result"
    }
   ],
   "source": [
    "# profondeur de l'arbre\n",
    "DTR.get_depth()"
   ]
  },
  {
   "cell_type": "code",
   "execution_count": 15,
   "metadata": {},
   "outputs": [
    {
     "name": "stdout",
     "output_type": "stream",
     "text": [
      "RMSE:  0.3810107094609311\n"
     ]
    }
   ],
   "source": [
    "# Performance RMSE\n",
    "from sklearn.metrics import mean_squared_error\n",
    "Y_hat=DTR.predict(X)\n",
    "MSE=mean_squared_error(Y_hat,Y)\n",
    "RMSE=MSE**(1/2)\n",
    "print(\"RMSE: \",RMSE)"
   ]
  },
  {
   "cell_type": "code",
   "execution_count": 16,
   "metadata": {},
   "outputs": [
    {
     "data": {
      "text/plain": [
       "[<matplotlib.lines.Line2D at 0x17edbf3a348>,\n",
       " <matplotlib.lines.Line2D at 0x17edbf41dc8>]"
      ]
     },
     "execution_count": 16,
     "metadata": {},
     "output_type": "execute_result"
    },
    {
     "data": {
      "image/png": "[encoded data removed]",
      "text/plain": [
       "<Figure size 432x288 with 1 Axes>"
      ]
     },
     "metadata": {
      "needs_background": "light"
     },
     "output_type": "display_data"
    }
   ],
   "source": [
    "# Affichage courbe\n",
    "plt.plot(X,Y,Y_hat)"
   ]
  },
  {
   "cell_type": "markdown",
   "metadata": {},
   "source": [
    "**Que se passe-t-il lorsque l'effectif minimum par feuille est fixé à 10 ?**"
   ]
  },
  {
   "cell_type": "code",
   "execution_count": 25,
   "metadata": {},
   "outputs": [],
   "source": [
    "DTR=DecisionTreeRegressor()"
   ]
  },
  {
   "cell_type": "code",
   "execution_count": 26,
   "metadata": {},
   "outputs": [
    {
     "data": {
      "text/plain": [
       "DecisionTreeRegressor()"
      ]
     },
     "execution_count": 26,
     "metadata": {},
     "output_type": "execute_result"
    }
   ],
   "source": [
    "DTR.fit(X,Y)"
   ]
  },
  {
   "cell_type": "code",
   "execution_count": 27,
   "metadata": {},
   "outputs": [
    {
     "name": "stdout",
     "output_type": "stream",
     "text": [
      "RMSE:  0.0\n"
     ]
    }
   ],
   "source": [
    "Y_hat=DTR.predict(X)\n",
    "MSE=mean_squared_error(Y_hat,Y)\n",
    "RMSE=MSE**(1/2)\n",
    "print(\"RMSE: \",RMSE)"
   ]
  },
  {
   "cell_type": "code",
   "execution_count": 28,
   "metadata": {},
   "outputs": [
    {
     "data": {
      "text/plain": [
       "[<matplotlib.lines.Line2D at 0x17edc07b188>,\n",
       " <matplotlib.lines.Line2D at 0x17edc082d08>]"
      ]
     },
     "execution_count": 28,
     "metadata": {},
     "output_type": "execute_result"
    },
    {
     "data": {
      "image/png": "[encoded data removed]",
      "text/plain": [
       "<Figure size 432x288 with 1 Axes>"
      ]
     },
     "metadata": {
      "needs_background": "light"
     },
     "output_type": "display_data"
    }
   ],
   "source": [
    "plt.plot(X,Y,Y_hat)"
   ]
  },
  {
   "cell_type": "markdown",
   "metadata": {},
   "source": [
    "# Un exemple plus complet à partir de donnée importées\n",
    "Dans cet exemple, certaines parties sont à compléter en se référant à la documentation officielle : https://scikit-learn.org/stable/modules/tree.html#tree <br>\n",
    "Dans cet exemple, l'objectif est de prédire la valeur moyenne des maisons dans les districts californiens en utilisant un arbre de décision.<br>\n",
    "Pour atteindre cet objectif, nous suivrons un processus standard qui se décline en 8 grandes étapes :<br>\n",
    "- Importation et préparation des données avec Pandas\n",
    "- Création d'un jeu de donnée d'entrainement et de test\n",
    "- Création d'un pipeline de transformation applicable aux données d'entrainement et de test\n",
    "- Instanciation et paramètrage d'un modèle de prédiction\n",
    "- Entrainement du modèle à partir du jeu d'entrainement\n",
    "- Validation du modèle à partir du jeu d'entrainement\n",
    "- Performance du modèle mesurée sur jeu de test\n",
    "- Prediction sur de nouvelle données\n",
    "\n",
    "Les deux dernières étapes ne sont envisagées que lorsque le modèle a été validé. Une mauvaise performance sur le jeu de test pour nous conduire à changer les valeurs d'hyperparamètres ou a choisir un autre modèle plus ou moins complexe. Ces ajustements trahissent une forme d'apprentissage sur les données de test que nous ne sommes pas censés connaître."
   ]
  },
  {
   "cell_type": "markdown",
   "metadata": {},
   "source": [
    "## Importation et préparation des données avec Python"
   ]
  },
  {
   "cell_type": "code",
   "execution_count": 29,
   "metadata": {},
   "outputs": [],
   "source": [
    "import pandas as pd\n",
    "import numpy as np\n",
    "data_dir=\"Dataset/\" # chemin relatif vers le fichier de données. A adapter selon l'emplacement choisi pour le fichier de données.\n",
    "data=pd.read_csv(data_dir+\"California_Housing - Copie.csv\",delimiter=\";\")"
   ]
  },
  {
   "cell_type": "code",
   "execution_count": 30,
   "metadata": {},
   "outputs": [],
   "source": [
    "# Nettoyage des données\n",
    "data_cleaned=data.loc[data.population<=5*data.population.std()] # suppression des données aberrantes\n",
    "data_cleaned=data_cleaned.drop(\"total_pools\",axis=1) # suppression de la colonne \"total_pools\" constituée à 50% de valeurs nulles\n",
    "data_cleaned=data_cleaned.drop([\"longitude\",\"latitude\"],axis=1) # suppression des colonnes longitude et latitude\n",
    "data_cleaned=data_cleaned.dropna(axis=0) # supression des lignes contenant au moins une valeur nulle\n",
    "data_cleaned=data_cleaned.astype({'total_rooms': 'float64','ocean_proximity':'category'}) # conversion de type"
   ]
  },
  {
   "cell_type": "code",
   "execution_count": 31,
   "metadata": {},
   "outputs": [
    {
     "data": {
      "text/html": [
       "<div>\n",
       "<style scoped>\n",
       "    .dataframe tbody tr th:only-of-type {\n",
       "        vertical-align: middle;\n",
       "    }\n",
       "\n",
       "    .dataframe tbody tr th {\n",
       "        vertical-align: top;\n",
       "    }\n",
       "\n",
       "    .dataframe thead th {\n",
       "        text-align: right;\n",
       "    }\n",
       "</style>\n",
       "<table border=\"1\" class=\"dataframe\">\n",
       "  <thead>\n",
       "    <tr style=\"text-align: right;\">\n",
       "      <th></th>\n",
       "      <th>housing_median_age</th>\n",
       "      <th>total_rooms</th>\n",
       "      <th>total_bedrooms</th>\n",
       "      <th>population</th>\n",
       "      <th>households</th>\n",
       "      <th>median_income</th>\n",
       "      <th>median_house_value</th>\n",
       "      <th>ocean_proximity</th>\n",
       "    </tr>\n",
       "  </thead>\n",
       "  <tbody>\n",
       "    <tr>\n",
       "      <th>0</th>\n",
       "      <td>41.0</td>\n",
       "      <td>880.0</td>\n",
       "      <td>129.0</td>\n",
       "      <td>322.0</td>\n",
       "      <td>126.0</td>\n",
       "      <td>8.3252</td>\n",
       "      <td>452600.0</td>\n",
       "      <td>NEAR BAY</td>\n",
       "    </tr>\n",
       "    <tr>\n",
       "      <th>1</th>\n",
       "      <td>21.0</td>\n",
       "      <td>7099.0</td>\n",
       "      <td>1106.0</td>\n",
       "      <td>2401.0</td>\n",
       "      <td>1138.0</td>\n",
       "      <td>8.3014</td>\n",
       "      <td>358500.0</td>\n",
       "      <td>NEAR BAY</td>\n",
       "    </tr>\n",
       "    <tr>\n",
       "      <th>2</th>\n",
       "      <td>52.0</td>\n",
       "      <td>1467.0</td>\n",
       "      <td>190.0</td>\n",
       "      <td>496.0</td>\n",
       "      <td>177.0</td>\n",
       "      <td>7.2574</td>\n",
       "      <td>352100.0</td>\n",
       "      <td>NEAR BAY</td>\n",
       "    </tr>\n",
       "    <tr>\n",
       "      <th>3</th>\n",
       "      <td>52.0</td>\n",
       "      <td>1274.0</td>\n",
       "      <td>235.0</td>\n",
       "      <td>558.0</td>\n",
       "      <td>219.0</td>\n",
       "      <td>5.6431</td>\n",
       "      <td>341300.0</td>\n",
       "      <td>NEAR BAY</td>\n",
       "    </tr>\n",
       "    <tr>\n",
       "      <th>4</th>\n",
       "      <td>52.0</td>\n",
       "      <td>1627.0</td>\n",
       "      <td>280.0</td>\n",
       "      <td>565.0</td>\n",
       "      <td>259.0</td>\n",
       "      <td>3.8462</td>\n",
       "      <td>342200.0</td>\n",
       "      <td>NEAR BAY</td>\n",
       "    </tr>\n",
       "    <tr>\n",
       "      <th>...</th>\n",
       "      <td>...</td>\n",
       "      <td>...</td>\n",
       "      <td>...</td>\n",
       "      <td>...</td>\n",
       "      <td>...</td>\n",
       "      <td>...</td>\n",
       "      <td>...</td>\n",
       "      <td>...</td>\n",
       "    </tr>\n",
       "    <tr>\n",
       "      <th>20635</th>\n",
       "      <td>25.0</td>\n",
       "      <td>1665.0</td>\n",
       "      <td>374.0</td>\n",
       "      <td>845.0</td>\n",
       "      <td>330.0</td>\n",
       "      <td>1.5603</td>\n",
       "      <td>78100.0</td>\n",
       "      <td>INLAND</td>\n",
       "    </tr>\n",
       "    <tr>\n",
       "      <th>20636</th>\n",
       "      <td>18.0</td>\n",
       "      <td>697.0</td>\n",
       "      <td>150.0</td>\n",
       "      <td>356.0</td>\n",
       "      <td>114.0</td>\n",
       "      <td>2.5568</td>\n",
       "      <td>77100.0</td>\n",
       "      <td>INLAND</td>\n",
       "    </tr>\n",
       "    <tr>\n",
       "      <th>20637</th>\n",
       "      <td>17.0</td>\n",
       "      <td>2254.0</td>\n",
       "      <td>485.0</td>\n",
       "      <td>1007.0</td>\n",
       "      <td>433.0</td>\n",
       "      <td>1.7000</td>\n",
       "      <td>92300.0</td>\n",
       "      <td>INLAND</td>\n",
       "    </tr>\n",
       "    <tr>\n",
       "      <th>20638</th>\n",
       "      <td>18.0</td>\n",
       "      <td>1860.0</td>\n",
       "      <td>409.0</td>\n",
       "      <td>741.0</td>\n",
       "      <td>349.0</td>\n",
       "      <td>1.8672</td>\n",
       "      <td>84700.0</td>\n",
       "      <td>INLAND</td>\n",
       "    </tr>\n",
       "    <tr>\n",
       "      <th>20639</th>\n",
       "      <td>16.0</td>\n",
       "      <td>2785.0</td>\n",
       "      <td>616.0</td>\n",
       "      <td>1387.0</td>\n",
       "      <td>530.0</td>\n",
       "      <td>2.3886</td>\n",
       "      <td>89400.0</td>\n",
       "      <td>INLAND</td>\n",
       "    </tr>\n",
       "  </tbody>\n",
       "</table>\n",
       "<p>18334 rows × 8 columns</p>\n",
       "</div>"
      ],
      "text/plain": [
       "       housing_median_age  total_rooms  total_bedrooms  population  \\\n",
       "0                    41.0        880.0           129.0       322.0   \n",
       "1                    21.0       7099.0          1106.0      2401.0   \n",
       "2                    52.0       1467.0           190.0       496.0   \n",
       "3                    52.0       1274.0           235.0       558.0   \n",
       "4                    52.0       1627.0           280.0       565.0   \n",
       "...                   ...          ...             ...         ...   \n",
       "20635                25.0       1665.0           374.0       845.0   \n",
       "20636                18.0        697.0           150.0       356.0   \n",
       "20637                17.0       2254.0           485.0      1007.0   \n",
       "20638                18.0       1860.0           409.0       741.0   \n",
       "20639                16.0       2785.0           616.0      1387.0   \n",
       "\n",
       "       households  median_income  median_house_value ocean_proximity  \n",
       "0           126.0         8.3252            452600.0        NEAR BAY  \n",
       "1          1138.0         8.3014            358500.0        NEAR BAY  \n",
       "2           177.0         7.2574            352100.0        NEAR BAY  \n",
       "3           219.0         5.6431            341300.0        NEAR BAY  \n",
       "4           259.0         3.8462            342200.0        NEAR BAY  \n",
       "...           ...            ...                 ...             ...  \n",
       "20635       330.0         1.5603             78100.0          INLAND  \n",
       "20636       114.0         2.5568             77100.0          INLAND  \n",
       "20637       433.0         1.7000             92300.0          INLAND  \n",
       "20638       349.0         1.8672             84700.0          INLAND  \n",
       "20639       530.0         2.3886             89400.0          INLAND  \n",
       "\n",
       "[18334 rows x 8 columns]"
      ]
     },
     "execution_count": 31,
     "metadata": {},
     "output_type": "execute_result"
    }
   ],
   "source": [
    "data_cleaned"
   ]
  },
  {
   "cell_type": "markdown",
   "metadata": {},
   "source": [
    "## Création d'un jeu de donnée d'entrainement et de test"
   ]
  },
  {
   "cell_type": "code",
   "execution_count": null,
   "metadata": {},
   "outputs": [],
   "source": [
    "# Utilisez la fonction train_test_split pour créer un jeu de donnée d'entrainement et de test à partir du dataframe data_cleaned\n",
    "# Faites cette répartition en mettant de côté 20% des données pour la phase de test\n",
    "# utilisez random_state=42 pour reproduire la même répartition à chaque execution\n",
    "from sklearn.model_selection import train_test_split\n",
    "Train_set, Test_set= "
   ]
  },
  {
   "cell_type": "code",
   "execution_count": null,
   "metadata": {},
   "outputs": [],
   "source": [
    "# Il faut maintenant séparer les features des labels\n",
    "# Utilisez les liste features et label pour faire cette séparation\n",
    "features=[\"housing_median_age\",\"total_rooms\",\"total_bedrooms\",\"population\",\"households\",\"median_income\",\"ocean_proximity\"]\n",
    "label=[\"median_house_value\"]"
   ]
  },
  {
   "cell_type": "code",
   "execution_count": null,
   "metadata": {},
   "outputs": [],
   "source": [
    "# Complétez le code ci-dessous\n",
    "Train_set_features=\n",
    "Test_set_features=\n",
    "Train_set_label=\n",
    "Test_set_label="
   ]
  },
  {
   "cell_type": "markdown",
   "metadata": {},
   "source": [
    "## Création d'un pipeline de transformation applicable aux données d'entrainement et de test\n",
    "Avant de prodécder à l'apprentissage, il est souvent nécessaire de transformer certaines features pour les rendre compatibles avec les logiques propres à chaque algorithme et le type de tâche à réaliser (régression ou classification).<br>\n",
    "\n",
    "Quelque soit le modèle d'apprentissage utilisé et la tâche à réaliser, il est nécessaire de fournir aux algorithmes des données d'entrée numériques. Dans notre cas, la variable \"ocean_proximity\" doit être transformée en valeurs numérique via le transformateur OrdinalEncoder (documentation : https://scikit-learn.org/stable/modules/generated/sklearn.preprocessing.OrdinalEncoder.html) <br>\n",
    "\n",
    "**Remarque:** Les transformations OneHotEncoder et StandardScaler ne sont pas nécessaires dans le cas des arbres de décision"
   ]
  },
  {
   "cell_type": "code",
   "execution_count": null,
   "metadata": {},
   "outputs": [],
   "source": [
    "# importation des classes utiles à la transformation et à la création d'un pipeline\n",
    "from sklearn.preprocessing import OrdinalEncoder\n",
    "from sklearn.compose import ColumnTransformer"
   ]
  },
  {
   "cell_type": "code",
   "execution_count": null,
   "metadata": {},
   "outputs": [],
   "source": [
    "# Pour appliquer des tranformations sur des groupes de colonnes on peut construire un pipeline de transformations avec un objet ColumnTransformer\n",
    "# Nous commençons par distinguer les variables selon leur type (categorielles ou continues)\n",
    "cat_attribs=[\"ocean_proximity\"]\n",
    "num_attribs=[\"housing_median_age\",\"total_rooms\",\"total_bedrooms\",\"population\",\"households\",\"median_income\"]"
   ]
  },
  {
   "cell_type": "code",
   "execution_count": null,
   "metadata": {},
   "outputs": [],
   "source": [
    "# ColumnTransformer prend comme attribut un liste de tuple chacun correspondant à une transformation particulière\n",
    "# L'ordre des variables en sortie de la transformation correspond à l'ordre des transformations.\n",
    "# Un tuple représentant une transformation prend la for (\"nom_transformation\",transformateur(),liste_colonne)\n",
    "# Complétez le code ci-dessous\n",
    "pipeline=ColumnTransformer([])"
   ]
  },
  {
   "cell_type": "markdown",
   "metadata": {},
   "source": [
    "**Remarque:** En sortie du pipeline, l'ordre des features correspond à l'ordre des transformations."
   ]
  },
  {
   "cell_type": "code",
   "execution_count": null,
   "metadata": {},
   "outputs": [],
   "source": [
    "# Pour appliquer le pipeline, il suffit d'invoquer la méthode fit_transform\n",
    "# Complétez le code ci-dessous\n",
    "Train_set_features_transformed= \n",
    "Test_set_features_transformed="
   ]
  },
  {
   "cell_type": "markdown",
   "metadata": {},
   "source": [
    "# Changement de réunion vers Stage 1\n",
    "\n",
    "https://teams.microsoft.com/l/meetup-join/19%3ameeting_MTg4ZTg0YWEtMjFkZC00MDczLWE2NWUtMjg3ZTIxYTk0MWZh%40thread.v2/0?context=%7b%22Tid%22%3a%2281e7c4de-26c9-4531-b076-b70e2d75966e%22%2c%22Oid%22%3a%2214147072-8ce4-484f-b5e9-ab7fea0d5674%22%7d"
   ]
  },
  {
   "cell_type": "markdown",
   "metadata": {},
   "source": [
    "## Instanciation et paramètrage d'un arbre de décision"
   ]
  },
  {
   "cell_type": "code",
   "execution_count": null,
   "metadata": {},
   "outputs": [],
   "source": [
    "from sklearn.tree import DecisionTreeRegressor\n",
    "from sklearn import tree\n",
    "\n",
    "# Créez un arbre de décision pour la régression avec les paramètres standards\n",
    "# Complétez le code ci-dessous\n",
    "DTR="
   ]
  },
  {
   "cell_type": "markdown",
   "metadata": {},
   "source": [
    "**Question:** Quelles sont la classes qui permettent de créer des modèles linéaires résularisés ?<br>\n",
    "**Remarque:** Le modèle peut être inégré en dernière étape du pipeline"
   ]
  },
  {
   "cell_type": "markdown",
   "metadata": {},
   "source": [
    "## Entrainement du modèle à partir du jeu d'entrainement\n",
    "L'ntrainement du modèle peut se faire simplement via la méthode fit."
   ]
  },
  {
   "cell_type": "code",
   "execution_count": null,
   "metadata": {},
   "outputs": [],
   "source": [
    "# Entrainez l'arbre de décision en utilisant la métohe fit\n"
   ]
  },
  {
   "cell_type": "code",
   "execution_count": null,
   "metadata": {},
   "outputs": [],
   "source": [
    "# Affichez la RMSE mesurée sur le jeu d'entrainement\n",
    "\n",
    "\n",
    "print(\"RMSE: \",RMSE)"
   ]
  },
  {
   "cell_type": "markdown",
   "metadata": {},
   "source": [
    "**Questions:**\n",
    "- Que signifie la valeur de RMSE obtenue ?\n",
    "- Qu'est ce qui explique cette valeur ?\n",
    "- Comment éviter ce phénomène ?"
   ]
  },
  {
   "cell_type": "code",
   "execution_count": null,
   "metadata": {},
   "outputs": [],
   "source": [
    "# Réalisez un apprentissage en utilisant une recherche d'hyperparamètres par GridSearch\n",
    "# Consultez la documentation pour comprenre le principe de cette méthode : https://scikit-learn.org/stable/modules/grid_search.html#grid-search\n",
    "# Compéltez le code ci-dessous pour évaluer la perforamnce de modèles combinant au moins deux veleurs de trois hyperparamètres propres aux arbres de décision \n",
    "# (Ex : max_depth, min_samples_leaf, min_samples_split)\n",
    "\n",
    "# complétez le code ci-dessous\n",
    "param_grid=[{}]"
   ]
  },
  {
   "cell_type": "code",
   "execution_count": null,
   "metadata": {},
   "outputs": [],
   "source": [
    "# Création d'un objet GridSearch avec cross-validation \n",
    "from sklearn.model_selection import GridSearchCV\n",
    "grid_search=GridSearchCV(DTR,param_grid,cv=3,scoring='neg_mean_squared_error',return_train_score=True)"
   ]
  },
  {
   "cell_type": "code",
   "execution_count": null,
   "metadata": {},
   "outputs": [],
   "source": [
    "# Entrainement des modèles issus de la cominaison des hyperparamètres \n",
    "grid_search.fit(Train_set_features_transformed,Train_set_label)"
   ]
  },
  {
   "cell_type": "code",
   "execution_count": null,
   "metadata": {},
   "outputs": [],
   "source": [
    "# Affichage des modèles entrainés\n",
    "grid_search.cv_results_['params']"
   ]
  },
  {
   "cell_type": "code",
   "execution_count": null,
   "metadata": {},
   "outputs": [],
   "source": [
    "# Affichage de la MSE de chaque modèle sur le jeu d'entrainement\n",
    "grid_search.cv_results_['mean_test_score']"
   ]
  },
  {
   "cell_type": "code",
   "execution_count": null,
   "metadata": {},
   "outputs": [],
   "source": [
    "# Affichage de la MSE de chaque modèle sur le jeu de validation\n",
    "grid_search.cv_results_['mean_train_score']"
   ]
  },
  {
   "cell_type": "code",
   "execution_count": null,
   "metadata": {},
   "outputs": [],
   "source": [
    "# Comparaison de la MSE d'entrainement et de validation pour chaque modèle\n",
    "ind = np.arange(len(grid_search.cv_results_['mean_train_score'])) \n",
    "width = 0.35\n",
    "fig, ax = plt.subplots(figsize=(18,12))\n",
    "rects1 = ax.bar(ind - width/2, -grid_search.cv_results_['mean_train_score'], width,\n",
    "                color='SkyBlue', label='Train')\n",
    "rects2 = ax.bar(ind + width/2, -grid_search.cv_results_['mean_test_score'], width, \n",
    "                color='IndianRed', label='Test')\n",
    "\n",
    "ax.set_ylabel('Loss')\n",
    "ax.set_title('Loss per scenario')\n",
    "ax.set_xticks(ind)\n",
    "ax.legend()"
   ]
  },
  {
   "cell_type": "code",
   "execution_count": null,
   "metadata": {},
   "outputs": [],
   "source": [
    "# Affichage de l'indexe du meilleur modèle sur la base de la MSE en validation\n",
    "grid_search.best_index_"
   ]
  },
  {
   "cell_type": "code",
   "execution_count": null,
   "metadata": {},
   "outputs": [],
   "source": [
    "# Affichez les valeurs d'hyperparamètre du meilleur modèle\n"
   ]
  },
  {
   "cell_type": "code",
   "execution_count": null,
   "metadata": {},
   "outputs": [],
   "source": [
    "# Calculez la RMSE du meilleur modèle mesurée sur le jeu d'entrainement et sur le jeu de validation\n"
   ]
  },
  {
   "cell_type": "code",
   "execution_count": null,
   "metadata": {},
   "outputs": [],
   "source": [
    "# Choix du meilleur modèle \n",
    "Best_Model_DTR=grid_search.best_estimator_"
   ]
  },
  {
   "cell_type": "code",
   "execution_count": null,
   "metadata": {},
   "outputs": [],
   "source": [
    "# Utilisez l'attribut feature_importances_ pour afficher l'importance relative des variables\n",
    "# Référez-vous à la documentation pour interpréter ces résultats : https://scikit-learn.org/stable/modules/generated/sklearn.tree.DecisionTreeClassifier.html#sklearn.tree.DecisionTreeClassifier.feature_importances_\n",
    "# Complétez le code ci-dessous\n",
    "Feat_imp="
   ]
  },
  {
   "cell_type": "code",
   "execution_count": null,
   "metadata": {},
   "outputs": [],
   "source": [
    "# Affichage de l'importance relative des variables avec nom de la colonne\n",
    "Feat_imp=dict(zip(Train_set_features.columns,Feat_imp))\n",
    "dict(sorted(Feat_imp.items(), key=lambda item: item[1],reverse=True))"
   ]
  },
  {
   "cell_type": "code",
   "execution_count": null,
   "metadata": {},
   "outputs": [],
   "source": [
    "# Visualisation de l'arbre\n",
    "def graph_viz(DTR,features,label):\n",
    "    Tree_graph = tree.export_graphviz(DTR, out_file=None, \n",
    "    feature_names=features,  \n",
    "    class_names=label,  \n",
    "    filled=True, rounded=True,  \n",
    "    special_characters=True) \n",
    "    graph = graphviz.Source(Tree_graph)\n",
    "    return(graph)\n",
    "graph_viz(Best_Model_DTR,Train_set_features.columns,\"ocean_proximity\")"
   ]
  },
  {
   "cell_type": "markdown",
   "metadata": {},
   "source": [
    "## Validation du modèle à partir du jeu d'entrainement\n",
    "Pour mesurer la qualité d'un prédicteur et la capcité de généralisation d'un modèle, il est recommandé d'utiliser une partie du jeu d'entrainement pour calculer les paramètres du modèle et une autre partie pour en mesurer la performance.\n",
    "En cas de sur ou sous apprentissage, on peut ainsi recalibrer les hyper-paramètres du modèle sans avoir à utiliser le jeu de test.\n",
    "Pour maximiser l'utilisation des données d'apprentissage pour le calcul des paramètres, une bonne pratique consiste à réaliser une cross-validation par la méthode des K-folds.<br>\n",
    "Consultez la documentation pour comprendre le principe de cette méthode : https://scikit-learn.org/stable/modules/cross_validation.html"
   ]
  },
  {
   "cell_type": "code",
   "execution_count": null,
   "metadata": {},
   "outputs": [],
   "source": [
    "# Fonction d'affichage graphique\n",
    "\n",
    "import matplotlib.pyplot as plt\n",
    "\n",
    "def Train_validation_curves(train_sizes,train_scores,valid_scores,secondary=True):\n",
    "    t = train_sizes\n",
    "    fig, ax1 = plt.subplots()\n",
    "\n",
    "    color='tab:red'\n",
    "    ax1.set_xlabel('Training Sample Size')\n",
    "    ax1.set_ylabel('RMSE')\n",
    "    ax1.plot(t, np.mean(np.sqrt(-train_scores),axis=1), color=color,label='Train')\n",
    "\n",
    "    if secondary:\n",
    "        ax1.tick_params(axis='y', labelcolor=color)\n",
    "        ax1.set_ylabel('RMSE Train',color=color)\n",
    "        color='tab:blue'\n",
    "        ax2 = ax1.twinx()\n",
    "        ax2.set_ylabel('RMSE Validation',color=color)\n",
    "        ax2.plot(t, np.mean(np.sqrt(-valid_scores),axis=1),color=color ,label='Validation')\n",
    "        ax2.tick_params(axis='y', labelcolor=color)\n",
    "    else:\n",
    "        color='tab:blue'\n",
    "        ax1.plot(t, np.mean(np.sqrt(-valid_scores),axis=1),color=color ,label='Validation')\n",
    "        ax1.legend()\n",
    "      \n",
    "\n",
    "    plt.show()"
   ]
  },
  {
   "cell_type": "markdown",
   "metadata": {},
   "source": [
    "### Validation du modèle DTR issu d'un apprentissage simple"
   ]
  },
  {
   "cell_type": "code",
   "execution_count": null,
   "metadata": {},
   "outputs": [],
   "source": [
    "# Représentation sur un graphe \n",
    "from sklearn.model_selection import learning_curve\n",
    "train_sizes, train_scores, valid_scores = learning_curve(DTR, Train_set_features_transformed, np.array(Train_set_label).reshape(-1,),train_sizes=list(range(100,9700,100)), cv=3,scoring='neg_mean_squared_error')\n",
    "Train_validation_curves(train_sizes,train_scores,valid_scores,False)"
   ]
  },
  {
   "cell_type": "markdown",
   "metadata": {},
   "source": [
    "**Question:** Analysez rapidement la forme des courbes de RMSE en entrainement et en validation"
   ]
  },
  {
   "cell_type": "markdown",
   "metadata": {},
   "source": [
    "### Validation du modèle Best_Model_DTR issu d'une recherche d'hyperparamètre par GridSearch"
   ]
  },
  {
   "cell_type": "code",
   "execution_count": null,
   "metadata": {},
   "outputs": [],
   "source": [
    "train_sizes, train_scores, valid_scores = learning_curve(Best_Model_DTR, Train_set_features_transformed, np.array(Train_set_label).reshape(-1,),train_sizes=list(range(100,9700,100)), cv=3,scoring='neg_mean_squared_error')\n",
    "Train_validation_curves(train_sizes,train_scores,valid_scores,False)"
   ]
  },
  {
   "cell_type": "markdown",
   "metadata": {},
   "source": [
    "**Question:** Analysez rapidement la forme des courbes de RMSE en entrainement et en validation"
   ]
  },
  {
   "cell_type": "markdown",
   "metadata": {},
   "source": [
    "# Changement de réunion vers Stage 2\n",
    "https://teams.microsoft.com/l/meetup-join/19%3ameeting_MTg4ZTg0YWEtMjFkZC00MDczLWE2NWUtMjg3ZTIxYTk0MWZh%40thread.v2/0?context=%7b%22Tid%22%3a%2281e7c4de-26c9-4531-b076-b70e2d75966e%22%2c%22Oid%22%3a%2214147072-8ce4-484f-b5e9-ab7fea0d5674%22%7d"
   ]
  },
  {
   "cell_type": "markdown",
   "metadata": {},
   "source": [
    "# Random Forest\n",
    "En reprenant les étapes précédentes :\n",
    "- Créez un modèle de régression de type RandomForestRegressor\n",
    "- Entrainez plusieurs modèles en utilisant un GridSearch (utilisez deux valeurs différentes pour les paramètres min_samples_leaf et n_estimators)\n",
    "- Affichez graphiquement les performances en entrainement et en validation des différents modèles\n",
    "- Identifiez le meilleur modèle \"Best_Model_RFR\" sur la base de la MSE en validation\n",
    "- Affichez pour le meilleur modèle, la RMSE en entrainement et la RMSE en validation\n",
    "- Affichez l'importance relative des variables"
   ]
  },
  {
   "cell_type": "markdown",
   "metadata": {},
   "source": [
    "# Performances sur jeu de test\n",
    "Utilisez le jeu de test pour mesurer la performace des modèles : Best_Model_DTR et Best_Model_RFR"
   ]
  },
  {
   "cell_type": "markdown",
   "metadata": {},
   "source": [
    "# Retour vers Stage 0 ou Stage 1\n",
    "Si vous avez fini, prenez le temps de donner un coup de main à vos camarades encore en Stage 0 ou Stage 1"
   ]
  },
  {
   "cell_type": "code",
   "execution_count": null,
   "metadata": {},
   "outputs": [],
   "source": []
  }
 ],
 "metadata": {
  "kernelspec": {
   "display_name": "Python 3 (ipykernel)",
   "language": "python",
   "name": "python3"
  },
  "language_info": {
   "codemirror_mode": {
    "name": "ipython",
    "version": 3
   },
   "file_extension": ".py",
   "mimetype": "text/x-python",
   "name": "python",
   "nbconvert_exporter": "python",
   "pygments_lexer": "ipython3",
   "version": "3.8.2"
  }
 },
 "nbformat": 4,
 "nbformat_minor": 4
}
