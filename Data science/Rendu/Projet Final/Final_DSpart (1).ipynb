{
 "cells": [
  {
   "cell_type": "code",
   "execution_count": 3,
   "metadata": {
    "colab": {
     "base_uri": "https://localhost:8080/"
    },
    "executionInfo": {
     "elapsed": 1881,
     "status": "ok",
     "timestamp": 1645204491490,
     "user": {
      "displayName": "Duval Tom",
      "photoUrl": "https://lh3.googleusercontent.com/a-/AOh14Gjt88ZFofxV4HthATzm7S8KXVD8W2ST3QJGw2msTg=s64",
      "userId": "09572485244870456708"
     },
     "user_tz": -60
    },
    "id": "KiDs_aRUS5x2",
    "outputId": "50f13835-f76c-46c5-c9c3-80f073196b6b"
   },
   "outputs": [
    {
     "name": "stdout",
     "output_type": "stream",
     "text": [
      "Drive already mounted at /content/drive; to attempt to forcibly remount, call drive.mount(\"/content/drive\", force_remount=True).\n"
     ]
    }
   ],
   "source": [
    "from google.colab import drive\n",
    "drive.mount('/content/drive')"
   ]
  },
  {
   "cell_type": "code",
   "execution_count": 4,
   "metadata": {
    "colab": {
     "base_uri": "https://localhost:8080/"
    },
    "executionInfo": {
     "elapsed": 14,
     "status": "ok",
     "timestamp": 1645204491492,
     "user": {
      "displayName": "Duval Tom",
      "photoUrl": "https://lh3.googleusercontent.com/a-/AOh14Gjt88ZFofxV4HthATzm7S8KXVD8W2ST3QJGw2msTg=s64",
      "userId": "09572485244870456708"
     },
     "user_tz": -60
    },
    "id": "nQ91WJ3aTl17",
    "outputId": "6567ccb3-769e-4c11-d749-017ab26d7271"
   },
   "outputs": [
    {
     "name": "stdout",
     "output_type": "stream",
     "text": [
      "/content/drive/MyDrive/DS-FinalESD\n"
     ]
    }
   ],
   "source": [
    "%cd /content/drive/MyDrive/DS-FinalESD"
   ]
  },
  {
   "cell_type": "code",
   "execution_count": 5,
   "metadata": {
    "executionInfo": {
     "elapsed": 12,
     "status": "ok",
     "timestamp": 1645204491492,
     "user": {
      "displayName": "Duval Tom",
      "photoUrl": "https://lh3.googleusercontent.com/a-/AOh14Gjt88ZFofxV4HthATzm7S8KXVD8W2ST3QJGw2msTg=s64",
      "userId": "09572485244870456708"
     },
     "user_tz": -60
    },
    "id": "g5YKVZCzStCP"
   },
   "outputs": [],
   "source": [
    "import pandas as pd \n",
    "import numpy as np\n",
    "import matplotlib.pyplot as plt"
   ]
  },
  {
   "cell_type": "code",
   "execution_count": 6,
   "metadata": {
    "executionInfo": {
     "elapsed": 3,
     "status": "ok",
     "timestamp": 1645204491878,
     "user": {
      "displayName": "Duval Tom",
      "photoUrl": "https://lh3.googleusercontent.com/a-/AOh14Gjt88ZFofxV4HthATzm7S8KXVD8W2ST3QJGw2msTg=s64",
      "userId": "09572485244870456708"
     },
     "user_tz": -60
    },
    "id": "SzWYvZkPStCS"
   },
   "outputs": [],
   "source": [
    "df = pd.read_csv('HISP.csv')\n",
    "df = df[(df['round'] == 'Before')]"
   ]
  },
  {
   "cell_type": "code",
   "execution_count": 7,
   "metadata": {
    "colab": {
     "base_uri": "https://localhost:8080/"
    },
    "executionInfo": {
     "elapsed": 9,
     "status": "ok",
     "timestamp": 1645204492545,
     "user": {
      "displayName": "Duval Tom",
      "photoUrl": "https://lh3.googleusercontent.com/a-/AOh14Gjt88ZFofxV4HthATzm7S8KXVD8W2ST3QJGw2msTg=s64",
      "userId": "09572485244870456708"
     },
     "user_tz": -60
    },
    "id": "OnvJ76OmuHhp",
    "outputId": "89a6ff08-bdbb-4132-f075-aade7548f95e"
   },
   "outputs": [
    {
     "data": {
      "text/plain": [
       "array(['Before'], dtype=object)"
      ]
     },
     "execution_count": 7,
     "metadata": {},
     "output_type": "execute_result"
    }
   ],
   "source": [
    "df['round'].unique()"
   ]
  },
  {
   "cell_type": "code",
   "execution_count": 8,
   "metadata": {
    "executionInfo": {
     "elapsed": 6,
     "status": "ok",
     "timestamp": 1645204492546,
     "user": {
      "displayName": "Duval Tom",
      "photoUrl": "https://lh3.googleusercontent.com/a-/AOh14Gjt88ZFofxV4HthATzm7S8KXVD8W2ST3QJGw2msTg=s64",
      "userId": "09572485244870456708"
     },
     "user_tz": -60
    },
    "id": "McV-WREAStCU"
   },
   "outputs": [],
   "source": [
    "relevant_features = ['poverty_index', 'age_hh', 'age_sp', 'educ_hh', 'educ_sp', 'female_hh', 'indigenous', 'hhsize', 'dirtfloor', 'bathroom', 'land', 'hospital_distance', 'park', 'sports']\n",
    "X, y = df[relevant_features], df[['health_expenditures']]"
   ]
  },
  {
   "cell_type": "markdown",
   "metadata": {
    "id": "MXZKNtybStCU"
   },
   "source": [
    "## Statistics of the dataset"
   ]
  },
  {
   "cell_type": "code",
   "execution_count": 9,
   "metadata": {
    "colab": {
     "base_uri": "https://localhost:8080/"
    },
    "executionInfo": {
     "elapsed": 6,
     "status": "ok",
     "timestamp": 1645204493276,
     "user": {
      "displayName": "Duval Tom",
      "photoUrl": "https://lh3.googleusercontent.com/a-/AOh14Gjt88ZFofxV4HthATzm7S8KXVD8W2ST3QJGw2msTg=s64",
      "userId": "09572485244870456708"
     },
     "user_tz": -60
    },
    "id": "42-aKJjx1anP",
    "outputId": "170df406-879b-42b0-b240-82f0ba60da39"
   },
   "outputs": [
    {
     "name": "stdout",
     "output_type": "stream",
     "text": [
      "<class 'pandas.core.frame.DataFrame'>\n",
      "Int64Index: 9913 entries, 0 to 19825\n",
      "Data columns (total 14 columns):\n",
      " #   Column             Non-Null Count  Dtype  \n",
      "---  ------             --------------  -----  \n",
      " 0   poverty_index      9913 non-null   float64\n",
      " 1   age_hh             9913 non-null   float64\n",
      " 2   age_sp             9913 non-null   int64  \n",
      " 3   educ_hh            9913 non-null   float64\n",
      " 4   educ_sp            9913 non-null   float64\n",
      " 5   female_hh          9913 non-null   int64  \n",
      " 6   indigenous         9913 non-null   int64  \n",
      " 7   hhsize             9913 non-null   int64  \n",
      " 8   dirtfloor          9913 non-null   int64  \n",
      " 9   bathroom           9913 non-null   int64  \n",
      " 10  land               9913 non-null   int64  \n",
      " 11  hospital_distance  9913 non-null   float64\n",
      " 12  park               9913 non-null   float64\n",
      " 13  sports             9913 non-null   int64  \n",
      "dtypes: float64(6), int64(8)\n",
      "memory usage: 1.1 MB\n"
     ]
    }
   ],
   "source": [
    "X.info()"
   ]
  },
  {
   "cell_type": "code",
   "execution_count": 10,
   "metadata": {
    "colab": {
     "base_uri": "https://localhost:8080/",
     "height": 364
    },
    "executionInfo": {
     "elapsed": 358,
     "status": "ok",
     "timestamp": 1645204494789,
     "user": {
      "displayName": "Duval Tom",
      "photoUrl": "https://lh3.googleusercontent.com/a-/AOh14Gjt88ZFofxV4HthATzm7S8KXVD8W2ST3QJGw2msTg=s64",
      "userId": "09572485244870456708"
     },
     "user_tz": -60
    },
    "id": "U6fDk-TIStCW",
    "outputId": "19390c2f-4409-4d81-891d-fc7f6a90e018"
   },
   "outputs": [
    {
     "data": {
      "text/html": [
       "\n",
       "  <div id=\"df-c9ca736c-dc7d-4bf1-b035-6e54cd1b55d7\">\n",
       "    <div class=\"colab-df-container\">\n",
       "      <div>\n",
       "<style scoped>\n",
       "    .dataframe tbody tr th:only-of-type {\n",
       "        vertical-align: middle;\n",
       "    }\n",
       "\n",
       "    .dataframe tbody tr th {\n",
       "        vertical-align: top;\n",
       "    }\n",
       "\n",
       "    .dataframe thead th {\n",
       "        text-align: right;\n",
       "    }\n",
       "</style>\n",
       "<table border=\"1\" class=\"dataframe\">\n",
       "  <thead>\n",
       "    <tr style=\"text-align: right;\">\n",
       "      <th></th>\n",
       "      <th>poverty_index</th>\n",
       "      <th>age_hh</th>\n",
       "      <th>age_sp</th>\n",
       "      <th>educ_hh</th>\n",
       "      <th>educ_sp</th>\n",
       "      <th>female_hh</th>\n",
       "      <th>indigenous</th>\n",
       "      <th>hhsize</th>\n",
       "      <th>dirtfloor</th>\n",
       "      <th>bathroom</th>\n",
       "      <th>land</th>\n",
       "      <th>hospital_distance</th>\n",
       "      <th>park</th>\n",
       "      <th>sports</th>\n",
       "    </tr>\n",
       "  </thead>\n",
       "  <tbody>\n",
       "    <tr>\n",
       "      <th>count</th>\n",
       "      <td>9913.000000</td>\n",
       "      <td>9913.000000</td>\n",
       "      <td>9913.000000</td>\n",
       "      <td>9913.000000</td>\n",
       "      <td>9913.000000</td>\n",
       "      <td>9913.000000</td>\n",
       "      <td>9913.000000</td>\n",
       "      <td>9913.000000</td>\n",
       "      <td>9913.000000</td>\n",
       "      <td>9913.000000</td>\n",
       "      <td>9913.000000</td>\n",
       "      <td>9913.000000</td>\n",
       "      <td>9913.000000</td>\n",
       "      <td>9913.000000</td>\n",
       "    </tr>\n",
       "    <tr>\n",
       "      <th>mean</th>\n",
       "      <td>56.790404</td>\n",
       "      <td>46.200353</td>\n",
       "      <td>40.183900</td>\n",
       "      <td>2.833289</td>\n",
       "      <td>2.617573</td>\n",
       "      <td>0.099062</td>\n",
       "      <td>0.352870</td>\n",
       "      <td>5.178553</td>\n",
       "      <td>0.603652</td>\n",
       "      <td>0.615959</td>\n",
       "      <td>2.079492</td>\n",
       "      <td>105.319595</td>\n",
       "      <td>2.518121</td>\n",
       "      <td>5.524362</td>\n",
       "    </tr>\n",
       "    <tr>\n",
       "      <th>std</th>\n",
       "      <td>10.685997</td>\n",
       "      <td>15.285329</td>\n",
       "      <td>12.794188</td>\n",
       "      <td>2.754699</td>\n",
       "      <td>2.543095</td>\n",
       "      <td>0.298760</td>\n",
       "      <td>0.477887</td>\n",
       "      <td>2.195223</td>\n",
       "      <td>0.489163</td>\n",
       "      <td>0.486392</td>\n",
       "      <td>3.133165</td>\n",
       "      <td>42.063589</td>\n",
       "      <td>1.437306</td>\n",
       "      <td>2.870390</td>\n",
       "    </tr>\n",
       "    <tr>\n",
       "      <th>min</th>\n",
       "      <td>20.479134</td>\n",
       "      <td>14.000000</td>\n",
       "      <td>14.000000</td>\n",
       "      <td>0.000000</td>\n",
       "      <td>0.000000</td>\n",
       "      <td>0.000000</td>\n",
       "      <td>0.000000</td>\n",
       "      <td>1.000000</td>\n",
       "      <td>0.000000</td>\n",
       "      <td>0.000000</td>\n",
       "      <td>0.000000</td>\n",
       "      <td>9.465392</td>\n",
       "      <td>0.001000</td>\n",
       "      <td>1.000000</td>\n",
       "    </tr>\n",
       "    <tr>\n",
       "      <th>25%</th>\n",
       "      <td>49.652241</td>\n",
       "      <td>34.000000</td>\n",
       "      <td>30.000000</td>\n",
       "      <td>0.000000</td>\n",
       "      <td>0.000000</td>\n",
       "      <td>0.000000</td>\n",
       "      <td>0.000000</td>\n",
       "      <td>4.000000</td>\n",
       "      <td>0.000000</td>\n",
       "      <td>0.000000</td>\n",
       "      <td>0.000000</td>\n",
       "      <td>72.804218</td>\n",
       "      <td>1.278000</td>\n",
       "      <td>3.000000</td>\n",
       "    </tr>\n",
       "    <tr>\n",
       "      <th>50%</th>\n",
       "      <td>56.414219</td>\n",
       "      <td>45.000000</td>\n",
       "      <td>41.000000</td>\n",
       "      <td>2.000000</td>\n",
       "      <td>2.000000</td>\n",
       "      <td>0.000000</td>\n",
       "      <td>0.000000</td>\n",
       "      <td>5.000000</td>\n",
       "      <td>1.000000</td>\n",
       "      <td>1.000000</td>\n",
       "      <td>1.000000</td>\n",
       "      <td>113.556497</td>\n",
       "      <td>2.541000</td>\n",
       "      <td>6.000000</td>\n",
       "    </tr>\n",
       "    <tr>\n",
       "      <th>75%</th>\n",
       "      <td>62.905720</td>\n",
       "      <td>57.000000</td>\n",
       "      <td>47.000000</td>\n",
       "      <td>4.000000</td>\n",
       "      <td>4.000000</td>\n",
       "      <td>0.000000</td>\n",
       "      <td>1.000000</td>\n",
       "      <td>7.000000</td>\n",
       "      <td>1.000000</td>\n",
       "      <td>1.000000</td>\n",
       "      <td>3.000000</td>\n",
       "      <td>141.097735</td>\n",
       "      <td>3.749000</td>\n",
       "      <td>8.000000</td>\n",
       "    </tr>\n",
       "    <tr>\n",
       "      <th>max</th>\n",
       "      <td>100.000000</td>\n",
       "      <td>88.000000</td>\n",
       "      <td>87.000000</td>\n",
       "      <td>16.000000</td>\n",
       "      <td>17.000000</td>\n",
       "      <td>1.000000</td>\n",
       "      <td>1.000000</td>\n",
       "      <td>13.000000</td>\n",
       "      <td>1.000000</td>\n",
       "      <td>1.000000</td>\n",
       "      <td>23.000000</td>\n",
       "      <td>170.457647</td>\n",
       "      <td>5.008000</td>\n",
       "      <td>10.000000</td>\n",
       "    </tr>\n",
       "  </tbody>\n",
       "</table>\n",
       "</div>\n",
       "      <button class=\"colab-df-convert\" onclick=\"convertToInteractive('df-c9ca736c-dc7d-4bf1-b035-6e54cd1b55d7')\"\n",
       "              title=\"Convert this dataframe to an interactive table.\"\n",
       "              style=\"display:none;\">\n",
       "        \n",
       "  <svg xmlns=\"http://www.w3.org/2000/svg\" height=\"24px\"viewBox=\"0 0 24 24\"\n",
       "       width=\"24px\">\n",
       "    <path d=\"M0 0h24v24H0V0z\" fill=\"none\"/>\n",
       "    <path d=\"M18.56 5.44l.94 2.06.94-2.06 2.06-.94-2.06-.94-.94-2.06-.94 2.06-2.06.94zm-11 1L8.5 8.5l.94-2.06 2.06-.94-2.06-.94L8.5 2.5l-.94 2.06-2.06.94zm10 10l.94 2.06.94-2.06 2.06-.94-2.06-.94-.94-2.06-.94 2.06-2.06.94z\"/><path d=\"M17.41 7.96l-1.37-1.37c-.4-.4-.92-.59-1.43-.59-.52 0-1.04.2-1.43.59L10.3 9.45l-7.72 7.72c-.78.78-.78 2.05 0 2.83L4 21.41c.39.39.9.59 1.41.59.51 0 1.02-.2 1.41-.59l7.78-7.78 2.81-2.81c.8-.78.8-2.07 0-2.86zM5.41 20L4 18.59l7.72-7.72 1.47 1.35L5.41 20z\"/>\n",
       "  </svg>\n",
       "      </button>\n",
       "      \n",
       "  <style>\n",
       "    .colab-df-container {\n",
       "      display:flex;\n",
       "      flex-wrap:wrap;\n",
       "      gap: 12px;\n",
       "    }\n",
       "\n",
       "    .colab-df-convert {\n",
       "      background-color: #E8F0FE;\n",
       "      border: none;\n",
       "      border-radius: 50%;\n",
       "      cursor: pointer;\n",
       "      display: none;\n",
       "      fill: #1967D2;\n",
       "      height: 32px;\n",
       "      padding: 0 0 0 0;\n",
       "      width: 32px;\n",
       "    }\n",
       "\n",
       "    .colab-df-convert:hover {\n",
       "      background-color: #E2EBFA;\n",
       "      box-shadow: 0px 1px 2px rgba(60, 64, 67, 0.3), 0px 1px 3px 1px rgba(60, 64, 67, 0.15);\n",
       "      fill: #174EA6;\n",
       "    }\n",
       "\n",
       "    [theme=dark] .colab-df-convert {\n",
       "      background-color: #3B4455;\n",
       "      fill: #D2E3FC;\n",
       "    }\n",
       "\n",
       "    [theme=dark] .colab-df-convert:hover {\n",
       "      background-color: #434B5C;\n",
       "      box-shadow: 0px 1px 3px 1px rgba(0, 0, 0, 0.15);\n",
       "      filter: drop-shadow(0px 1px 2px rgba(0, 0, 0, 0.3));\n",
       "      fill: #FFFFFF;\n",
       "    }\n",
       "  </style>\n",
       "\n",
       "      <script>\n",
       "        const buttonEl =\n",
       "          document.querySelector('#df-c9ca736c-dc7d-4bf1-b035-6e54cd1b55d7 button.colab-df-convert');\n",
       "        buttonEl.style.display =\n",
       "          google.colab.kernel.accessAllowed ? 'block' : 'none';\n",
       "\n",
       "        async function convertToInteractive(key) {\n",
       "          const element = document.querySelector('#df-c9ca736c-dc7d-4bf1-b035-6e54cd1b55d7');\n",
       "          const dataTable =\n",
       "            await google.colab.kernel.invokeFunction('convertToInteractive',\n",
       "                                                     [key], {});\n",
       "          if (!dataTable) return;\n",
       "\n",
       "          const docLinkHtml = 'Like what you see? Visit the ' +\n",
       "            '<a target=\"_blank\" href=https://colab.research.google.com/notebooks/data_table.ipynb>data table notebook</a>'\n",
       "            + ' to learn more about interactive tables.';\n",
       "          element.innerHTML = '';\n",
       "          dataTable['output_type'] = 'display_data';\n",
       "          await google.colab.output.renderOutput(dataTable, element);\n",
       "          const docLink = document.createElement('div');\n",
       "          docLink.innerHTML = docLinkHtml;\n",
       "          element.appendChild(docLink);\n",
       "        }\n",
       "      </script>\n",
       "    </div>\n",
       "  </div>\n",
       "  "
      ],
      "text/plain": [
       "       poverty_index       age_hh  ...         park       sports\n",
       "count    9913.000000  9913.000000  ...  9913.000000  9913.000000\n",
       "mean       56.790404    46.200353  ...     2.518121     5.524362\n",
       "std        10.685997    15.285329  ...     1.437306     2.870390\n",
       "min        20.479134    14.000000  ...     0.001000     1.000000\n",
       "25%        49.652241    34.000000  ...     1.278000     3.000000\n",
       "50%        56.414219    45.000000  ...     2.541000     6.000000\n",
       "75%        62.905720    57.000000  ...     3.749000     8.000000\n",
       "max       100.000000    88.000000  ...     5.008000    10.000000\n",
       "\n",
       "[8 rows x 14 columns]"
      ]
     },
     "execution_count": 10,
     "metadata": {},
     "output_type": "execute_result"
    }
   ],
   "source": [
    "X.describe()"
   ]
  },
  {
   "cell_type": "code",
   "execution_count": 11,
   "metadata": {
    "colab": {
     "base_uri": "https://localhost:8080/",
     "height": 300
    },
    "executionInfo": {
     "elapsed": 4,
     "status": "ok",
     "timestamp": 1645204495251,
     "user": {
      "displayName": "Duval Tom",
      "photoUrl": "https://lh3.googleusercontent.com/a-/AOh14Gjt88ZFofxV4HthATzm7S8KXVD8W2ST3QJGw2msTg=s64",
      "userId": "09572485244870456708"
     },
     "user_tz": -60
    },
    "id": "8NZQ69dclQqC",
    "outputId": "b54be3da-667e-4dce-843a-f85388cff158"
   },
   "outputs": [
    {
     "data": {
      "text/html": [
       "\n",
       "  <div id=\"df-0fe59701-eab1-4835-af22-630514235843\">\n",
       "    <div class=\"colab-df-container\">\n",
       "      <div>\n",
       "<style scoped>\n",
       "    .dataframe tbody tr th:only-of-type {\n",
       "        vertical-align: middle;\n",
       "    }\n",
       "\n",
       "    .dataframe tbody tr th {\n",
       "        vertical-align: top;\n",
       "    }\n",
       "\n",
       "    .dataframe thead th {\n",
       "        text-align: right;\n",
       "    }\n",
       "</style>\n",
       "<table border=\"1\" class=\"dataframe\">\n",
       "  <thead>\n",
       "    <tr style=\"text-align: right;\">\n",
       "      <th></th>\n",
       "      <th>health_expenditures</th>\n",
       "    </tr>\n",
       "  </thead>\n",
       "  <tbody>\n",
       "    <tr>\n",
       "      <th>count</th>\n",
       "      <td>9913.000000</td>\n",
       "    </tr>\n",
       "    <tr>\n",
       "      <th>mean</th>\n",
       "      <td>17.210985</td>\n",
       "    </tr>\n",
       "    <tr>\n",
       "      <th>std</th>\n",
       "      <td>5.588098</td>\n",
       "    </tr>\n",
       "    <tr>\n",
       "      <th>min</th>\n",
       "      <td>6.252154</td>\n",
       "    </tr>\n",
       "    <tr>\n",
       "      <th>25%</th>\n",
       "      <td>13.021940</td>\n",
       "    </tr>\n",
       "    <tr>\n",
       "      <th>50%</th>\n",
       "      <td>16.839489</td>\n",
       "    </tr>\n",
       "    <tr>\n",
       "      <th>75%</th>\n",
       "      <td>21.053459</td>\n",
       "    </tr>\n",
       "    <tr>\n",
       "      <th>max</th>\n",
       "      <td>35.626358</td>\n",
       "    </tr>\n",
       "  </tbody>\n",
       "</table>\n",
       "</div>\n",
       "      <button class=\"colab-df-convert\" onclick=\"convertToInteractive('df-0fe59701-eab1-4835-af22-630514235843')\"\n",
       "              title=\"Convert this dataframe to an interactive table.\"\n",
       "              style=\"display:none;\">\n",
       "        \n",
       "  <svg xmlns=\"http://www.w3.org/2000/svg\" height=\"24px\"viewBox=\"0 0 24 24\"\n",
       "       width=\"24px\">\n",
       "    <path d=\"M0 0h24v24H0V0z\" fill=\"none\"/>\n",
       "    <path d=\"M18.56 5.44l.94 2.06.94-2.06 2.06-.94-2.06-.94-.94-2.06-.94 2.06-2.06.94zm-11 1L8.5 8.5l.94-2.06 2.06-.94-2.06-.94L8.5 2.5l-.94 2.06-2.06.94zm10 10l.94 2.06.94-2.06 2.06-.94-2.06-.94-.94-2.06-.94 2.06-2.06.94z\"/><path d=\"M17.41 7.96l-1.37-1.37c-.4-.4-.92-.59-1.43-.59-.52 0-1.04.2-1.43.59L10.3 9.45l-7.72 7.72c-.78.78-.78 2.05 0 2.83L4 21.41c.39.39.9.59 1.41.59.51 0 1.02-.2 1.41-.59l7.78-7.78 2.81-2.81c.8-.78.8-2.07 0-2.86zM5.41 20L4 18.59l7.72-7.72 1.47 1.35L5.41 20z\"/>\n",
       "  </svg>\n",
       "      </button>\n",
       "      \n",
       "  <style>\n",
       "    .colab-df-container {\n",
       "      display:flex;\n",
       "      flex-wrap:wrap;\n",
       "      gap: 12px;\n",
       "    }\n",
       "\n",
       "    .colab-df-convert {\n",
       "      background-color: #E8F0FE;\n",
       "      border: none;\n",
       "      border-radius: 50%;\n",
       "      cursor: pointer;\n",
       "      display: none;\n",
       "      fill: #1967D2;\n",
       "      height: 32px;\n",
       "      padding: 0 0 0 0;\n",
       "      width: 32px;\n",
       "    }\n",
       "\n",
       "    .colab-df-convert:hover {\n",
       "      background-color: #E2EBFA;\n",
       "      box-shadow: 0px 1px 2px rgba(60, 64, 67, 0.3), 0px 1px 3px 1px rgba(60, 64, 67, 0.15);\n",
       "      fill: #174EA6;\n",
       "    }\n",
       "\n",
       "    [theme=dark] .colab-df-convert {\n",
       "      background-color: #3B4455;\n",
       "      fill: #D2E3FC;\n",
       "    }\n",
       "\n",
       "    [theme=dark] .colab-df-convert:hover {\n",
       "      background-color: #434B5C;\n",
       "      box-shadow: 0px 1px 3px 1px rgba(0, 0, 0, 0.15);\n",
       "      filter: drop-shadow(0px 1px 2px rgba(0, 0, 0, 0.3));\n",
       "      fill: #FFFFFF;\n",
       "    }\n",
       "  </style>\n",
       "\n",
       "      <script>\n",
       "        const buttonEl =\n",
       "          document.querySelector('#df-0fe59701-eab1-4835-af22-630514235843 button.colab-df-convert');\n",
       "        buttonEl.style.display =\n",
       "          google.colab.kernel.accessAllowed ? 'block' : 'none';\n",
       "\n",
       "        async function convertToInteractive(key) {\n",
       "          const element = document.querySelector('#df-0fe59701-eab1-4835-af22-630514235843');\n",
       "          const dataTable =\n",
       "            await google.colab.kernel.invokeFunction('convertToInteractive',\n",
       "                                                     [key], {});\n",
       "          if (!dataTable) return;\n",
       "\n",
       "          const docLinkHtml = 'Like what you see? Visit the ' +\n",
       "            '<a target=\"_blank\" href=https://colab.research.google.com/notebooks/data_table.ipynb>data table notebook</a>'\n",
       "            + ' to learn more about interactive tables.';\n",
       "          element.innerHTML = '';\n",
       "          dataTable['output_type'] = 'display_data';\n",
       "          await google.colab.output.renderOutput(dataTable, element);\n",
       "          const docLink = document.createElement('div');\n",
       "          docLink.innerHTML = docLinkHtml;\n",
       "          element.appendChild(docLink);\n",
       "        }\n",
       "      </script>\n",
       "    </div>\n",
       "  </div>\n",
       "  "
      ],
      "text/plain": [
       "       health_expenditures\n",
       "count          9913.000000\n",
       "mean             17.210985\n",
       "std               5.588098\n",
       "min               6.252154\n",
       "25%              13.021940\n",
       "50%              16.839489\n",
       "75%              21.053459\n",
       "max              35.626358"
      ]
     },
     "execution_count": 11,
     "metadata": {},
     "output_type": "execute_result"
    }
   ],
   "source": [
    "y.describe()"
   ]
  },
  {
   "cell_type": "markdown",
   "metadata": {
    "id": "BfXGe3t0uXGN"
   },
   "source": [
    "###We check that there are no unknown variables in the dataset.\n",
    "\n"
   ]
  },
  {
   "cell_type": "code",
   "execution_count": 12,
   "metadata": {
    "colab": {
     "base_uri": "https://localhost:8080/"
    },
    "executionInfo": {
     "elapsed": 3,
     "status": "ok",
     "timestamp": 1645204495713,
     "user": {
      "displayName": "Duval Tom",
      "photoUrl": "https://lh3.googleusercontent.com/a-/AOh14Gjt88ZFofxV4HthATzm7S8KXVD8W2ST3QJGw2msTg=s64",
      "userId": "09572485244870456708"
     },
     "user_tz": -60
    },
    "id": "48DmHeSIGYOO",
    "outputId": "857d65e9-2536-4099-be6a-d339d56652ef"
   },
   "outputs": [
    {
     "data": {
      "text/plain": [
       "poverty_index        0\n",
       "age_hh               0\n",
       "age_sp               0\n",
       "educ_hh              0\n",
       "educ_sp              0\n",
       "female_hh            0\n",
       "indigenous           0\n",
       "hhsize               0\n",
       "dirtfloor            0\n",
       "bathroom             0\n",
       "land                 0\n",
       "hospital_distance    0\n",
       "park                 0\n",
       "sports               0\n",
       "dtype: int64"
      ]
     },
     "execution_count": 12,
     "metadata": {},
     "output_type": "execute_result"
    }
   ],
   "source": [
    "X.isnull().sum()"
   ]
  },
  {
   "cell_type": "markdown",
   "metadata": {
    "id": "AsqAWvlmuqEi"
   },
   "source": [
    "###Copy the data, labels before applying some transformations."
   ]
  },
  {
   "cell_type": "code",
   "execution_count": 13,
   "metadata": {
    "executionInfo": {
     "elapsed": 3,
     "status": "ok",
     "timestamp": 1645204496349,
     "user": {
      "displayName": "Duval Tom",
      "photoUrl": "https://lh3.googleusercontent.com/a-/AOh14Gjt88ZFofxV4HthATzm7S8KXVD8W2ST3QJGw2msTg=s64",
      "userId": "09572485244870456708"
     },
     "user_tz": -60
    },
    "id": "nlvKQklq6n5f"
   },
   "outputs": [],
   "source": [
    "X_copy, y_copy = X.copy(), y.copy()"
   ]
  },
  {
   "cell_type": "markdown",
   "metadata": {
    "id": "XJIaa_aUiOh5"
   },
   "source": [
    "###Observation of the distribution of data for binary variables."
   ]
  },
  {
   "cell_type": "code",
   "execution_count": 14,
   "metadata": {
    "colab": {
     "base_uri": "https://localhost:8080/",
     "height": 312
    },
    "executionInfo": {
     "elapsed": 607,
     "status": "ok",
     "timestamp": 1645204497977,
     "user": {
      "displayName": "Duval Tom",
      "photoUrl": "https://lh3.googleusercontent.com/a-/AOh14Gjt88ZFofxV4HthATzm7S8KXVD8W2ST3QJGw2msTg=s64",
      "userId": "09572485244870456708"
     },
     "user_tz": -60
    },
    "id": "97XWBj7AiNYX",
    "outputId": "307a617d-9408-45fe-dea5-51a2418b29af"
   },
   "outputs": [
    {
     "data": {
      "text/plain": [
       "Text(0, 0.5, 'Frequency')"
      ]
     },
     "execution_count": 14,
     "metadata": {},
     "output_type": "execute_result"
    },
    {
     "data": {
      "image/png": "[encoded data removed]",
      "text/plain": [
       "<Figure size 432x288 with 1 Axes>"
      ]
     },
     "metadata": {
      "needs_background": "light"
     },
     "output_type": "display_data"
    }
   ],
   "source": [
    "labels = ['Man', 'Woman']\n",
    "hh_woman = pd.value_counts(df['female_hh'], sort=True)\n",
    "hh_woman.plot(kind = 'bar', rot=0)\n",
    "plt.title(\"Distribution of HH by gender\")\n",
    "plt.xticks(range(2), labels)\n",
    "plt.xlabel('Sex')\n",
    "plt.ylabel('Frequency')"
   ]
  },
  {
   "cell_type": "code",
   "execution_count": 15,
   "metadata": {
    "colab": {
     "base_uri": "https://localhost:8080/",
     "height": 298
    },
    "executionInfo": {
     "elapsed": 17,
     "status": "ok",
     "timestamp": 1645204497978,
     "user": {
      "displayName": "Duval Tom",
      "photoUrl": "https://lh3.googleusercontent.com/a-/AOh14Gjt88ZFofxV4HthATzm7S8KXVD8W2ST3QJGw2msTg=s64",
      "userId": "09572485244870456708"
     },
     "user_tz": -60
    },
    "id": "pKDxNzNcksFU",
    "outputId": "c2fee22a-3d43-4f95-cbfa-3a12f027bce7"
   },
   "outputs": [
    {
     "data": {
      "text/plain": [
       "Text(0, 0.5, 'Frequency')"
      ]
     },
     "execution_count": 15,
     "metadata": {},
     "output_type": "execute_result"
    },
    {
     "data": {
      "image/png": "[encoded data removed]",
      "text/plain": [
       "<Figure size 432x288 with 1 Axes>"
      ]
     },
     "metadata": {
      "needs_background": "light"
     },
     "output_type": "display_data"
    }
   ],
   "source": [
    "labels = ['Dont Speak', 'Speak']\n",
    "indigenous = pd.value_counts(df['indigenous'], sort=True)\n",
    "indigenous.plot(kind = 'bar', rot=0)\n",
    "plt.title(\"Distribution of HH according to whether or not they speak a indigenous language\")\n",
    "plt.xticks(range(2), labels)\n",
    "plt.ylabel('Frequency')"
   ]
  },
  {
   "cell_type": "code",
   "execution_count": 16,
   "metadata": {
    "colab": {
     "base_uri": "https://localhost:8080/",
     "height": 298
    },
    "executionInfo": {
     "elapsed": 14,
     "status": "ok",
     "timestamp": 1645204497979,
     "user": {
      "displayName": "Duval Tom",
      "photoUrl": "https://lh3.googleusercontent.com/a-/AOh14Gjt88ZFofxV4HthATzm7S8KXVD8W2ST3QJGw2msTg=s64",
      "userId": "09572485244870456708"
     },
     "user_tz": -60
    },
    "id": "No3PHJYRlhHG",
    "outputId": "432afca3-c80b-48ad-f943-407fac11f4a4"
   },
   "outputs": [
    {
     "data": {
      "text/plain": [
       "Text(0, 0.5, 'Frequency')"
      ]
     },
     "execution_count": 16,
     "metadata": {},
     "output_type": "execute_result"
    },
    {
     "data": {
      "image/png": "[encoded data removed]",
      "text/plain": [
       "<Figure size 432x288 with 1 Axes>"
      ]
     },
     "metadata": {
      "needs_background": "light"
     },
     "output_type": "display_data"
    }
   ],
   "source": [
    "labels = ['No', 'Yes']\n",
    "hh_woman = pd.value_counts(df['dirtfloor'], sort=True)\n",
    "hh_woman.plot(kind = 'bar', rot=0)\n",
    "plt.title(\"Distribution of home according to whether or not they have a dirtfloor\")\n",
    "plt.xticks(range(2), labels)\n",
    "plt.ylabel('Frequency')"
   ]
  },
  {
   "cell_type": "code",
   "execution_count": 17,
   "metadata": {
    "colab": {
     "base_uri": "https://localhost:8080/",
     "height": 298
    },
    "executionInfo": {
     "elapsed": 371,
     "status": "ok",
     "timestamp": 1645204498633,
     "user": {
      "displayName": "Duval Tom",
      "photoUrl": "https://lh3.googleusercontent.com/a-/AOh14Gjt88ZFofxV4HthATzm7S8KXVD8W2ST3QJGw2msTg=s64",
      "userId": "09572485244870456708"
     },
     "user_tz": -60
    },
    "id": "Iuk8AFcJl09p",
    "outputId": "70b56d50-8f5b-4ab2-8fd6-8644bb185cc3"
   },
   "outputs": [
    {
     "data": {
      "text/plain": [
       "Text(0, 0.5, 'Frequency')"
      ]
     },
     "execution_count": 17,
     "metadata": {},
     "output_type": "execute_result"
    },
    {
     "data": {
      "image/png": "[encoded data removed]",
      "text/plain": [
       "<Figure size 432x288 with 1 Axes>"
      ]
     },
     "metadata": {
      "needs_background": "light"
     },
     "output_type": "display_data"
    }
   ],
   "source": [
    "labels = ['No', 'Yes']\n",
    "hh_woman = pd.value_counts(df['bathroom'], sort=True)\n",
    "hh_woman.plot(kind = 'bar', rot=0)\n",
    "plt.title(\"Distribution of home according to whether or not they have a bathroom\")\n",
    "plt.xticks(range(2), labels)\n",
    "plt.ylabel('Frequency')"
   ]
  },
  {
   "cell_type": "markdown",
   "metadata": {
    "id": "NnvZ5haNwzhI"
   },
   "source": [
    "## Training of a linear model"
   ]
  },
  {
   "cell_type": "code",
   "execution_count": 18,
   "metadata": {
    "executionInfo": {
     "elapsed": 4,
     "status": "ok",
     "timestamp": 1645204500260,
     "user": {
      "displayName": "Duval Tom",
      "photoUrl": "https://lh3.googleusercontent.com/a-/AOh14Gjt88ZFofxV4HthATzm7S8KXVD8W2ST3QJGw2msTg=s64",
      "userId": "09572485244870456708"
     },
     "user_tz": -60
    },
    "id": "RpahA3bs63Dj"
   },
   "outputs": [],
   "source": [
    "from sklearn.model_selection import train_test_split\n",
    "\n",
    "X_train, X_test, y_train, y_test = train_test_split(X_copy, y_copy, test_size = 0.2)"
   ]
  },
  {
   "cell_type": "markdown",
   "metadata": {
    "id": "7FR36iaTikWG"
   },
   "source": [
    "A recheck plus tard..."
   ]
  },
  {
   "cell_type": "markdown",
   "metadata": {
    "id": "OFmk2D-5wvKv"
   },
   "source": [
    "We will apply two types of transformations \n",
    "\n",
    "*   Standardization for continuous variable\n",
    "*   Binning for ordinal values\n",
    "\n"
   ]
  },
  {
   "cell_type": "code",
   "execution_count": 122,
   "metadata": {
    "executionInfo": {
     "elapsed": 309,
     "status": "ok",
     "timestamp": 1645206536791,
     "user": {
      "displayName": "Duval Tom",
      "photoUrl": "https://lh3.googleusercontent.com/a-/AOh14Gjt88ZFofxV4HthATzm7S8KXVD8W2ST3QJGw2msTg=s64",
      "userId": "09572485244870456708"
     },
     "user_tz": -60
    },
    "id": "lfZm67X-dvOQ"
   },
   "outputs": [],
   "source": [
    "from sklearn.preprocessing import StandardScaler, PolynomialFeatures\n",
    "from sklearn.pipeline import Pipeline\n",
    "from sklearn import linear_model as lm\n",
    "\n",
    "transformations = Pipeline([\n",
    "    ('scaler', StandardScaler()), \n",
    "    ('poly', PolynomialFeatures(4))\n",
    "    ])\n",
    "\n",
    "X_train_prepared = transformations.fit_transform(X_train)\n",
    "X_test_prepared = transformations.transform(X_test)"
   ]
  },
  {
   "cell_type": "code",
   "execution_count": 123,
   "metadata": {
    "executionInfo": {
     "elapsed": 31053,
     "status": "ok",
     "timestamp": 1645206569036,
     "user": {
      "displayName": "Duval Tom",
      "photoUrl": "https://lh3.googleusercontent.com/a-/AOh14Gjt88ZFofxV4HthATzm7S8KXVD8W2ST3QJGw2msTg=s64",
      "userId": "09572485244870456708"
     },
     "user_tz": -60
    },
    "id": "h4bnkGYafT4u"
   },
   "outputs": [],
   "source": [
    "from sklearn import linear_model as lm\n",
    "\n",
    "mod = lm.LinearRegression()\n",
    "mod.fit(X_train_prepared, y_train)\n",
    "train_preds = mod.predict(X_train_prepared)\n",
    "preds = mod.predict(X_test_prepared)"
   ]
  },
  {
   "cell_type": "code",
   "execution_count": 124,
   "metadata": {
    "executionInfo": {
     "elapsed": 6,
     "status": "ok",
     "timestamp": 1645206569037,
     "user": {
      "displayName": "Duval Tom",
      "photoUrl": "https://lh3.googleusercontent.com/a-/AOh14Gjt88ZFofxV4HthATzm7S8KXVD8W2ST3QJGw2msTg=s64",
      "userId": "09572485244870456708"
     },
     "user_tz": -60
    },
    "id": "yvPkFdiehzQs"
   },
   "outputs": [],
   "source": [
    "def RMSE(preds, labels):\n",
    "  return np.sqrt(((preds-labels)**2).mean())"
   ]
  },
  {
   "cell_type": "code",
   "execution_count": 126,
   "metadata": {
    "colab": {
     "base_uri": "https://localhost:8080/"
    },
    "executionInfo": {
     "elapsed": 29,
     "status": "ok",
     "timestamp": 1645206572561,
     "user": {
      "displayName": "Duval Tom",
      "photoUrl": "https://lh3.googleusercontent.com/a-/AOh14Gjt88ZFofxV4HthATzm7S8KXVD8W2ST3QJGw2msTg=s64",
      "userId": "09572485244870456708"
     },
     "user_tz": -60
    },
    "id": "YyZCimvVcU_e",
    "outputId": "85c666af-0647-4cf6-9adf-010dc3a1a33e"
   },
   "outputs": [
    {
     "data": {
      "text/plain": [
       "0.47157735674834733"
      ]
     },
     "execution_count": 126,
     "metadata": {},
     "output_type": "execute_result"
    }
   ],
   "source": [
    "RMSE(train_preds, y_train.to_numpy())"
   ]
  },
  {
   "cell_type": "code",
   "execution_count": 146,
   "metadata": {
    "colab": {
     "base_uri": "https://localhost:8080/"
    },
    "executionInfo": {
     "elapsed": 412,
     "status": "ok",
     "timestamp": 1645206822691,
     "user": {
      "displayName": "Duval Tom",
      "photoUrl": "https://lh3.googleusercontent.com/a-/AOh14Gjt88ZFofxV4HthATzm7S8KXVD8W2ST3QJGw2msTg=s64",
      "userId": "09572485244870456708"
     },
     "user_tz": -60
    },
    "id": "Vkp0u-S363Do",
    "outputId": "e7f736a4-8bc5-4090-a050-808ad3b64271"
   },
   "outputs": [
    {
     "data": {
      "text/plain": [
       "794384449.2676344"
      ]
     },
     "execution_count": 146,
     "metadata": {},
     "output_type": "execute_result"
    }
   ],
   "source": [
    "RMSE(preds, y_test.to_numpy())"
   ]
  },
  {
   "cell_type": "code",
   "execution_count": 147,
   "metadata": {
    "colab": {
     "base_uri": "https://localhost:8080/"
    },
    "executionInfo": {
     "elapsed": 274,
     "status": "ok",
     "timestamp": 1645206827939,
     "user": {
      "displayName": "Duval Tom",
      "photoUrl": "https://lh3.googleusercontent.com/a-/AOh14Gjt88ZFofxV4HthATzm7S8KXVD8W2ST3QJGw2msTg=s64",
      "userId": "09572485244870456708"
     },
     "user_tz": -60
    },
    "id": "v0kLwbpQtoZv",
    "outputId": "14caf7c9-0ed2-4803-f232-5ff4e2dd0294"
   },
   "outputs": [
    {
     "data": {
      "text/plain": [
       "(1, 3060)"
      ]
     },
     "execution_count": 147,
     "metadata": {},
     "output_type": "execute_result"
    }
   ],
   "source": [
    "mod.coef_.shape"
   ]
  },
  {
   "cell_type": "code",
   "execution_count": 148,
   "metadata": {
    "colab": {
     "base_uri": "https://localhost:8080/"
    },
    "executionInfo": {
     "elapsed": 2,
     "status": "ok",
     "timestamp": 1645206828357,
     "user": {
      "displayName": "Duval Tom",
      "photoUrl": "https://lh3.googleusercontent.com/a-/AOh14Gjt88ZFofxV4HthATzm7S8KXVD8W2ST3QJGw2msTg=s64",
      "userId": "09572485244870456708"
     },
     "user_tz": -60
    },
    "id": "DiyS4HMJtsGz",
    "outputId": "24ec98fe-10cf-42fd-dd09-3c895487d6fb"
   },
   "outputs": [
    {
     "data": {
      "text/plain": [
       "array([1.09122329e+11])"
      ]
     },
     "execution_count": 148,
     "metadata": {},
     "output_type": "execute_result"
    }
   ],
   "source": [
    "mod.intercept_"
   ]
  },
  {
   "cell_type": "markdown",
   "metadata": {
    "id": "CMreVbC5rfx-"
   },
   "source": [
    "To avoid overfitting without using the test set we can regularise our model in such a way as to make it more generalizable to new data."
   ]
  },
  {
   "cell_type": "code",
   "execution_count": 149,
   "metadata": {
    "executionInfo": {
     "elapsed": 3602,
     "status": "ok",
     "timestamp": 1645206840108,
     "user": {
      "displayName": "Duval Tom",
      "photoUrl": "https://lh3.googleusercontent.com/a-/AOh14Gjt88ZFofxV4HthATzm7S8KXVD8W2ST3QJGw2msTg=s64",
      "userId": "09572485244870456708"
     },
     "user_tz": -60
    },
    "id": "vgjgZyvsinln"
   },
   "outputs": [],
   "source": [
    "reg = lm.Ridge(alpha=1)\n",
    "reg.fit(X_train_prepared, y_train)\n",
    "train_preds_reg = reg.predict(X_train_prepared)\n",
    "test_preds_reg = reg.predict(X_test_prepared)"
   ]
  },
  {
   "cell_type": "code",
   "execution_count": 150,
   "metadata": {
    "colab": {
     "base_uri": "https://localhost:8080/"
    },
    "executionInfo": {
     "elapsed": 12,
     "status": "ok",
     "timestamp": 1645206840109,
     "user": {
      "displayName": "Duval Tom",
      "photoUrl": "https://lh3.googleusercontent.com/a-/AOh14Gjt88ZFofxV4HthATzm7S8KXVD8W2ST3QJGw2msTg=s64",
      "userId": "09572485244870456708"
     },
     "user_tz": -60
    },
    "id": "FCDixFg4xs98",
    "outputId": "9e546923-3564-4446-8aa7-d9b7d132408c"
   },
   "outputs": [
    {
     "data": {
      "text/plain": [
       "0.47158862015350433"
      ]
     },
     "execution_count": 150,
     "metadata": {},
     "output_type": "execute_result"
    }
   ],
   "source": [
    "RMSE(train_preds_reg, y_train.to_numpy())"
   ]
  },
  {
   "cell_type": "code",
   "execution_count": 151,
   "metadata": {
    "colab": {
     "base_uri": "https://localhost:8080/"
    },
    "executionInfo": {
     "elapsed": 10,
     "status": "ok",
     "timestamp": 1645206840109,
     "user": {
      "displayName": "Duval Tom",
      "photoUrl": "https://lh3.googleusercontent.com/a-/AOh14Gjt88ZFofxV4HthATzm7S8KXVD8W2ST3QJGw2msTg=s64",
      "userId": "09572485244870456708"
     },
     "user_tz": -60
    },
    "id": "0kQdvNcEss6t",
    "outputId": "62c9a10d-48dd-4bbb-995d-5c15330def45"
   },
   "outputs": [
    {
     "data": {
      "text/plain": [
       "1.1416398893748785"
      ]
     },
     "execution_count": 151,
     "metadata": {},
     "output_type": "execute_result"
    }
   ],
   "source": [
    "RMSE(test_preds_reg, y_test.to_numpy())"
   ]
  },
  {
   "cell_type": "code",
   "execution_count": 152,
   "metadata": {
    "colab": {
     "base_uri": "https://localhost:8080/"
    },
    "executionInfo": {
     "elapsed": 8,
     "status": "ok",
     "timestamp": 1645206840109,
     "user": {
      "displayName": "Duval Tom",
      "photoUrl": "https://lh3.googleusercontent.com/a-/AOh14Gjt88ZFofxV4HthATzm7S8KXVD8W2ST3QJGw2msTg=s64",
      "userId": "09572485244870456708"
     },
     "user_tz": -60
    },
    "id": "uvg1t4eLs9Ua",
    "outputId": "e88cd779-af83-42a7-9e4c-69409a250985"
   },
   "outputs": [
    {
     "data": {
      "text/plain": [
       "array([[ 0.        ,  0.17429636,  0.30114318, ...,  0.00838189,\n",
       "         0.0048067 , -0.01420359]])"
      ]
     },
     "execution_count": 152,
     "metadata": {},
     "output_type": "execute_result"
    }
   ],
   "source": [
    "reg.coef_"
   ]
  },
  {
   "cell_type": "code",
   "execution_count": 153,
   "metadata": {
    "colab": {
     "base_uri": "https://localhost:8080/"
    },
    "executionInfo": {
     "elapsed": 7,
     "status": "ok",
     "timestamp": 1645206840110,
     "user": {
      "displayName": "Duval Tom",
      "photoUrl": "https://lh3.googleusercontent.com/a-/AOh14Gjt88ZFofxV4HthATzm7S8KXVD8W2ST3QJGw2msTg=s64",
      "userId": "09572485244870456708"
     },
     "user_tz": -60
    },
    "id": "hcJGsjwNtQgY",
    "outputId": "9074750c-47c2-4457-9fa4-0f7da0b5cc93"
   },
   "outputs": [
    {
     "data": {
      "text/plain": [
       "array([18.22158248])"
      ]
     },
     "execution_count": 153,
     "metadata": {},
     "output_type": "execute_result"
    }
   ],
   "source": [
    "reg.intercept_"
   ]
  },
  {
   "cell_type": "markdown",
   "metadata": {
    "id": "8TjHxW3_hPAp"
   },
   "source": [
    "Here, we check how much each attributes correlates with the **healt expenditures** variable to analyse the importance of the variables on the target one."
   ]
  },
  {
   "cell_type": "code",
   "execution_count": 96,
   "metadata": {
    "colab": {
     "base_uri": "https://localhost:8080/"
    },
    "executionInfo": {
     "elapsed": 288,
     "status": "ok",
     "timestamp": 1645206241245,
     "user": {
      "displayName": "Duval Tom",
      "photoUrl": "https://lh3.googleusercontent.com/a-/AOh14Gjt88ZFofxV4HthATzm7S8KXVD8W2ST3QJGw2msTg=s64",
      "userId": "09572485244870456708"
     },
     "user_tz": -60
    },
    "id": "16xXtgmihMLG",
    "outputId": "43f11c2d-5dc6-461b-cae1-b7673284eac0"
   },
   "outputs": [
    {
     "data": {
      "text/plain": [
       "health_expenditures    1.000000\n",
       "poverty_index          0.559055\n",
       "age_hh                 0.379201\n",
       "female_hh              0.279530\n",
       "age_sp                 0.278128\n",
       "land                   0.120880\n",
       "bathroom               0.040592\n",
       "sports                -0.001626\n",
       "park                  -0.008692\n",
       "educ_sp               -0.031894\n",
       "educ_hh               -0.054454\n",
       "hospital_distance     -0.072443\n",
       "indigenous            -0.301266\n",
       "dirtfloor             -0.306881\n",
       "hhsize                -0.831935\n",
       "Name: health_expenditures, dtype: float64"
      ]
     },
     "execution_count": 96,
     "metadata": {},
     "output_type": "execute_result"
    }
   ],
   "source": [
    "check_corr = df[['poverty_index', 'age_hh', 'age_sp', 'educ_hh', 'educ_sp', 'female_hh', 'indigenous', 'hhsize', 'dirtfloor', 'bathroom', 'land', 'hospital_distance', 'park', 'sports', 'health_expenditures']]\n",
    "corr_matrix = check_corr.corr()\n",
    "corr_matrix['health_expenditures'].sort_values(ascending=False)"
   ]
  },
  {
   "cell_type": "markdown",
   "metadata": {
    "id": "Jlk_R1j1nBEd"
   },
   "source": [
    "## 2ème partie : Training and performances of a random forest regressor "
   ]
  },
  {
   "cell_type": "markdown",
   "metadata": {
    "id": "HdYWabhu-LnU"
   },
   "source": [
    "!!!Here do same transformations than for the linear model!!!"
   ]
  },
  {
   "cell_type": "markdown",
   "metadata": {
    "id": "D86FRWawpk2p"
   },
   "source": [
    "To find the best set of hyperparameters for our model we consider of Grid Search approach on two parameters : \n",
    "\n",
    "*   n_estimators : which corresponds to the number of trees in the forest\n",
    "*   max_depth : wich corresponds to the maximum depth of the tree\n",
    "\n"
   ]
  },
  {
   "cell_type": "code",
   "execution_count": null,
   "metadata": {
    "colab": {
     "base_uri": "https://localhost:8080/"
    },
    "executionInfo": {
     "elapsed": 124315,
     "status": "ok",
     "timestamp": 1645201962251,
     "user": {
      "displayName": "Duval Tom",
      "photoUrl": "https://lh3.googleusercontent.com/a-/AOh14Gjt88ZFofxV4HthATzm7S8KXVD8W2ST3QJGw2msTg=s64",
      "userId": "09572485244870456708"
     },
     "user_tz": -60
    },
    "id": "1xKF1SC-DmVo",
    "outputId": "4a940fe0-5fc6-4590-f71e-723b9555c6b1"
   },
   "outputs": [
    {
     "name": "stderr",
     "output_type": "stream",
     "text": [
      "/usr/local/lib/python3.7/dist-packages/sklearn/model_selection/_validation.py:680: DataConversionWarning: A column-vector y was passed when a 1d array was expected. Please change the shape of y to (n_samples,), for example using ravel().\n",
      "  estimator.fit(X_train, y_train, **fit_params)\n",
      "/usr/local/lib/python3.7/dist-packages/sklearn/model_selection/_validation.py:680: DataConversionWarning: A column-vector y was passed when a 1d array was expected. Please change the shape of y to (n_samples,), for example using ravel().\n",
      "  estimator.fit(X_train, y_train, **fit_params)\n",
      "/usr/local/lib/python3.7/dist-packages/sklearn/model_selection/_validation.py:680: DataConversionWarning: A column-vector y was passed when a 1d array was expected. Please change the shape of y to (n_samples,), for example using ravel().\n",
      "  estimator.fit(X_train, y_train, **fit_params)\n",
      "/usr/local/lib/python3.7/dist-packages/sklearn/model_selection/_validation.py:680: DataConversionWarning: A column-vector y was passed when a 1d array was expected. Please change the shape of y to (n_samples,), for example using ravel().\n",
      "  estimator.fit(X_train, y_train, **fit_params)\n",
      "/usr/local/lib/python3.7/dist-packages/sklearn/model_selection/_validation.py:680: DataConversionWarning: A column-vector y was passed when a 1d array was expected. Please change the shape of y to (n_samples,), for example using ravel().\n",
      "  estimator.fit(X_train, y_train, **fit_params)\n",
      "/usr/local/lib/python3.7/dist-packages/sklearn/model_selection/_validation.py:680: DataConversionWarning: A column-vector y was passed when a 1d array was expected. Please change the shape of y to (n_samples,), for example using ravel().\n",
      "  estimator.fit(X_train, y_train, **fit_params)\n",
      "/usr/local/lib/python3.7/dist-packages/sklearn/model_selection/_validation.py:680: DataConversionWarning: A column-vector y was passed when a 1d array was expected. Please change the shape of y to (n_samples,), for example using ravel().\n",
      "  estimator.fit(X_train, y_train, **fit_params)\n",
      "/usr/local/lib/python3.7/dist-packages/sklearn/model_selection/_validation.py:680: DataConversionWarning: A column-vector y was passed when a 1d array was expected. Please change the shape of y to (n_samples,), for example using ravel().\n",
      "  estimator.fit(X_train, y_train, **fit_params)\n",
      "/usr/local/lib/python3.7/dist-packages/sklearn/model_selection/_validation.py:680: DataConversionWarning: A column-vector y was passed when a 1d array was expected. Please change the shape of y to (n_samples,), for example using ravel().\n",
      "  estimator.fit(X_train, y_train, **fit_params)\n",
      "/usr/local/lib/python3.7/dist-packages/sklearn/model_selection/_validation.py:680: DataConversionWarning: A column-vector y was passed when a 1d array was expected. Please change the shape of y to (n_samples,), for example using ravel().\n",
      "  estimator.fit(X_train, y_train, **fit_params)\n",
      "/usr/local/lib/python3.7/dist-packages/sklearn/model_selection/_validation.py:680: DataConversionWarning: A column-vector y was passed when a 1d array was expected. Please change the shape of y to (n_samples,), for example using ravel().\n",
      "  estimator.fit(X_train, y_train, **fit_params)\n",
      "/usr/local/lib/python3.7/dist-packages/sklearn/model_selection/_validation.py:680: DataConversionWarning: A column-vector y was passed when a 1d array was expected. Please change the shape of y to (n_samples,), for example using ravel().\n",
      "  estimator.fit(X_train, y_train, **fit_params)\n",
      "/usr/local/lib/python3.7/dist-packages/sklearn/model_selection/_validation.py:680: DataConversionWarning: A column-vector y was passed when a 1d array was expected. Please change the shape of y to (n_samples,), for example using ravel().\n",
      "  estimator.fit(X_train, y_train, **fit_params)\n",
      "/usr/local/lib/python3.7/dist-packages/sklearn/model_selection/_validation.py:680: DataConversionWarning: A column-vector y was passed when a 1d array was expected. Please change the shape of y to (n_samples,), for example using ravel().\n",
      "  estimator.fit(X_train, y_train, **fit_params)\n",
      "/usr/local/lib/python3.7/dist-packages/sklearn/model_selection/_validation.py:680: DataConversionWarning: A column-vector y was passed when a 1d array was expected. Please change the shape of y to (n_samples,), for example using ravel().\n",
      "  estimator.fit(X_train, y_train, **fit_params)\n",
      "/usr/local/lib/python3.7/dist-packages/sklearn/model_selection/_validation.py:680: DataConversionWarning: A column-vector y was passed when a 1d array was expected. Please change the shape of y to (n_samples,), for example using ravel().\n",
      "  estimator.fit(X_train, y_train, **fit_params)\n",
      "/usr/local/lib/python3.7/dist-packages/sklearn/model_selection/_validation.py:680: DataConversionWarning: A column-vector y was passed when a 1d array was expected. Please change the shape of y to (n_samples,), for example using ravel().\n",
      "  estimator.fit(X_train, y_train, **fit_params)\n",
      "/usr/local/lib/python3.7/dist-packages/sklearn/model_selection/_validation.py:680: DataConversionWarning: A column-vector y was passed when a 1d array was expected. Please change the shape of y to (n_samples,), for example using ravel().\n",
      "  estimator.fit(X_train, y_train, **fit_params)\n",
      "/usr/local/lib/python3.7/dist-packages/sklearn/model_selection/_validation.py:680: DataConversionWarning: A column-vector y was passed when a 1d array was expected. Please change the shape of y to (n_samples,), for example using ravel().\n",
      "  estimator.fit(X_train, y_train, **fit_params)\n",
      "/usr/local/lib/python3.7/dist-packages/sklearn/model_selection/_validation.py:680: DataConversionWarning: A column-vector y was passed when a 1d array was expected. Please change the shape of y to (n_samples,), for example using ravel().\n",
      "  estimator.fit(X_train, y_train, **fit_params)\n",
      "/usr/local/lib/python3.7/dist-packages/sklearn/model_selection/_validation.py:680: DataConversionWarning: A column-vector y was passed when a 1d array was expected. Please change the shape of y to (n_samples,), for example using ravel().\n",
      "  estimator.fit(X_train, y_train, **fit_params)\n",
      "/usr/local/lib/python3.7/dist-packages/sklearn/model_selection/_validation.py:680: DataConversionWarning: A column-vector y was passed when a 1d array was expected. Please change the shape of y to (n_samples,), for example using ravel().\n",
      "  estimator.fit(X_train, y_train, **fit_params)\n",
      "/usr/local/lib/python3.7/dist-packages/sklearn/model_selection/_validation.py:680: DataConversionWarning: A column-vector y was passed when a 1d array was expected. Please change the shape of y to (n_samples,), for example using ravel().\n",
      "  estimator.fit(X_train, y_train, **fit_params)\n",
      "/usr/local/lib/python3.7/dist-packages/sklearn/model_selection/_validation.py:680: DataConversionWarning: A column-vector y was passed when a 1d array was expected. Please change the shape of y to (n_samples,), for example using ravel().\n",
      "  estimator.fit(X_train, y_train, **fit_params)\n",
      "/usr/local/lib/python3.7/dist-packages/sklearn/model_selection/_validation.py:680: DataConversionWarning: A column-vector y was passed when a 1d array was expected. Please change the shape of y to (n_samples,), for example using ravel().\n",
      "  estimator.fit(X_train, y_train, **fit_params)\n",
      "/usr/local/lib/python3.7/dist-packages/sklearn/model_selection/_validation.py:680: DataConversionWarning: A column-vector y was passed when a 1d array was expected. Please change the shape of y to (n_samples,), for example using ravel().\n",
      "  estimator.fit(X_train, y_train, **fit_params)\n",
      "/usr/local/lib/python3.7/dist-packages/sklearn/model_selection/_validation.py:680: DataConversionWarning: A column-vector y was passed when a 1d array was expected. Please change the shape of y to (n_samples,), for example using ravel().\n",
      "  estimator.fit(X_train, y_train, **fit_params)\n",
      "/usr/local/lib/python3.7/dist-packages/sklearn/model_selection/_validation.py:680: DataConversionWarning: A column-vector y was passed when a 1d array was expected. Please change the shape of y to (n_samples,), for example using ravel().\n",
      "  estimator.fit(X_train, y_train, **fit_params)\n",
      "/usr/local/lib/python3.7/dist-packages/sklearn/model_selection/_validation.py:680: DataConversionWarning: A column-vector y was passed when a 1d array was expected. Please change the shape of y to (n_samples,), for example using ravel().\n",
      "  estimator.fit(X_train, y_train, **fit_params)\n",
      "/usr/local/lib/python3.7/dist-packages/sklearn/model_selection/_validation.py:680: DataConversionWarning: A column-vector y was passed when a 1d array was expected. Please change the shape of y to (n_samples,), for example using ravel().\n",
      "  estimator.fit(X_train, y_train, **fit_params)\n",
      "/usr/local/lib/python3.7/dist-packages/sklearn/model_selection/_validation.py:680: DataConversionWarning: A column-vector y was passed when a 1d array was expected. Please change the shape of y to (n_samples,), for example using ravel().\n",
      "  estimator.fit(X_train, y_train, **fit_params)\n",
      "/usr/local/lib/python3.7/dist-packages/sklearn/model_selection/_validation.py:680: DataConversionWarning: A column-vector y was passed when a 1d array was expected. Please change the shape of y to (n_samples,), for example using ravel().\n",
      "  estimator.fit(X_train, y_train, **fit_params)\n",
      "/usr/local/lib/python3.7/dist-packages/sklearn/model_selection/_validation.py:680: DataConversionWarning: A column-vector y was passed when a 1d array was expected. Please change the shape of y to (n_samples,), for example using ravel().\n",
      "  estimator.fit(X_train, y_train, **fit_params)\n",
      "/usr/local/lib/python3.7/dist-packages/sklearn/model_selection/_validation.py:680: DataConversionWarning: A column-vector y was passed when a 1d array was expected. Please change the shape of y to (n_samples,), for example using ravel().\n",
      "  estimator.fit(X_train, y_train, **fit_params)\n",
      "/usr/local/lib/python3.7/dist-packages/sklearn/model_selection/_validation.py:680: DataConversionWarning: A column-vector y was passed when a 1d array was expected. Please change the shape of y to (n_samples,), for example using ravel().\n",
      "  estimator.fit(X_train, y_train, **fit_params)\n",
      "/usr/local/lib/python3.7/dist-packages/sklearn/model_selection/_validation.py:680: DataConversionWarning: A column-vector y was passed when a 1d array was expected. Please change the shape of y to (n_samples,), for example using ravel().\n",
      "  estimator.fit(X_train, y_train, **fit_params)\n",
      "/usr/local/lib/python3.7/dist-packages/sklearn/model_selection/_validation.py:680: DataConversionWarning: A column-vector y was passed when a 1d array was expected. Please change the shape of y to (n_samples,), for example using ravel().\n",
      "  estimator.fit(X_train, y_train, **fit_params)\n",
      "/usr/local/lib/python3.7/dist-packages/sklearn/model_selection/_validation.py:680: DataConversionWarning: A column-vector y was passed when a 1d array was expected. Please change the shape of y to (n_samples,), for example using ravel().\n",
      "  estimator.fit(X_train, y_train, **fit_params)\n",
      "/usr/local/lib/python3.7/dist-packages/sklearn/model_selection/_validation.py:680: DataConversionWarning: A column-vector y was passed when a 1d array was expected. Please change the shape of y to (n_samples,), for example using ravel().\n",
      "  estimator.fit(X_train, y_train, **fit_params)\n",
      "/usr/local/lib/python3.7/dist-packages/sklearn/model_selection/_validation.py:680: DataConversionWarning: A column-vector y was passed when a 1d array was expected. Please change the shape of y to (n_samples,), for example using ravel().\n",
      "  estimator.fit(X_train, y_train, **fit_params)\n",
      "/usr/local/lib/python3.7/dist-packages/sklearn/model_selection/_validation.py:680: DataConversionWarning: A column-vector y was passed when a 1d array was expected. Please change the shape of y to (n_samples,), for example using ravel().\n",
      "  estimator.fit(X_train, y_train, **fit_params)\n",
      "/usr/local/lib/python3.7/dist-packages/sklearn/model_selection/_validation.py:680: DataConversionWarning: A column-vector y was passed when a 1d array was expected. Please change the shape of y to (n_samples,), for example using ravel().\n",
      "  estimator.fit(X_train, y_train, **fit_params)\n",
      "/usr/local/lib/python3.7/dist-packages/sklearn/model_selection/_validation.py:680: DataConversionWarning: A column-vector y was passed when a 1d array was expected. Please change the shape of y to (n_samples,), for example using ravel().\n",
      "  estimator.fit(X_train, y_train, **fit_params)\n",
      "/usr/local/lib/python3.7/dist-packages/sklearn/model_selection/_validation.py:680: DataConversionWarning: A column-vector y was passed when a 1d array was expected. Please change the shape of y to (n_samples,), for example using ravel().\n",
      "  estimator.fit(X_train, y_train, **fit_params)\n",
      "/usr/local/lib/python3.7/dist-packages/sklearn/model_selection/_validation.py:680: DataConversionWarning: A column-vector y was passed when a 1d array was expected. Please change the shape of y to (n_samples,), for example using ravel().\n",
      "  estimator.fit(X_train, y_train, **fit_params)\n",
      "/usr/local/lib/python3.7/dist-packages/sklearn/model_selection/_validation.py:680: DataConversionWarning: A column-vector y was passed when a 1d array was expected. Please change the shape of y to (n_samples,), for example using ravel().\n",
      "  estimator.fit(X_train, y_train, **fit_params)\n",
      "/usr/local/lib/python3.7/dist-packages/sklearn/model_selection/_validation.py:680: DataConversionWarning: A column-vector y was passed when a 1d array was expected. Please change the shape of y to (n_samples,), for example using ravel().\n",
      "  estimator.fit(X_train, y_train, **fit_params)\n",
      "/usr/local/lib/python3.7/dist-packages/sklearn/model_selection/_validation.py:680: DataConversionWarning: A column-vector y was passed when a 1d array was expected. Please change the shape of y to (n_samples,), for example using ravel().\n",
      "  estimator.fit(X_train, y_train, **fit_params)\n",
      "/usr/local/lib/python3.7/dist-packages/sklearn/model_selection/_validation.py:680: DataConversionWarning: A column-vector y was passed when a 1d array was expected. Please change the shape of y to (n_samples,), for example using ravel().\n",
      "  estimator.fit(X_train, y_train, **fit_params)\n",
      "/usr/local/lib/python3.7/dist-packages/sklearn/model_selection/_validation.py:680: DataConversionWarning: A column-vector y was passed when a 1d array was expected. Please change the shape of y to (n_samples,), for example using ravel().\n",
      "  estimator.fit(X_train, y_train, **fit_params)\n",
      "/usr/local/lib/python3.7/dist-packages/sklearn/model_selection/_validation.py:680: DataConversionWarning: A column-vector y was passed when a 1d array was expected. Please change the shape of y to (n_samples,), for example using ravel().\n",
      "  estimator.fit(X_train, y_train, **fit_params)\n",
      "/usr/local/lib/python3.7/dist-packages/sklearn/model_selection/_validation.py:680: DataConversionWarning: A column-vector y was passed when a 1d array was expected. Please change the shape of y to (n_samples,), for example using ravel().\n",
      "  estimator.fit(X_train, y_train, **fit_params)\n",
      "/usr/local/lib/python3.7/dist-packages/sklearn/model_selection/_validation.py:680: DataConversionWarning: A column-vector y was passed when a 1d array was expected. Please change the shape of y to (n_samples,), for example using ravel().\n",
      "  estimator.fit(X_train, y_train, **fit_params)\n",
      "/usr/local/lib/python3.7/dist-packages/sklearn/model_selection/_validation.py:680: DataConversionWarning: A column-vector y was passed when a 1d array was expected. Please change the shape of y to (n_samples,), for example using ravel().\n",
      "  estimator.fit(X_train, y_train, **fit_params)\n",
      "/usr/local/lib/python3.7/dist-packages/sklearn/model_selection/_validation.py:680: DataConversionWarning: A column-vector y was passed when a 1d array was expected. Please change the shape of y to (n_samples,), for example using ravel().\n",
      "  estimator.fit(X_train, y_train, **fit_params)\n",
      "/usr/local/lib/python3.7/dist-packages/sklearn/model_selection/_validation.py:680: DataConversionWarning: A column-vector y was passed when a 1d array was expected. Please change the shape of y to (n_samples,), for example using ravel().\n",
      "  estimator.fit(X_train, y_train, **fit_params)\n",
      "/usr/local/lib/python3.7/dist-packages/sklearn/model_selection/_validation.py:680: DataConversionWarning: A column-vector y was passed when a 1d array was expected. Please change the shape of y to (n_samples,), for example using ravel().\n",
      "  estimator.fit(X_train, y_train, **fit_params)\n",
      "/usr/local/lib/python3.7/dist-packages/sklearn/model_selection/_validation.py:680: DataConversionWarning: A column-vector y was passed when a 1d array was expected. Please change the shape of y to (n_samples,), for example using ravel().\n",
      "  estimator.fit(X_train, y_train, **fit_params)\n",
      "/usr/local/lib/python3.7/dist-packages/sklearn/model_selection/_validation.py:680: DataConversionWarning: A column-vector y was passed when a 1d array was expected. Please change the shape of y to (n_samples,), for example using ravel().\n",
      "  estimator.fit(X_train, y_train, **fit_params)\n",
      "/usr/local/lib/python3.7/dist-packages/sklearn/model_selection/_validation.py:680: DataConversionWarning: A column-vector y was passed when a 1d array was expected. Please change the shape of y to (n_samples,), for example using ravel().\n",
      "  estimator.fit(X_train, y_train, **fit_params)\n",
      "/usr/local/lib/python3.7/dist-packages/sklearn/model_selection/_search.py:926: DataConversionWarning: A column-vector y was passed when a 1d array was expected. Please change the shape of y to (n_samples,), for example using ravel().\n",
      "  self.best_estimator_.fit(X, y, **fit_params)\n"
     ]
    },
    {
     "data": {
      "text/plain": [
       "GridSearchCV(estimator=RandomForestRegressor(),\n",
       "             param_grid={'max_depth': [3, 4, 5],\n",
       "                         'n_estimators': [100, 125, 150, 200]})"
      ]
     },
     "execution_count": 52,
     "metadata": {},
     "output_type": "execute_result"
    }
   ],
   "source": [
    "from sklearn.ensemble import RandomForestRegressor\n",
    "from sklearn.model_selection import GridSearchCV\n",
    "\n",
    "parameters = {'n_estimators': [100, 125, 150, 200],\n",
    "              'max_depth':[None,3,4,5]}\n",
    "\n",
    "rf_regressor = RandomForestRegressor()\n",
    "clf = GridSearchCV(rf_regressor, parameters)\n",
    "clf.fit(X_train_prepared, y_train)"
   ]
  },
  {
   "cell_type": "code",
   "execution_count": null,
   "metadata": {
    "colab": {
     "base_uri": "https://localhost:8080/"
    },
    "executionInfo": {
     "elapsed": 328,
     "status": "ok",
     "timestamp": 1645201975269,
     "user": {
      "displayName": "Duval Tom",
      "photoUrl": "https://lh3.googleusercontent.com/a-/AOh14Gjt88ZFofxV4HthATzm7S8KXVD8W2ST3QJGw2msTg=s64",
      "userId": "09572485244870456708"
     },
     "user_tz": -60
    },
    "id": "rSHf313bpcoR",
    "outputId": "9e8d5689-0e59-40fd-d6b4-73eace83e2b0"
   },
   "outputs": [
    {
     "data": {
      "text/plain": [
       "{'max_depth': 5, 'n_estimators': 125}"
      ]
     },
     "execution_count": 53,
     "metadata": {},
     "output_type": "execute_result"
    }
   ],
   "source": [
    "clf.best_params_"
   ]
  },
  {
   "cell_type": "code",
   "execution_count": null,
   "metadata": {
    "colab": {
     "base_uri": "https://localhost:8080/"
    },
    "executionInfo": {
     "elapsed": 3383,
     "status": "ok",
     "timestamp": 1645202041636,
     "user": {
      "displayName": "Duval Tom",
      "photoUrl": "https://lh3.googleusercontent.com/a-/AOh14Gjt88ZFofxV4HthATzm7S8KXVD8W2ST3QJGw2msTg=s64",
      "userId": "09572485244870456708"
     },
     "user_tz": -60
    },
    "id": "sAfNP5JOqcQO",
    "outputId": "51eb2180-ed8f-4e05-a11f-dff72d533d6c"
   },
   "outputs": [
    {
     "name": "stderr",
     "output_type": "stream",
     "text": [
      "/usr/local/lib/python3.7/dist-packages/ipykernel_launcher.py:2: DataConversionWarning: A column-vector y was passed when a 1d array was expected. Please change the shape of y to (n_samples,), for example using ravel().\n",
      "  \n"
     ]
    }
   ],
   "source": [
    "best_reg = RandomForestRegressor(max_depth=5, n_estimators=125)\n",
    "best_reg.fit(X_train_prepared, y_train)\n",
    "rg_preds = best_reg.predict(X_train_prepared)"
   ]
  },
  {
   "cell_type": "code",
   "execution_count": null,
   "metadata": {
    "colab": {
     "base_uri": "https://localhost:8080/"
    },
    "executionInfo": {
     "elapsed": 1708,
     "status": "ok",
     "timestamp": 1645202075491,
     "user": {
      "displayName": "Duval Tom",
      "photoUrl": "https://lh3.googleusercontent.com/a-/AOh14Gjt88ZFofxV4HthATzm7S8KXVD8W2ST3QJGw2msTg=s64",
      "userId": "09572485244870456708"
     },
     "user_tz": -60
    },
    "id": "11jCvljtrki2",
    "outputId": "c0d23760-d20f-4b9b-a34a-8cd7b8f2c6bf"
   },
   "outputs": [
    {
     "data": {
      "text/plain": [
       "7.657385338613319"
      ]
     },
     "execution_count": 58,
     "metadata": {},
     "output_type": "execute_result"
    }
   ],
   "source": [
    "RMSE(rg_preds,y_train.to_numpy())"
   ]
  },
  {
   "cell_type": "markdown",
   "metadata": {
    "id": "WnPMH-lHsFQX"
   },
   "source": [
    "plot training/val curves"
   ]
  },
  {
   "cell_type": "code",
   "execution_count": null,
   "metadata": {
    "id": "8Kayb6wfrz3d"
   },
   "outputs": [],
   "source": []
  }
 ],
 "metadata": {
  "colab": {
   "collapsed_sections": [],
   "name": "Final_DSpart.ipynb",
   "provenance": []
  },
  "interpreter": {
   "hash": "aee8b7b246df8f9039afb4144a1f6fd8d2ca17a180786b69acc140d282b71a49"
  },
  "kernelspec": {
   "display_name": "Python 3 (ipykernel)",
   "language": "python",
   "name": "python3"
  },
  "language_info": {
   "codemirror_mode": {
    "name": "ipython",
    "version": 3
   },
   "file_extension": ".py",
   "mimetype": "text/x-python",
   "name": "python",
   "nbconvert_exporter": "python",
   "pygments_lexer": "ipython3",
   "version": "3.9.10"
  }
 },
 "nbformat": 4,
 "nbformat_minor": 1
}
