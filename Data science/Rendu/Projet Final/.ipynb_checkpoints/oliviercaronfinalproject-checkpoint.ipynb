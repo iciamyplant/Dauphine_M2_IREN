{
 "cells": [
  {
   "cell_type": "code",
   "execution_count": 1,
   "metadata": {
    "executionInfo": {
     "elapsed": 12,
     "status": "ok",
     "timestamp": 1645204491492,
     "user": {
      "displayName": "Duval Tom",
      "photoUrl": "https://lh3.googleusercontent.com/a-/AOh14Gjt88ZFofxV4HthATzm7S8KXVD8W2ST3QJGw2msTg=s64",
      "userId": "09572485244870456708"
     },
     "user_tz": -60
    },
    "id": "g5YKVZCzStCP"
   },
   "outputs": [],
   "source": [
    "import pandas as pd \n",
    "import numpy as np\n",
    "import matplotlib.pyplot as plt"
   ]
  },
  {
   "cell_type": "code",
   "execution_count": 2,
   "metadata": {
    "executionInfo": {
     "elapsed": 3,
     "status": "ok",
     "timestamp": 1645204491878,
     "user": {
      "displayName": "Duval Tom",
      "photoUrl": "https://lh3.googleusercontent.com/a-/AOh14Gjt88ZFofxV4HthATzm7S8KXVD8W2ST3QJGw2msTg=s64",
      "userId": "09572485244870456708"
     },
     "user_tz": -60
    },
    "id": "SzWYvZkPStCS"
   },
   "outputs": [],
   "source": [
    "df = pd.read_csv('HISP.csv')\n",
    "df = df[(df['round'] == 'Before')]"
   ]
  },
  {
   "cell_type": "code",
   "execution_count": 3,
   "metadata": {
    "colab": {
     "base_uri": "https://localhost:8080/"
    },
    "executionInfo": {
     "elapsed": 9,
     "status": "ok",
     "timestamp": 1645204492545,
     "user": {
      "displayName": "Duval Tom",
      "photoUrl": "https://lh3.googleusercontent.com/a-/AOh14Gjt88ZFofxV4HthATzm7S8KXVD8W2ST3QJGw2msTg=s64",
      "userId": "09572485244870456708"
     },
     "user_tz": -60
    },
    "id": "OnvJ76OmuHhp",
    "outputId": "89a6ff08-bdbb-4132-f075-aade7548f95e"
   },
   "outputs": [
    {
     "data": {
      "text/plain": [
       "array(['Before'], dtype=object)"
      ]
     },
     "execution_count": 3,
     "metadata": {},
     "output_type": "execute_result"
    }
   ],
   "source": [
    "df['round'].unique()"
   ]
  },
  {
   "cell_type": "code",
   "execution_count": 4,
   "metadata": {
    "executionInfo": {
     "elapsed": 6,
     "status": "ok",
     "timestamp": 1645204492546,
     "user": {
      "displayName": "Duval Tom",
      "photoUrl": "https://lh3.googleusercontent.com/a-/AOh14Gjt88ZFofxV4HthATzm7S8KXVD8W2ST3QJGw2msTg=s64",
      "userId": "09572485244870456708"
     },
     "user_tz": -60
    },
    "id": "McV-WREAStCU"
   },
   "outputs": [],
   "source": [
    "features = ['poverty_index', 'age_hh', 'age_sp', 'educ_hh', 'educ_sp', 'female_hh', 'indigenous', 'hhsize', 'dirtfloor', 'bathroom', 'land', 'hospital_distance', 'park', 'sports']\n",
    "data, health = df[features], df[['health_expenditures']]"
   ]
  },
  {
   "cell_type": "markdown",
   "metadata": {
    "id": "MXZKNtybStCU"
   },
   "source": [
    "## Statistics of the dataset"
   ]
  },
  {
   "cell_type": "code",
   "execution_count": 5,
   "metadata": {
    "colab": {
     "base_uri": "https://localhost:8080/"
    },
    "executionInfo": {
     "elapsed": 6,
     "status": "ok",
     "timestamp": 1645204493276,
     "user": {
      "displayName": "Duval Tom",
      "photoUrl": "https://lh3.googleusercontent.com/a-/AOh14Gjt88ZFofxV4HthATzm7S8KXVD8W2ST3QJGw2msTg=s64",
      "userId": "09572485244870456708"
     },
     "user_tz": -60
    },
    "id": "42-aKJjx1anP",
    "outputId": "170df406-879b-42b0-b240-82f0ba60da39"
   },
   "outputs": [
    {
     "name": "stdout",
     "output_type": "stream",
     "text": [
      "<class 'pandas.core.frame.DataFrame'>\n",
      "Int64Index: 9913 entries, 0 to 19825\n",
      "Data columns (total 14 columns):\n",
      " #   Column             Non-Null Count  Dtype  \n",
      "---  ------             --------------  -----  \n",
      " 0   poverty_index      9913 non-null   float64\n",
      " 1   age_hh             9913 non-null   float64\n",
      " 2   age_sp             9913 non-null   int64  \n",
      " 3   educ_hh            9913 non-null   float64\n",
      " 4   educ_sp            9913 non-null   float64\n",
      " 5   female_hh          9913 non-null   int64  \n",
      " 6   indigenous         9913 non-null   int64  \n",
      " 7   hhsize             9913 non-null   int64  \n",
      " 8   dirtfloor          9913 non-null   int64  \n",
      " 9   bathroom           9913 non-null   int64  \n",
      " 10  land               9913 non-null   int64  \n",
      " 11  hospital_distance  9913 non-null   float64\n",
      " 12  park               9913 non-null   float64\n",
      " 13  sports             9913 non-null   int64  \n",
      "dtypes: float64(6), int64(8)\n",
      "memory usage: 1.1 MB\n"
     ]
    }
   ],
   "source": [
    "data.info()"
   ]
  },
  {
   "cell_type": "code",
   "execution_count": 6,
   "metadata": {
    "colab": {
     "base_uri": "https://localhost:8080/",
     "height": 364
    },
    "executionInfo": {
     "elapsed": 358,
     "status": "ok",
     "timestamp": 1645204494789,
     "user": {
      "displayName": "Duval Tom",
      "photoUrl": "https://lh3.googleusercontent.com/a-/AOh14Gjt88ZFofxV4HthATzm7S8KXVD8W2ST3QJGw2msTg=s64",
      "userId": "09572485244870456708"
     },
     "user_tz": -60
    },
    "id": "U6fDk-TIStCW",
    "outputId": "19390c2f-4409-4d81-891d-fc7f6a90e018"
   },
   "outputs": [
    {
     "data": {
      "text/html": [
       "<div>\n",
       "<style scoped>\n",
       "    .dataframe tbody tr th:only-of-type {\n",
       "        vertical-align: middle;\n",
       "    }\n",
       "\n",
       "    .dataframe tbody tr th {\n",
       "        vertical-align: top;\n",
       "    }\n",
       "\n",
       "    .dataframe thead th {\n",
       "        text-align: right;\n",
       "    }\n",
       "</style>\n",
       "<table border=\"1\" class=\"dataframe\">\n",
       "  <thead>\n",
       "    <tr style=\"text-align: right;\">\n",
       "      <th></th>\n",
       "      <th>poverty_index</th>\n",
       "      <th>age_hh</th>\n",
       "      <th>age_sp</th>\n",
       "      <th>educ_hh</th>\n",
       "      <th>educ_sp</th>\n",
       "      <th>female_hh</th>\n",
       "      <th>indigenous</th>\n",
       "      <th>hhsize</th>\n",
       "      <th>dirtfloor</th>\n",
       "      <th>bathroom</th>\n",
       "      <th>land</th>\n",
       "      <th>hospital_distance</th>\n",
       "      <th>park</th>\n",
       "      <th>sports</th>\n",
       "    </tr>\n",
       "  </thead>\n",
       "  <tbody>\n",
       "    <tr>\n",
       "      <th>count</th>\n",
       "      <td>9913.000000</td>\n",
       "      <td>9913.000000</td>\n",
       "      <td>9913.000000</td>\n",
       "      <td>9913.000000</td>\n",
       "      <td>9913.000000</td>\n",
       "      <td>9913.000000</td>\n",
       "      <td>9913.000000</td>\n",
       "      <td>9913.000000</td>\n",
       "      <td>9913.000000</td>\n",
       "      <td>9913.000000</td>\n",
       "      <td>9913.000000</td>\n",
       "      <td>9913.000000</td>\n",
       "      <td>9913.000000</td>\n",
       "      <td>9913.000000</td>\n",
       "    </tr>\n",
       "    <tr>\n",
       "      <th>mean</th>\n",
       "      <td>56.790404</td>\n",
       "      <td>46.200353</td>\n",
       "      <td>40.183900</td>\n",
       "      <td>2.833289</td>\n",
       "      <td>2.617573</td>\n",
       "      <td>0.099062</td>\n",
       "      <td>0.352870</td>\n",
       "      <td>5.178553</td>\n",
       "      <td>0.603652</td>\n",
       "      <td>0.615959</td>\n",
       "      <td>2.079492</td>\n",
       "      <td>105.319595</td>\n",
       "      <td>2.518121</td>\n",
       "      <td>5.524362</td>\n",
       "    </tr>\n",
       "    <tr>\n",
       "      <th>std</th>\n",
       "      <td>10.685997</td>\n",
       "      <td>15.285329</td>\n",
       "      <td>12.794188</td>\n",
       "      <td>2.754699</td>\n",
       "      <td>2.543095</td>\n",
       "      <td>0.298760</td>\n",
       "      <td>0.477887</td>\n",
       "      <td>2.195223</td>\n",
       "      <td>0.489163</td>\n",
       "      <td>0.486392</td>\n",
       "      <td>3.133165</td>\n",
       "      <td>42.063589</td>\n",
       "      <td>1.437306</td>\n",
       "      <td>2.870390</td>\n",
       "    </tr>\n",
       "    <tr>\n",
       "      <th>min</th>\n",
       "      <td>20.479134</td>\n",
       "      <td>14.000000</td>\n",
       "      <td>14.000000</td>\n",
       "      <td>0.000000</td>\n",
       "      <td>0.000000</td>\n",
       "      <td>0.000000</td>\n",
       "      <td>0.000000</td>\n",
       "      <td>1.000000</td>\n",
       "      <td>0.000000</td>\n",
       "      <td>0.000000</td>\n",
       "      <td>0.000000</td>\n",
       "      <td>9.465392</td>\n",
       "      <td>0.001000</td>\n",
       "      <td>1.000000</td>\n",
       "    </tr>\n",
       "    <tr>\n",
       "      <th>25%</th>\n",
       "      <td>49.652241</td>\n",
       "      <td>34.000000</td>\n",
       "      <td>30.000000</td>\n",
       "      <td>0.000000</td>\n",
       "      <td>0.000000</td>\n",
       "      <td>0.000000</td>\n",
       "      <td>0.000000</td>\n",
       "      <td>4.000000</td>\n",
       "      <td>0.000000</td>\n",
       "      <td>0.000000</td>\n",
       "      <td>0.000000</td>\n",
       "      <td>72.804218</td>\n",
       "      <td>1.278000</td>\n",
       "      <td>3.000000</td>\n",
       "    </tr>\n",
       "    <tr>\n",
       "      <th>50%</th>\n",
       "      <td>56.414219</td>\n",
       "      <td>45.000000</td>\n",
       "      <td>41.000000</td>\n",
       "      <td>2.000000</td>\n",
       "      <td>2.000000</td>\n",
       "      <td>0.000000</td>\n",
       "      <td>0.000000</td>\n",
       "      <td>5.000000</td>\n",
       "      <td>1.000000</td>\n",
       "      <td>1.000000</td>\n",
       "      <td>1.000000</td>\n",
       "      <td>113.556497</td>\n",
       "      <td>2.541000</td>\n",
       "      <td>6.000000</td>\n",
       "    </tr>\n",
       "    <tr>\n",
       "      <th>75%</th>\n",
       "      <td>62.905720</td>\n",
       "      <td>57.000000</td>\n",
       "      <td>47.000000</td>\n",
       "      <td>4.000000</td>\n",
       "      <td>4.000000</td>\n",
       "      <td>0.000000</td>\n",
       "      <td>1.000000</td>\n",
       "      <td>7.000000</td>\n",
       "      <td>1.000000</td>\n",
       "      <td>1.000000</td>\n",
       "      <td>3.000000</td>\n",
       "      <td>141.097735</td>\n",
       "      <td>3.749000</td>\n",
       "      <td>8.000000</td>\n",
       "    </tr>\n",
       "    <tr>\n",
       "      <th>max</th>\n",
       "      <td>100.000000</td>\n",
       "      <td>88.000000</td>\n",
       "      <td>87.000000</td>\n",
       "      <td>16.000000</td>\n",
       "      <td>17.000000</td>\n",
       "      <td>1.000000</td>\n",
       "      <td>1.000000</td>\n",
       "      <td>13.000000</td>\n",
       "      <td>1.000000</td>\n",
       "      <td>1.000000</td>\n",
       "      <td>23.000000</td>\n",
       "      <td>170.457647</td>\n",
       "      <td>5.008000</td>\n",
       "      <td>10.000000</td>\n",
       "    </tr>\n",
       "  </tbody>\n",
       "</table>\n",
       "</div>"
      ],
      "text/plain": [
       "       poverty_index       age_hh       age_sp      educ_hh      educ_sp  \\\n",
       "count    9913.000000  9913.000000  9913.000000  9913.000000  9913.000000   \n",
       "mean       56.790404    46.200353    40.183900     2.833289     2.617573   \n",
       "std        10.685997    15.285329    12.794188     2.754699     2.543095   \n",
       "min        20.479134    14.000000    14.000000     0.000000     0.000000   \n",
       "25%        49.652241    34.000000    30.000000     0.000000     0.000000   \n",
       "50%        56.414219    45.000000    41.000000     2.000000     2.000000   \n",
       "75%        62.905720    57.000000    47.000000     4.000000     4.000000   \n",
       "max       100.000000    88.000000    87.000000    16.000000    17.000000   \n",
       "\n",
       "         female_hh   indigenous       hhsize    dirtfloor     bathroom  \\\n",
       "count  9913.000000  9913.000000  9913.000000  9913.000000  9913.000000   \n",
       "mean      0.099062     0.352870     5.178553     0.603652     0.615959   \n",
       "std       0.298760     0.477887     2.195223     0.489163     0.486392   \n",
       "min       0.000000     0.000000     1.000000     0.000000     0.000000   \n",
       "25%       0.000000     0.000000     4.000000     0.000000     0.000000   \n",
       "50%       0.000000     0.000000     5.000000     1.000000     1.000000   \n",
       "75%       0.000000     1.000000     7.000000     1.000000     1.000000   \n",
       "max       1.000000     1.000000    13.000000     1.000000     1.000000   \n",
       "\n",
       "              land  hospital_distance         park       sports  \n",
       "count  9913.000000        9913.000000  9913.000000  9913.000000  \n",
       "mean      2.079492         105.319595     2.518121     5.524362  \n",
       "std       3.133165          42.063589     1.437306     2.870390  \n",
       "min       0.000000           9.465392     0.001000     1.000000  \n",
       "25%       0.000000          72.804218     1.278000     3.000000  \n",
       "50%       1.000000         113.556497     2.541000     6.000000  \n",
       "75%       3.000000         141.097735     3.749000     8.000000  \n",
       "max      23.000000         170.457647     5.008000    10.000000  "
      ]
     },
     "execution_count": 6,
     "metadata": {},
     "output_type": "execute_result"
    }
   ],
   "source": [
    "data.describe()"
   ]
  },
  {
   "cell_type": "code",
   "execution_count": 7,
   "metadata": {
    "colab": {
     "base_uri": "https://localhost:8080/",
     "height": 300
    },
    "executionInfo": {
     "elapsed": 4,
     "status": "ok",
     "timestamp": 1645204495251,
     "user": {
      "displayName": "Duval Tom",
      "photoUrl": "https://lh3.googleusercontent.com/a-/AOh14Gjt88ZFofxV4HthATzm7S8KXVD8W2ST3QJGw2msTg=s64",
      "userId": "09572485244870456708"
     },
     "user_tz": -60
    },
    "id": "8NZQ69dclQqC",
    "outputId": "b54be3da-667e-4dce-843a-f85388cff158"
   },
   "outputs": [
    {
     "data": {
      "text/html": [
       "<div>\n",
       "<style scoped>\n",
       "    .dataframe tbody tr th:only-of-type {\n",
       "        vertical-align: middle;\n",
       "    }\n",
       "\n",
       "    .dataframe tbody tr th {\n",
       "        vertical-align: top;\n",
       "    }\n",
       "\n",
       "    .dataframe thead th {\n",
       "        text-align: right;\n",
       "    }\n",
       "</style>\n",
       "<table border=\"1\" class=\"dataframe\">\n",
       "  <thead>\n",
       "    <tr style=\"text-align: right;\">\n",
       "      <th></th>\n",
       "      <th>health_expenditures</th>\n",
       "    </tr>\n",
       "  </thead>\n",
       "  <tbody>\n",
       "    <tr>\n",
       "      <th>count</th>\n",
       "      <td>9913.000000</td>\n",
       "    </tr>\n",
       "    <tr>\n",
       "      <th>mean</th>\n",
       "      <td>17.210985</td>\n",
       "    </tr>\n",
       "    <tr>\n",
       "      <th>std</th>\n",
       "      <td>5.588098</td>\n",
       "    </tr>\n",
       "    <tr>\n",
       "      <th>min</th>\n",
       "      <td>6.252154</td>\n",
       "    </tr>\n",
       "    <tr>\n",
       "      <th>25%</th>\n",
       "      <td>13.021940</td>\n",
       "    </tr>\n",
       "    <tr>\n",
       "      <th>50%</th>\n",
       "      <td>16.839489</td>\n",
       "    </tr>\n",
       "    <tr>\n",
       "      <th>75%</th>\n",
       "      <td>21.053459</td>\n",
       "    </tr>\n",
       "    <tr>\n",
       "      <th>max</th>\n",
       "      <td>35.626358</td>\n",
       "    </tr>\n",
       "  </tbody>\n",
       "</table>\n",
       "</div>"
      ],
      "text/plain": [
       "       health_expenditures\n",
       "count          9913.000000\n",
       "mean             17.210985\n",
       "std               5.588098\n",
       "min               6.252154\n",
       "25%              13.021940\n",
       "50%              16.839489\n",
       "75%              21.053459\n",
       "max              35.626358"
      ]
     },
     "execution_count": 7,
     "metadata": {},
     "output_type": "execute_result"
    }
   ],
   "source": [
    "health.describe()"
   ]
  },
  {
   "cell_type": "markdown",
   "metadata": {
    "id": "AsqAWvlmuqEi"
   },
   "source": [
    "On copie les données avant de les trnsformer"
   ]
  },
  {
   "cell_type": "code",
   "execution_count": 9,
   "metadata": {
    "executionInfo": {
     "elapsed": 3,
     "status": "ok",
     "timestamp": 1645204496349,
     "user": {
      "displayName": "Duval Tom",
      "photoUrl": "https://lh3.googleusercontent.com/a-/AOh14Gjt88ZFofxV4HthATzm7S8KXVD8W2ST3QJGw2msTg=s64",
      "userId": "09572485244870456708"
     },
     "user_tz": -60
    },
    "id": "nlvKQklq6n5f"
   },
   "outputs": [],
   "source": [
    "data_copy, health_copy = data.copy(), health.copy()"
   ]
  },
  {
   "cell_type": "code",
   "execution_count": 10,
   "metadata": {
    "colab": {
     "base_uri": "https://localhost:8080/",
     "height": 312
    },
    "executionInfo": {
     "elapsed": 607,
     "status": "ok",
     "timestamp": 1645204497977,
     "user": {
      "displayName": "Duval Tom",
      "photoUrl": "https://lh3.googleusercontent.com/a-/AOh14Gjt88ZFofxV4HthATzm7S8KXVD8W2ST3QJGw2msTg=s64",
      "userId": "09572485244870456708"
     },
     "user_tz": -60
    },
    "id": "97XWBj7AiNYX",
    "outputId": "307a617d-9408-45fe-dea5-51a2418b29af"
   },
   "outputs": [
    {
     "data": {
      "text/plain": [
       "Text(0, 0.5, 'Fréquence')"
      ]
     },
     "execution_count": 10,
     "metadata": {},
     "output_type": "execute_result"
    },
    {
     "data": {
      "image/png": "[encoded data removed]",
      "text/plain": [
       "<Figure size 432x288 with 1 Axes>"
      ]
     },
     "metadata": {
      "needs_background": "light"
     },
     "output_type": "display_data"
    }
   ],
   "source": [
    "labels = ['Homme', 'Femme']\n",
    "hh_woman = pd.value_counts(df['female_hh'], sort=True)\n",
    "hh_woman.plot(kind = 'bar')\n",
    "plt.title(\"Distribution de chef de foyer par genre\")\n",
    "plt.xticks(range(2), labels)\n",
    "plt.xlabel('Genre')\n",
    "plt.ylabel('Fréquence')"
   ]
  },
  {
   "cell_type": "code",
   "execution_count": 11,
   "metadata": {
    "colab": {
     "base_uri": "https://localhost:8080/",
     "height": 298
    },
    "executionInfo": {
     "elapsed": 371,
     "status": "ok",
     "timestamp": 1645204498633,
     "user": {
      "displayName": "Duval Tom",
      "photoUrl": "https://lh3.googleusercontent.com/a-/AOh14Gjt88ZFofxV4HthATzm7S8KXVD8W2ST3QJGw2msTg=s64",
      "userId": "09572485244870456708"
     },
     "user_tz": -60
    },
    "id": "Iuk8AFcJl09p",
    "outputId": "70b56d50-8f5b-4ab2-8fd6-8644bb185cc3"
   },
   "outputs": [
    {
     "data": {
      "text/plain": [
       "Text(0, 0.5, 'Fréquence')"
      ]
     },
     "execution_count": 11,
     "metadata": {},
     "output_type": "execute_result"
    },
    {
     "data": {
      "image/png": "[encoded data removed]",
      "text/plain": [
       "<Figure size 432x288 with 1 Axes>"
      ]
     },
     "metadata": {
      "needs_background": "light"
     },
     "output_type": "display_data"
    }
   ],
   "source": [
    "labels = ['Non', 'Oui']\n",
    "hh_woman = pd.value_counts(df['bathroom'], sort=True)\n",
    "hh_woman.plot(kind = 'bar')\n",
    "plt.title(\"Distribution de maisons comprenant une salle de bain\")\n",
    "plt.xticks(range(2), labels)\n",
    "plt.ylabel('Fréquence')"
   ]
  },
  {
   "cell_type": "markdown",
   "metadata": {
    "id": "NnvZ5haNwzhI"
   },
   "source": [
    "## \"First linear model\""
   ]
  },
  {
   "cell_type": "code",
   "execution_count": 12,
   "metadata": {
    "executionInfo": {
     "elapsed": 4,
     "status": "ok",
     "timestamp": 1645204500260,
     "user": {
      "displayName": "Duval Tom",
      "photoUrl": "https://lh3.googleusercontent.com/a-/AOh14Gjt88ZFofxV4HthATzm7S8KXVD8W2ST3QJGw2msTg=s64",
      "userId": "09572485244870456708"
     },
     "user_tz": -60
    },
    "id": "RpahA3bs63Dj"
   },
   "outputs": [],
   "source": [
    "from sklearn.model_selection import train_test_split\n",
    "\n",
    "data_train, data_test, health_train, health_test = train_test_split(data_copy, health_copy, test_size = 0.2)"
   ]
  },
  {
   "cell_type": "code",
   "execution_count": 13,
   "metadata": {
    "executionInfo": {
     "elapsed": 309,
     "status": "ok",
     "timestamp": 1645206536791,
     "user": {
      "displayName": "Duval Tom",
      "photoUrl": "https://lh3.googleusercontent.com/a-/AOh14Gjt88ZFofxV4HthATzm7S8KXVD8W2ST3QJGw2msTg=s64",
      "userId": "09572485244870456708"
     },
     "user_tz": -60
    },
    "id": "lfZm67X-dvOQ"
   },
   "outputs": [],
   "source": [
    "from sklearn.preprocessing import StandardScaler, PolynomialFeatures\n",
    "from sklearn.pipeline import Pipeline\n",
    "from sklearn import linear_model as lm\n",
    "\n",
    "transformations = Pipeline([\n",
    "    ('scaler', StandardScaler()), \n",
    "    ('poly', PolynomialFeatures(4))\n",
    "    ])\n",
    "\n",
    "data_train_prepared = transformations.fit_transform(data_train)\n",
    "data_test_prepared = transformations.transform(data_test)"
   ]
  },
  {
   "cell_type": "code",
   "execution_count": 14,
   "metadata": {
    "executionInfo": {
     "elapsed": 31053,
     "status": "ok",
     "timestamp": 1645206569036,
     "user": {
      "displayName": "Duval Tom",
      "photoUrl": "https://lh3.googleusercontent.com/a-/AOh14Gjt88ZFofxV4HthATzm7S8KXVD8W2ST3QJGw2msTg=s64",
      "userId": "09572485244870456708"
     },
     "user_tz": -60
    },
    "id": "h4bnkGYafT4u"
   },
   "outputs": [],
   "source": [
    "from sklearn import linear_model as lm\n",
    "\n",
    "mod = lm.LinearRegression()\n",
    "mod.fit(data_train_prepared, health_train)\n",
    "train_predictions = mod.predict(data_train_prepared)\n",
    "predictions = mod.predict(data_test_prepared)"
   ]
  },
  {
   "cell_type": "code",
   "execution_count": 15,
   "metadata": {
    "executionInfo": {
     "elapsed": 6,
     "status": "ok",
     "timestamp": 1645206569037,
     "user": {
      "displayName": "Duval Tom",
      "photoUrl": "https://lh3.googleusercontent.com/a-/AOh14Gjt88ZFofxV4HthATzm7S8KXVD8W2ST3QJGw2msTg=s64",
      "userId": "09572485244870456708"
     },
     "user_tz": -60
    },
    "id": "yvPkFdiehzQs"
   },
   "outputs": [],
   "source": [
    "def RMSE(predictions, labels):\n",
    "  return np.sqrt(((predictions-labels)**2).mean())"
   ]
  },
  {
   "cell_type": "code",
   "execution_count": 16,
   "metadata": {
    "colab": {
     "base_uri": "https://localhost:8080/"
    },
    "executionInfo": {
     "elapsed": 29,
     "status": "ok",
     "timestamp": 1645206572561,
     "user": {
      "displayName": "Duval Tom",
      "photoUrl": "https://lh3.googleusercontent.com/a-/AOh14Gjt88ZFofxV4HthATzm7S8KXVD8W2ST3QJGw2msTg=s64",
      "userId": "09572485244870456708"
     },
     "user_tz": -60
    },
    "id": "YyZCimvVcU_e",
    "outputId": "85c666af-0647-4cf6-9adf-010dc3a1a33e"
   },
   "outputs": [
    {
     "data": {
      "text/plain": [
       "0.46504941257286264"
      ]
     },
     "execution_count": 16,
     "metadata": {},
     "output_type": "execute_result"
    }
   ],
   "source": [
    "RMSE(train_predictions, health_train.to_numpy())"
   ]
  },
  {
   "cell_type": "code",
   "execution_count": 17,
   "metadata": {
    "colab": {
     "base_uri": "https://localhost:8080/"
    },
    "executionInfo": {
     "elapsed": 412,
     "status": "ok",
     "timestamp": 1645206822691,
     "user": {
      "displayName": "Duval Tom",
      "photoUrl": "https://lh3.googleusercontent.com/a-/AOh14Gjt88ZFofxV4HthATzm7S8KXVD8W2ST3QJGw2msTg=s64",
      "userId": "09572485244870456708"
     },
     "user_tz": -60
    },
    "id": "Vkp0u-S363Do",
    "outputId": "e7f736a4-8bc5-4090-a050-808ad3b64271"
   },
   "outputs": [
    {
     "data": {
      "text/plain": [
       "47564803.78635748"
      ]
     },
     "execution_count": 17,
     "metadata": {},
     "output_type": "execute_result"
    }
   ],
   "source": [
    "RMSE(predictions, health_test.to_numpy())"
   ]
  },
  {
   "cell_type": "code",
   "execution_count": 18,
   "metadata": {
    "colab": {
     "base_uri": "https://localhost:8080/"
    },
    "executionInfo": {
     "elapsed": 274,
     "status": "ok",
     "timestamp": 1645206827939,
     "user": {
      "displayName": "Duval Tom",
      "photoUrl": "https://lh3.googleusercontent.com/a-/AOh14Gjt88ZFofxV4HthATzm7S8KXVD8W2ST3QJGw2msTg=s64",
      "userId": "09572485244870456708"
     },
     "user_tz": -60
    },
    "id": "v0kLwbpQtoZv",
    "outputId": "14caf7c9-0ed2-4803-f232-5ff4e2dd0294"
   },
   "outputs": [
    {
     "data": {
      "text/plain": [
       "(1, 3060)"
      ]
     },
     "execution_count": 18,
     "metadata": {},
     "output_type": "execute_result"
    }
   ],
   "source": [
    "mod.coef_.shape"
   ]
  },
  {
   "cell_type": "code",
   "execution_count": 19,
   "metadata": {
    "colab": {
     "base_uri": "https://localhost:8080/"
    },
    "executionInfo": {
     "elapsed": 2,
     "status": "ok",
     "timestamp": 1645206828357,
     "user": {
      "displayName": "Duval Tom",
      "photoUrl": "https://lh3.googleusercontent.com/a-/AOh14Gjt88ZFofxV4HthATzm7S8KXVD8W2ST3QJGw2msTg=s64",
      "userId": "09572485244870456708"
     },
     "user_tz": -60
    },
    "id": "DiyS4HMJtsGz",
    "outputId": "24ec98fe-10cf-42fd-dd09-3c895487d6fb"
   },
   "outputs": [
    {
     "data": {
      "text/plain": [
       "array([-3.55784294e+09])"
      ]
     },
     "execution_count": 19,
     "metadata": {},
     "output_type": "execute_result"
    }
   ],
   "source": [
    "mod.intercept_"
   ]
  },
  {
   "cell_type": "markdown",
   "metadata": {
    "id": "CMreVbC5rfx-"
   },
   "source": [
    "Il faut éviter que notre modèle fasse de l'overfitting et donc le rendre capable d'accepter de nouvelles donées"
   ]
  },
  {
   "cell_type": "code",
   "execution_count": 20,
   "metadata": {
    "executionInfo": {
     "elapsed": 3602,
     "status": "ok",
     "timestamp": 1645206840108,
     "user": {
      "displayName": "Duval Tom",
      "photoUrl": "https://lh3.googleusercontent.com/a-/AOh14Gjt88ZFofxV4HthATzm7S8KXVD8W2ST3QJGw2msTg=s64",
      "userId": "09572485244870456708"
     },
     "user_tz": -60
    },
    "id": "vgjgZyvsinln"
   },
   "outputs": [],
   "source": [
    "reg = lm.Ridge(alpha=1)\n",
    "reg.fit(data_train_prepared, health_train)\n",
    "train_predictions_reg = reg.predict(data_train_prepared)\n",
    "test_predictions_reg = reg.predict(data_test_prepared)"
   ]
  },
  {
   "cell_type": "code",
   "execution_count": 21,
   "metadata": {
    "colab": {
     "base_uri": "https://localhost:8080/"
    },
    "executionInfo": {
     "elapsed": 12,
     "status": "ok",
     "timestamp": 1645206840109,
     "user": {
      "displayName": "Duval Tom",
      "photoUrl": "https://lh3.googleusercontent.com/a-/AOh14Gjt88ZFofxV4HthATzm7S8KXVD8W2ST3QJGw2msTg=s64",
      "userId": "09572485244870456708"
     },
     "user_tz": -60
    },
    "id": "FCDixFg4xs98",
    "outputId": "9e546923-3564-4446-8aa7-d9b7d132408c"
   },
   "outputs": [
    {
     "data": {
      "text/plain": [
       "0.46533471740089816"
      ]
     },
     "execution_count": 21,
     "metadata": {},
     "output_type": "execute_result"
    }
   ],
   "source": [
    "RMSE(train_predictions_reg, health_train.to_numpy())"
   ]
  },
  {
   "cell_type": "code",
   "execution_count": 22,
   "metadata": {
    "colab": {
     "base_uri": "https://localhost:8080/"
    },
    "executionInfo": {
     "elapsed": 10,
     "status": "ok",
     "timestamp": 1645206840109,
     "user": {
      "displayName": "Duval Tom",
      "photoUrl": "https://lh3.googleusercontent.com/a-/AOh14Gjt88ZFofxV4HthATzm7S8KXVD8W2ST3QJGw2msTg=s64",
      "userId": "09572485244870456708"
     },
     "user_tz": -60
    },
    "id": "0kQdvNcEss6t",
    "outputId": "62c9a10d-48dd-4bbb-995d-5c15330def45"
   },
   "outputs": [
    {
     "data": {
      "text/plain": [
       "1.0866071851176708"
      ]
     },
     "execution_count": 22,
     "metadata": {},
     "output_type": "execute_result"
    }
   ],
   "source": [
    "RMSE(test_predictions_reg, health_test.to_numpy())"
   ]
  },
  {
   "cell_type": "code",
   "execution_count": 23,
   "metadata": {
    "colab": {
     "base_uri": "https://localhost:8080/"
    },
    "executionInfo": {
     "elapsed": 8,
     "status": "ok",
     "timestamp": 1645206840109,
     "user": {
      "displayName": "Duval Tom",
      "photoUrl": "https://lh3.googleusercontent.com/a-/AOh14Gjt88ZFofxV4HthATzm7S8KXVD8W2ST3QJGw2msTg=s64",
      "userId": "09572485244870456708"
     },
     "user_tz": -60
    },
    "id": "uvg1t4eLs9Ua",
    "outputId": "e88cd779-af83-42a7-9e4c-69409a250985"
   },
   "outputs": [
    {
     "data": {
      "text/plain": [
       "array([[ 0.00000000e+00,  1.68759547e-01,  3.17644082e-01, ...,\n",
       "         1.96600357e-04,  7.61548293e-05, -4.17166623e-05]])"
      ]
     },
     "execution_count": 23,
     "metadata": {},
     "output_type": "execute_result"
    }
   ],
   "source": [
    "reg.coef_"
   ]
  },
  {
   "cell_type": "code",
   "execution_count": 24,
   "metadata": {
    "colab": {
     "base_uri": "https://localhost:8080/"
    },
    "executionInfo": {
     "elapsed": 7,
     "status": "ok",
     "timestamp": 1645206840110,
     "user": {
      "displayName": "Duval Tom",
      "photoUrl": "https://lh3.googleusercontent.com/a-/AOh14Gjt88ZFofxV4HthATzm7S8KXVD8W2ST3QJGw2msTg=s64",
      "userId": "09572485244870456708"
     },
     "user_tz": -60
    },
    "id": "hcJGsjwNtQgY",
    "outputId": "9074750c-47c2-4457-9fa4-0f7da0b5cc93"
   },
   "outputs": [
    {
     "data": {
      "text/plain": [
       "array([18.21175294])"
      ]
     },
     "execution_count": 24,
     "metadata": {},
     "output_type": "execute_result"
    }
   ],
   "source": [
    "reg.intercept_"
   ]
  },
  {
   "cell_type": "markdown",
   "metadata": {
    "id": "8TjHxW3_hPAp"
   },
   "source": [
    "On montre la matrice des corrélations avec les health_expenditures"
   ]
  },
  {
   "cell_type": "code",
   "execution_count": 25,
   "metadata": {
    "colab": {
     "base_uri": "https://localhost:8080/"
    },
    "executionInfo": {
     "elapsed": 288,
     "status": "ok",
     "timestamp": 1645206241245,
     "user": {
      "displayName": "Duval Tom",
      "photoUrl": "https://lh3.googleusercontent.com/a-/AOh14Gjt88ZFofxV4HthATzm7S8KXVD8W2ST3QJGw2msTg=s64",
      "userId": "09572485244870456708"
     },
     "user_tz": -60
    },
    "id": "16xXtgmihMLG",
    "outputId": "43f11c2d-5dc6-461b-cae1-b7673284eac0"
   },
   "outputs": [
    {
     "data": {
      "text/plain": [
       "hhsize                -0.831935\n",
       "dirtfloor             -0.306881\n",
       "indigenous            -0.301266\n",
       "hospital_distance     -0.072443\n",
       "educ_hh               -0.054454\n",
       "educ_sp               -0.031894\n",
       "park                  -0.008692\n",
       "sports                -0.001626\n",
       "bathroom               0.040592\n",
       "land                   0.120880\n",
       "age_sp                 0.278128\n",
       "female_hh              0.279530\n",
       "age_hh                 0.379201\n",
       "poverty_index          0.559055\n",
       "health_expenditures    1.000000\n",
       "Name: health_expenditures, dtype: float64"
      ]
     },
     "execution_count": 25,
     "metadata": {},
     "output_type": "execute_result"
    }
   ],
   "source": [
    "corr = df[['poverty_index', 'age_hh', 'age_sp', 'educ_hh', 'educ_sp', 'female_hh', 'indigenous', 'hhsize', 'dirtfloor', 'bathroom', 'land', 'hospital_distance', 'park', 'sports', 'health_expenditures']]\n",
    "corr_matrix = corr.corr()\n",
    "corr_matrix['health_expenditures'].sort_values()"
   ]
  },
  {
   "cell_type": "markdown",
   "metadata": {
    "id": "Jlk_R1j1nBEd"
   },
   "source": [
    "## 2ème partie : Deuxième modèle : arbre de décision\n"
   ]
  },
  {
   "cell_type": "code",
   "execution_count": 26,
   "metadata": {},
   "outputs": [
    {
     "data": {
      "text/plain": [
       "DecisionTreeRegressor(random_state=42)"
      ]
     },
     "execution_count": 26,
     "metadata": {},
     "output_type": "execute_result"
    }
   ],
   "source": [
    "from sklearn.tree import DecisionTreeRegressor\n",
    "#DecisionTreeRegressor class has many parameters. Input only #random_state=0 or 42.\n",
    "regressor = DecisionTreeRegressor(random_state=42)\n",
    "#Fit the regressor object to the dataset.\n",
    "regressor.fit(data,health)"
   ]
  },
  {
   "cell_type": "code",
   "execution_count": 27,
   "metadata": {},
   "outputs": [
    {
     "ename": "ValueError",
     "evalue": "X has 1 features, but DecisionTreeRegressor is expecting 14 features as input.",
     "output_type": "error",
     "traceback": [
      "\u001b[1;31m---------------------------------------------------------------------------\u001b[0m",
      "\u001b[1;31mValueError\u001b[0m                                Traceback (most recent call last)",
      "\u001b[1;32m<ipython-input-27-6d7a6781d65f>\u001b[0m in \u001b[0;36m<module>\u001b[1;34m\u001b[0m\n\u001b[0;32m      1\u001b[0m \u001b[1;31m# predicting a new value\u001b[0m\u001b[1;33m\u001b[0m\u001b[1;33m\u001b[0m\u001b[1;33m\u001b[0m\u001b[0m\n\u001b[0;32m      2\u001b[0m \u001b[1;33m\u001b[0m\u001b[0m\n\u001b[1;32m----> 3\u001b[1;33m \u001b[0my_pred\u001b[0m \u001b[1;33m=\u001b[0m \u001b[0mregressor\u001b[0m\u001b[1;33m.\u001b[0m\u001b[0mpredict\u001b[0m\u001b[1;33m(\u001b[0m\u001b[1;33m[\u001b[0m\u001b[1;33m[\u001b[0m\u001b[1;36m100\u001b[0m\u001b[1;33m]\u001b[0m\u001b[1;33m]\u001b[0m\u001b[1;33m)\u001b[0m\u001b[1;33m\u001b[0m\u001b[1;33m\u001b[0m\u001b[0m\n\u001b[0m",
      "\u001b[1;32m~\\anaconda3\\lib\\site-packages\\sklearn\\tree\\_classes.py\u001b[0m in \u001b[0;36mpredict\u001b[1;34m(self, X, check_input)\u001b[0m\n\u001b[0;32m    435\u001b[0m         \"\"\"\n\u001b[0;32m    436\u001b[0m         \u001b[0mcheck_is_fitted\u001b[0m\u001b[1;33m(\u001b[0m\u001b[0mself\u001b[0m\u001b[1;33m)\u001b[0m\u001b[1;33m\u001b[0m\u001b[1;33m\u001b[0m\u001b[0m\n\u001b[1;32m--> 437\u001b[1;33m         \u001b[0mX\u001b[0m \u001b[1;33m=\u001b[0m \u001b[0mself\u001b[0m\u001b[1;33m.\u001b[0m\u001b[0m_validate_X_predict\u001b[0m\u001b[1;33m(\u001b[0m\u001b[0mX\u001b[0m\u001b[1;33m,\u001b[0m \u001b[0mcheck_input\u001b[0m\u001b[1;33m)\u001b[0m\u001b[1;33m\u001b[0m\u001b[1;33m\u001b[0m\u001b[0m\n\u001b[0m\u001b[0;32m    438\u001b[0m         \u001b[0mproba\u001b[0m \u001b[1;33m=\u001b[0m \u001b[0mself\u001b[0m\u001b[1;33m.\u001b[0m\u001b[0mtree_\u001b[0m\u001b[1;33m.\u001b[0m\u001b[0mpredict\u001b[0m\u001b[1;33m(\u001b[0m\u001b[0mX\u001b[0m\u001b[1;33m)\u001b[0m\u001b[1;33m\u001b[0m\u001b[1;33m\u001b[0m\u001b[0m\n\u001b[0;32m    439\u001b[0m         \u001b[0mn_samples\u001b[0m \u001b[1;33m=\u001b[0m \u001b[0mX\u001b[0m\u001b[1;33m.\u001b[0m\u001b[0mshape\u001b[0m\u001b[1;33m[\u001b[0m\u001b[1;36m0\u001b[0m\u001b[1;33m]\u001b[0m\u001b[1;33m\u001b[0m\u001b[1;33m\u001b[0m\u001b[0m\n",
      "\u001b[1;32m~\\anaconda3\\lib\\site-packages\\sklearn\\tree\\_classes.py\u001b[0m in \u001b[0;36m_validate_X_predict\u001b[1;34m(self, X, check_input)\u001b[0m\n\u001b[0;32m    400\u001b[0m         \u001b[1;34m\"\"\"Validate the training data on predict (probabilities).\"\"\"\u001b[0m\u001b[1;33m\u001b[0m\u001b[1;33m\u001b[0m\u001b[0m\n\u001b[0;32m    401\u001b[0m         \u001b[1;32mif\u001b[0m \u001b[0mcheck_input\u001b[0m\u001b[1;33m:\u001b[0m\u001b[1;33m\u001b[0m\u001b[1;33m\u001b[0m\u001b[0m\n\u001b[1;32m--> 402\u001b[1;33m             X = self._validate_data(X, dtype=DTYPE, accept_sparse=\"csr\",\n\u001b[0m\u001b[0;32m    403\u001b[0m                                     reset=False)\n\u001b[0;32m    404\u001b[0m             if issparse(X) and (X.indices.dtype != np.intc or\n",
      "\u001b[1;32m~\\anaconda3\\lib\\site-packages\\sklearn\\base.py\u001b[0m in \u001b[0;36m_validate_data\u001b[1;34m(self, X, y, reset, validate_separately, **check_params)\u001b[0m\n\u001b[0;32m    435\u001b[0m \u001b[1;33m\u001b[0m\u001b[0m\n\u001b[0;32m    436\u001b[0m         \u001b[1;32mif\u001b[0m \u001b[0mcheck_params\u001b[0m\u001b[1;33m.\u001b[0m\u001b[0mget\u001b[0m\u001b[1;33m(\u001b[0m\u001b[1;34m'ensure_2d'\u001b[0m\u001b[1;33m,\u001b[0m \u001b[1;32mTrue\u001b[0m\u001b[1;33m)\u001b[0m\u001b[1;33m:\u001b[0m\u001b[1;33m\u001b[0m\u001b[1;33m\u001b[0m\u001b[0m\n\u001b[1;32m--> 437\u001b[1;33m             \u001b[0mself\u001b[0m\u001b[1;33m.\u001b[0m\u001b[0m_check_n_features\u001b[0m\u001b[1;33m(\u001b[0m\u001b[0mX\u001b[0m\u001b[1;33m,\u001b[0m \u001b[0mreset\u001b[0m\u001b[1;33m=\u001b[0m\u001b[0mreset\u001b[0m\u001b[1;33m)\u001b[0m\u001b[1;33m\u001b[0m\u001b[1;33m\u001b[0m\u001b[0m\n\u001b[0m\u001b[0;32m    438\u001b[0m \u001b[1;33m\u001b[0m\u001b[0m\n\u001b[0;32m    439\u001b[0m         \u001b[1;32mreturn\u001b[0m \u001b[0mout\u001b[0m\u001b[1;33m\u001b[0m\u001b[1;33m\u001b[0m\u001b[0m\n",
      "\u001b[1;32m~\\anaconda3\\lib\\site-packages\\sklearn\\base.py\u001b[0m in \u001b[0;36m_check_n_features\u001b[1;34m(self, X, reset)\u001b[0m\n\u001b[0;32m    363\u001b[0m \u001b[1;33m\u001b[0m\u001b[0m\n\u001b[0;32m    364\u001b[0m         \u001b[1;32mif\u001b[0m \u001b[0mn_features\u001b[0m \u001b[1;33m!=\u001b[0m \u001b[0mself\u001b[0m\u001b[1;33m.\u001b[0m\u001b[0mn_features_in_\u001b[0m\u001b[1;33m:\u001b[0m\u001b[1;33m\u001b[0m\u001b[1;33m\u001b[0m\u001b[0m\n\u001b[1;32m--> 365\u001b[1;33m             raise ValueError(\n\u001b[0m\u001b[0;32m    366\u001b[0m                 \u001b[1;34mf\"X has {n_features} features, but {self.__class__.__name__} \"\u001b[0m\u001b[1;33m\u001b[0m\u001b[1;33m\u001b[0m\u001b[0m\n\u001b[0;32m    367\u001b[0m                 f\"is expecting {self.n_features_in_} features as input.\")\n",
      "\u001b[1;31mValueError\u001b[0m: X has 1 features, but DecisionTreeRegressor is expecting 14 features as input."
     ]
    }
   ],
   "source": [
    "# predicting a new value\n",
    "\n",
    "y_pred = regressor.predict([[100]])\n"
   ]
  },
  {
   "cell_type": "code",
   "execution_count": null,
   "metadata": {},
   "outputs": [],
   "source": []
  },
  {
   "cell_type": "code",
   "execution_count": null,
   "metadata": {},
   "outputs": [],
   "source": []
  }
 ],
 "metadata": {
  "colab": {
   "collapsed_sections": [],
   "name": "Final_DSpart.ipynb",
   "provenance": []
  },
  "interpreter": {
   "hash": "aee8b7b246df8f9039afb4144a1f6fd8d2ca17a180786b69acc140d282b71a49"
  },
  "kernelspec": {
   "display_name": "Python 3 (ipykernel)",
   "language": "python",
   "name": "python3"
  },
  "language_info": {
   "codemirror_mode": {
    "name": "ipython",
    "version": 3
   },
   "file_extension": ".py",
   "mimetype": "text/x-python",
   "name": "python",
   "nbconvert_exporter": "python",
   "pygments_lexer": "ipython3",
   "version": "3.9.7"
  }
 },
 "nbformat": 4,
 "nbformat_minor": 4
}
